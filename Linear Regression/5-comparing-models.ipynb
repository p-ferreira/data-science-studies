{
 "metadata": {
  "language_info": {
   "codemirror_mode": {
    "name": "ipython",
    "version": 3
   },
   "file_extension": ".py",
   "mimetype": "text/x-python",
   "name": "python",
   "nbconvert_exporter": "python",
   "pygments_lexer": "ipython3",
   "version": "3.8.5"
  },
  "orig_nbformat": 2,
  "kernelspec": {
   "name": "python385jvsc74a57bd0694c8744488563f6cd2d93f9dc805a9ad929a19bb6157c2d6f3cab25a4c31ca1",
   "display_name": "Python 3.8.5 64-bit (conda)"
  }
 },
 "nbformat": 4,
 "nbformat_minor": 2,
 "cells": [
  {
   "cell_type": "code",
   "execution_count": 3,
   "metadata": {},
   "outputs": [],
   "source": [
    "import matplotlib.pyplot as plt\n",
    "%matplotlib inline\n",
    "\n",
    "import pandas as pd\n",
    "import numpy as np\n",
    "import seaborn as sns\n",
    "\n",
    "from sklearn.model_selection import train_test_split\n",
    "from sklearn.linear_model import LinearRegression\n",
    "from sklearn import metrics\n",
    "\n",
    "\n",
    "data = pd.read_csv('data/beer_consumption.csv', sep = ';')"
   ]
  },
  {
   "source": [
    "# <font color = 'red' style = 'font-size: 30px;'> Comparing Models </font>\n",
    "<hr style = 'border: 2px solid red;'>"
   ],
   "cell_type": "markdown",
   "metadata": {}
  },
  {
   "source": [
    "## Estimating a new model with the substitution of the explanatory variable Maximum Temperature for Average Temperatuda"
   ],
   "cell_type": "markdown",
   "metadata": {}
  },
  {
   "cell_type": "code",
   "execution_count": 8,
   "metadata": {},
   "outputs": [],
   "source": [
    "X = data[['max_temp', 'rain', 'weekend']]\n",
    "X2 = data[['mean_temp', 'rain', 'weekend']]\n",
    "y = data['consumption']"
   ]
  },
  {
   "source": [
    "## Creating the training and test datasets"
   ],
   "cell_type": "markdown",
   "metadata": {}
  },
  {
   "source": [
    "#max temp\n",
    "X_train, X_test, y_train, y_test = train_test_split(X, y, test_size= 0.3, random_state= 2811)\n",
    "\n",
    "#mean temp\n",
    "X2_train, X2_test, y2_train, y2_test = train_test_split(X2, y, test_size=0.3, random_state= 2811)"
   ],
   "cell_type": "code",
   "metadata": {},
   "execution_count": 11,
   "outputs": []
  },
  {
   "source": [
    "## Instantiating the class * LinearRegression() *"
   ],
   "cell_type": "markdown",
   "metadata": {}
  },
  {
   "cell_type": "code",
   "execution_count": 12,
   "metadata": {},
   "outputs": [],
   "source": [
    "#max temp\n",
    "model = LinearRegression()\n",
    "\n",
    "#mean teamp\n",
    "model_2 = LinearRegression()"
   ]
  },
  {
   "source": [
    "## Using the * fit () * method of the \"model_2\" object to estimate our linear model using TRAINING data (y2_train and X2_train)"
   ],
   "cell_type": "markdown",
   "metadata": {}
  },
  {
   "cell_type": "code",
   "execution_count": 13,
   "metadata": {},
   "outputs": [
    {
     "output_type": "execute_result",
     "data": {
      "text/plain": [
       "LinearRegression()"
      ]
     },
     "metadata": {},
     "execution_count": 13
    }
   ],
   "source": [
    "#max temp\n",
    "model.fit(X_train, y_train)\n",
    "\n",
    "#mean temp\n",
    "model_2.fit(X2_train, y2_train)"
   ]
  },
  {
   "source": [
    "## Obtaining the coefficient of determination (R²) of the new estimated model and comparing it with the result of the previous model"
   ],
   "cell_type": "markdown",
   "metadata": {}
  },
  {
   "cell_type": "code",
   "execution_count": 14,
   "metadata": {},
   "outputs": [
    {
     "output_type": "stream",
     "name": "stdout",
     "text": [
      "Model with max temp\nR^2 = 0.73\n"
     ]
    }
   ],
   "source": [
    "print('Model with max temp')\n",
    "print('R^2 = {}'.format(model.score(X_train, y_train).round(2)))"
   ]
  },
  {
   "cell_type": "code",
   "execution_count": 17,
   "metadata": {},
   "outputs": [
    {
     "output_type": "stream",
     "name": "stdout",
     "text": [
      "Model with mean temp\nR^2 = 0.66\n"
     ]
    }
   ],
   "source": [
    "print('Model with mean temp')\n",
    "print('R^2 = {}'.format(model_2.score(X2_train, y2_train).round(2)))"
   ]
  },
  {
   "source": [
    "## Generating forecasts for TEST data (X_test and X2_test) using the * predict () * method of the \"model\" and \"model_2\" objects"
   ],
   "cell_type": "markdown",
   "metadata": {}
  },
  {
   "cell_type": "code",
   "execution_count": 18,
   "metadata": {},
   "outputs": [],
   "source": [
    "predicted_y = model.predict(X_test)\n",
    "predicted_y_2 = model_2.predict(X2_test)"
   ]
  },
  {
   "source": [
    "## Obtaining the coefficient of determination (R²) for the predictions of the two models"
   ],
   "cell_type": "markdown",
   "metadata": {}
  },
  {
   "cell_type": "code",
   "execution_count": 21,
   "metadata": {},
   "outputs": [
    {
     "output_type": "stream",
     "name": "stdout",
     "text": [
      "Model with mean temp\nR^2 = 0.66\n"
     ]
    }
   ],
   "source": [
    "print('Model with mean temp')\n",
    "print('R^2 = {}'.format(metrics.r2_score(y2_test, predicted_y_2).round(2)))"
   ]
  },
  {
   "cell_type": "code",
   "execution_count": 22,
   "metadata": {},
   "outputs": [
    {
     "output_type": "stream",
     "name": "stdout",
     "text": [
      "Model with max temp\nR^2 = 0.69\n"
     ]
    }
   ],
   "source": [
    "print('Model with max temp')\n",
    "print('R^2 = {}'.format(metrics.r2_score(y_test, predicted_y).round(2)))"
   ]
  },
  {
   "source": [
    "# <font color = 'red' style = 'font-size: 30px;'> Other Regression Metrics </font>\n",
    "<hr style = 'border: 2px solid red;'>"
   ],
   "cell_type": "markdown",
   "metadata": {}
  },
  {
   "source": [
    "## Regression metrics\n",
    "<hr>\n",
    "\n",
    "source: https://scikit-learn.org/stable/modules/model_evaluation.html#regression-metrics\n",
    "\n",
    "Some statistics obtained from the regression model are very useful as a criterion for comparing estimated models and selecting the best model. The main regression metrics that scikit-learn makes available for linear models are as follows:\n",
    "\n",
    "### Mean Squared Error\n",
    "\n",
    "Mean of squares of errors. Better settings have a lower $EQM$.\n",
    "\n",
    "$$EQM(y, \\hat{y}) = \\frac 1n\\sum_{i=0}^{n-1}(y_i-\\hat{y}_i)^2$$\n",
    "\n",
    "### Root of the Mean Squared Error\n",
    "\n",
    "Square root of the mean of the squares of the errors. Better settings have a lower $\\sqrt{EQM}$.\n",
    "\n",
    "$$\\sqrt{EQM(y, \\hat{y})} = \\sqrt{\\frac 1n\\sum_{i=0}^{n-1}(y_i-\\hat{y}_i)^2}$$"
   ],
   "cell_type": "markdown",
   "metadata": {}
  },
  {
   "source": [
    "## Obtaining metrics for the Average Temperature model"
   ],
   "cell_type": "markdown",
   "metadata": {}
  },
  {
   "cell_type": "code",
   "execution_count": 28,
   "metadata": {},
   "outputs": [
    {
     "output_type": "execute_result",
     "data": {
      "text/plain": [
       "             Metrics\n",
       "MSE       6060775.46\n",
       "SQRT MSE     2461.86\n",
       "R^2             0.66"
      ],
      "text/html": "<div>\n<style scoped>\n    .dataframe tbody tr th:only-of-type {\n        vertical-align: middle;\n    }\n\n    .dataframe tbody tr th {\n        vertical-align: top;\n    }\n\n    .dataframe thead th {\n        text-align: right;\n    }\n</style>\n<table border=\"1\" class=\"dataframe\">\n  <thead>\n    <tr style=\"text-align: right;\">\n      <th></th>\n      <th>Metrics</th>\n    </tr>\n  </thead>\n  <tbody>\n    <tr>\n      <th>MSE</th>\n      <td>6060775.46</td>\n    </tr>\n    <tr>\n      <th>SQRT MSE</th>\n      <td>2461.86</td>\n    </tr>\n    <tr>\n      <th>R^2</th>\n      <td>0.66</td>\n    </tr>\n  </tbody>\n</table>\n</div>"
     },
     "metadata": {},
     "execution_count": 28
    }
   ],
   "source": [
    "mse_2 = metrics.mean_squared_error(y2_test, predicted_y_2).round(2)\n",
    "sqrt_mse_2 = np.sqrt(mse_2).round(2)\n",
    "r2_2 = metrics.r2_score(y2_test, predicted_y_2).round(2)\n",
    "\n",
    "pd.DataFrame([mse_2, sqrt_mse_2, r2_2], ['MSE', 'SQRT MSE', 'R^2'], columns=['Metrics'])"
   ]
  },
  {
   "source": [
    "## Obtaining metrics for the Max Temperature model"
   ],
   "cell_type": "markdown",
   "metadata": {}
  },
  {
   "cell_type": "code",
   "execution_count": 30,
   "metadata": {},
   "outputs": [
    {
     "output_type": "execute_result",
     "data": {
      "text/plain": [
       "             Metrics\n",
       "MSE       5471976.38\n",
       "SQRT MSE     2339.23\n",
       "R^2             0.69"
      ],
      "text/html": "<div>\n<style scoped>\n    .dataframe tbody tr th:only-of-type {\n        vertical-align: middle;\n    }\n\n    .dataframe tbody tr th {\n        vertical-align: top;\n    }\n\n    .dataframe thead th {\n        text-align: right;\n    }\n</style>\n<table border=\"1\" class=\"dataframe\">\n  <thead>\n    <tr style=\"text-align: right;\">\n      <th></th>\n      <th>Metrics</th>\n    </tr>\n  </thead>\n  <tbody>\n    <tr>\n      <th>MSE</th>\n      <td>5471976.38</td>\n    </tr>\n    <tr>\n      <th>SQRT MSE</th>\n      <td>2339.23</td>\n    </tr>\n    <tr>\n      <th>R^2</th>\n      <td>0.69</td>\n    </tr>\n  </tbody>\n</table>\n</div>"
     },
     "metadata": {},
     "execution_count": 30
    }
   ],
   "source": [
    "mse = metrics.mean_squared_error(y_test, predicted_y).round(2)\n",
    "sqrt_mse = np.sqrt(mse).round(2)\n",
    "r2 = metrics.r2_score(y_test, predicted_y).round(2)\n",
    "\n",
    "pd.DataFrame([mse, sqrt_mse, r2], ['MSE', 'SQRT MSE', 'R^2'], columns=['Metrics'])"
   ]
  }
 ]
}