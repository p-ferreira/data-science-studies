{
 "metadata": {
  "language_info": {
   "codemirror_mode": {
    "name": "ipython",
    "version": 3
   },
   "file_extension": ".py",
   "mimetype": "text/x-python",
   "name": "python",
   "nbconvert_exporter": "python",
   "pygments_lexer": "ipython3",
   "version": "3.8.5"
  },
  "orig_nbformat": 2,
  "kernelspec": {
   "name": "python385jvsc74a57bd0694c8744488563f6cd2d93f9dc805a9ad929a19bb6157c2d6f3cab25a4c31ca1",
   "display_name": "Python 3.8.5 64-bit (conda)"
  }
 },
 "nbformat": 4,
 "nbformat_minor": 2,
 "cells": [
  {
   "source": [
    "<h1 style='color: green; font-size: 36px; font-weight: bold;'>Data Science - Linear regression</h1>\n",
    "\n",
    "\n",
    "### Study of the dependence of a variable in relation to one or more variables"
   ],
   "cell_type": "markdown",
   "metadata": {}
  },
  {
   "source": [
    "# <font color='red' style='font-size: 30px;'>Knowing the dataset</font>\n",
    "<hr style='border: 2px solid;'>"
   ],
   "cell_type": "markdown",
   "metadata": {}
  },
  {
   "source": [
    "## Importing libraries\n",
    "\n",
    "https://matplotlib.org/\n",
    "\n",
    "https://pandas.pydata.org/\n",
    "\n",
    "http://www.numpy.org/"
   ],
   "cell_type": "markdown",
   "metadata": {}
  },
  {
   "cell_type": "code",
   "execution_count": 2,
   "metadata": {},
   "outputs": [],
   "source": [
    "import matplotlib.pyplot as plt\n",
    "%matplotlib inline\n",
    "\n",
    "import pandas as pd\n",
    "import numpy as np"
   ]
  },
  {
   "source": [
    "## The Dataset and the Project\n",
    "<hr>\n",
    "\n",
    "### Source: https://www.kaggle.com/dongeorge/beer-consumption-sao-paulo\n",
    "\n",
    "### Description:\n",
    "<p style = 'font-size: 18px; line-height: 2; margin: 10px 50px; text-align: justify; '> Beer is one of the most democratic and consumed drinks in the world. Not without reason, it is perfect for almost every situation, from happy hour to large wedding parties. </p>\n",
    "\n",
    "<p style = 'font-size: 18px; line-height: 2; margin: 10px 50px; text-align: justify; '> The objective of this training will be to estimate a <b> Machine Learning </b> model using the <b> Linear Regression </b> technique to demonstrate the impacts of the variables provided in this dataset on the beer consumption (Y). At the end of the project, we will have a forecast model for the average beer consumption according to the inputs of a set of variables (X's). </p>\n",
    "\n",
    "<p style = 'font-size: 18px; line-height: 2; margin: 10px 50px; text-align: justify; '> The data (sample) was collected in São Paulo - Brazil, in a university area, where there are some parties with groups of students from 18 to 28 years old (average). </p>\n",
    "\n",
    "### Data:\n",
    "<ul style = 'font-size: 18px; line-height: 2; text-align: justify; '>\n",
    "    <li> <b> date </b> - Date</li>\n",
    "    <li> <b> mean_temp </b> - Average Temperature (° C) </li>\n",
    "    <li> <b> min_temp </b> - Minimum Temperature (° C) </li>\n",
    "    <li> <b> max_temp </b> - Maximum Temperature (° C) </li>\n",
    "    <li> <b> rain </b> - Precipitation (mm) </li>\n",
    "    <li> <b> weekend </b> - Weekend (1 = Yes; 0 = No) </li>\n",
    "    <li> <b> consumption </b> - Beer consumption (liters) </li>\n",
    "</ul>"
   ],
   "cell_type": "markdown",
   "metadata": {}
  },
  {
   "source": [
    "## Reading the data"
   ],
   "cell_type": "markdown",
   "metadata": {}
  },
  {
   "cell_type": "code",
   "execution_count": 7,
   "metadata": {},
   "outputs": [],
   "source": [
    "data = pd.read_csv('data/beer_consumption.csv', sep = ';')"
   ]
  },
  {
   "source": [
    "## Visualizing the data"
   ],
   "cell_type": "markdown",
   "metadata": {}
  },
  {
   "cell_type": "code",
   "execution_count": 13,
   "metadata": {},
   "outputs": [
    {
     "output_type": "execute_result",
     "data": {
      "text/plain": [
       "           date  mean_temp  min_temp  max_temp  rain  weekend  consumption\n",
       "0    01/01/2015      27.30      23.9      32.5   0.0        0        25461\n",
       "1    02/01/2015      27.02      24.5      33.5   0.0        0        28972\n",
       "2    03/01/2015      24.82      22.4      29.9   0.0        1        30814\n",
       "3    04/01/2015      23.98      21.5      28.6   1.2        1        29799\n",
       "4    05/01/2015      23.82      21.0      28.3   0.0        0        28900\n",
       "..          ...        ...       ...       ...   ...      ...          ...\n",
       "360  27/12/2015      24.00      21.1      28.2  13.6        1        32307\n",
       "361  28/12/2015      22.64      21.1      26.7   0.0        0        26095\n",
       "362  29/12/2015      21.68      20.3      24.1  10.3        0        22309\n",
       "363  30/12/2015      21.38      19.3      22.4   6.3        0        20467\n",
       "364  31/12/2015      24.76      20.2      29.0   0.0        0        22446\n",
       "\n",
       "[365 rows x 7 columns]"
      ],
      "text/html": "<div>\n<style scoped>\n    .dataframe tbody tr th:only-of-type {\n        vertical-align: middle;\n    }\n\n    .dataframe tbody tr th {\n        vertical-align: top;\n    }\n\n    .dataframe thead th {\n        text-align: right;\n    }\n</style>\n<table border=\"1\" class=\"dataframe\">\n  <thead>\n    <tr style=\"text-align: right;\">\n      <th></th>\n      <th>date</th>\n      <th>mean_temp</th>\n      <th>min_temp</th>\n      <th>max_temp</th>\n      <th>rain</th>\n      <th>weekend</th>\n      <th>consumption</th>\n    </tr>\n  </thead>\n  <tbody>\n    <tr>\n      <th>0</th>\n      <td>01/01/2015</td>\n      <td>27.30</td>\n      <td>23.9</td>\n      <td>32.5</td>\n      <td>0.0</td>\n      <td>0</td>\n      <td>25461</td>\n    </tr>\n    <tr>\n      <th>1</th>\n      <td>02/01/2015</td>\n      <td>27.02</td>\n      <td>24.5</td>\n      <td>33.5</td>\n      <td>0.0</td>\n      <td>0</td>\n      <td>28972</td>\n    </tr>\n    <tr>\n      <th>2</th>\n      <td>03/01/2015</td>\n      <td>24.82</td>\n      <td>22.4</td>\n      <td>29.9</td>\n      <td>0.0</td>\n      <td>1</td>\n      <td>30814</td>\n    </tr>\n    <tr>\n      <th>3</th>\n      <td>04/01/2015</td>\n      <td>23.98</td>\n      <td>21.5</td>\n      <td>28.6</td>\n      <td>1.2</td>\n      <td>1</td>\n      <td>29799</td>\n    </tr>\n    <tr>\n      <th>4</th>\n      <td>05/01/2015</td>\n      <td>23.82</td>\n      <td>21.0</td>\n      <td>28.3</td>\n      <td>0.0</td>\n      <td>0</td>\n      <td>28900</td>\n    </tr>\n    <tr>\n      <th>...</th>\n      <td>...</td>\n      <td>...</td>\n      <td>...</td>\n      <td>...</td>\n      <td>...</td>\n      <td>...</td>\n      <td>...</td>\n    </tr>\n    <tr>\n      <th>360</th>\n      <td>27/12/2015</td>\n      <td>24.00</td>\n      <td>21.1</td>\n      <td>28.2</td>\n      <td>13.6</td>\n      <td>1</td>\n      <td>32307</td>\n    </tr>\n    <tr>\n      <th>361</th>\n      <td>28/12/2015</td>\n      <td>22.64</td>\n      <td>21.1</td>\n      <td>26.7</td>\n      <td>0.0</td>\n      <td>0</td>\n      <td>26095</td>\n    </tr>\n    <tr>\n      <th>362</th>\n      <td>29/12/2015</td>\n      <td>21.68</td>\n      <td>20.3</td>\n      <td>24.1</td>\n      <td>10.3</td>\n      <td>0</td>\n      <td>22309</td>\n    </tr>\n    <tr>\n      <th>363</th>\n      <td>30/12/2015</td>\n      <td>21.38</td>\n      <td>19.3</td>\n      <td>22.4</td>\n      <td>6.3</td>\n      <td>0</td>\n      <td>20467</td>\n    </tr>\n    <tr>\n      <th>364</th>\n      <td>31/12/2015</td>\n      <td>24.76</td>\n      <td>20.2</td>\n      <td>29.0</td>\n      <td>0.0</td>\n      <td>0</td>\n      <td>22446</td>\n    </tr>\n  </tbody>\n</table>\n<p>365 rows × 7 columns</p>\n</div>"
     },
     "metadata": {},
     "execution_count": 13
    }
   ],
   "source": [
    "data"
   ]
  },
  {
   "source": [
    "## Verifying the dataset size"
   ],
   "cell_type": "markdown",
   "metadata": {}
  },
  {
   "cell_type": "code",
   "execution_count": 9,
   "metadata": {},
   "outputs": [
    {
     "output_type": "execute_result",
     "data": {
      "text/plain": [
       "365"
      ]
     },
     "metadata": {},
     "execution_count": 9
    }
   ],
   "source": [
    "len(data)"
   ]
  },
  {
   "cell_type": "code",
   "execution_count": null,
   "metadata": {},
   "outputs": [],
   "source": []
  },
  {
   "source": [
    "# <font color = 'red' style = 'font-size: 30px;'> Preliminary Analysis </font>\n",
    "<hr style = 'border: 2px solid red;'>"
   ],
   "cell_type": "markdown",
   "metadata": {}
  },
  {
   "source": [
    "## Descriptive statistics"
   ],
   "cell_type": "markdown",
   "metadata": {}
  },
  {
   "cell_type": "code",
   "execution_count": 14,
   "metadata": {},
   "outputs": [
    {
     "output_type": "execute_result",
     "data": {
      "text/plain": [
       "       mean_temp  min_temp  max_temp    rain  weekend  consumption\n",
       "count     365.00    365.00    365.00  365.00   365.00       365.00\n",
       "mean       21.23     17.46     26.61    5.20     0.28     25401.37\n",
       "std         3.18      2.83      4.32   12.42     0.45      4399.14\n",
       "min        12.90     10.60     14.50    0.00     0.00     14343.00\n",
       "25%        19.02     15.30     23.80    0.00     0.00     22008.00\n",
       "50%        21.38     17.90     26.90    0.00     0.00     24867.00\n",
       "75%        23.28     19.60     29.40    3.20     1.00     28631.00\n",
       "max        28.86     24.50     36.50   94.80     1.00     37937.00"
      ],
      "text/html": "<div>\n<style scoped>\n    .dataframe tbody tr th:only-of-type {\n        vertical-align: middle;\n    }\n\n    .dataframe tbody tr th {\n        vertical-align: top;\n    }\n\n    .dataframe thead th {\n        text-align: right;\n    }\n</style>\n<table border=\"1\" class=\"dataframe\">\n  <thead>\n    <tr style=\"text-align: right;\">\n      <th></th>\n      <th>mean_temp</th>\n      <th>min_temp</th>\n      <th>max_temp</th>\n      <th>rain</th>\n      <th>weekend</th>\n      <th>consumption</th>\n    </tr>\n  </thead>\n  <tbody>\n    <tr>\n      <th>count</th>\n      <td>365.00</td>\n      <td>365.00</td>\n      <td>365.00</td>\n      <td>365.00</td>\n      <td>365.00</td>\n      <td>365.00</td>\n    </tr>\n    <tr>\n      <th>mean</th>\n      <td>21.23</td>\n      <td>17.46</td>\n      <td>26.61</td>\n      <td>5.20</td>\n      <td>0.28</td>\n      <td>25401.37</td>\n    </tr>\n    <tr>\n      <th>std</th>\n      <td>3.18</td>\n      <td>2.83</td>\n      <td>4.32</td>\n      <td>12.42</td>\n      <td>0.45</td>\n      <td>4399.14</td>\n    </tr>\n    <tr>\n      <th>min</th>\n      <td>12.90</td>\n      <td>10.60</td>\n      <td>14.50</td>\n      <td>0.00</td>\n      <td>0.00</td>\n      <td>14343.00</td>\n    </tr>\n    <tr>\n      <th>25%</th>\n      <td>19.02</td>\n      <td>15.30</td>\n      <td>23.80</td>\n      <td>0.00</td>\n      <td>0.00</td>\n      <td>22008.00</td>\n    </tr>\n    <tr>\n      <th>50%</th>\n      <td>21.38</td>\n      <td>17.90</td>\n      <td>26.90</td>\n      <td>0.00</td>\n      <td>0.00</td>\n      <td>24867.00</td>\n    </tr>\n    <tr>\n      <th>75%</th>\n      <td>23.28</td>\n      <td>19.60</td>\n      <td>29.40</td>\n      <td>3.20</td>\n      <td>1.00</td>\n      <td>28631.00</td>\n    </tr>\n    <tr>\n      <th>max</th>\n      <td>28.86</td>\n      <td>24.50</td>\n      <td>36.50</td>\n      <td>94.80</td>\n      <td>1.00</td>\n      <td>37937.00</td>\n    </tr>\n  </tbody>\n</table>\n</div>"
     },
     "metadata": {},
     "execution_count": 14
    }
   ],
   "source": [
    "data.describe().round(2)"
   ]
  },
  {
   "source": [
    "## Correlation matrix\n",
    "\n",
    "<p style = 'font-size: 18px; line-height: 2; margin: 10px 50px; text-align: justify; '> The <b> correlation coefficient </b> is a measure of linear association between two variables and lies between <b> -1 </b> and <b> +1 </ b> where <b> -1 </b> indicates perfect negative association and <b> +1 </b> indicates perfect positive association. </p>"
   ],
   "cell_type": "markdown",
   "metadata": {}
  },
  {
   "cell_type": "code",
   "execution_count": 15,
   "metadata": {},
   "outputs": [
    {
     "output_type": "execute_result",
     "data": {
      "text/plain": [
       "             mean_temp  min_temp  max_temp  rain  weekend  consumption\n",
       "mean_temp         1.00      0.86      0.92  0.02    -0.05         0.57\n",
       "min_temp          0.86      1.00      0.67  0.10    -0.06         0.39\n",
       "max_temp          0.92      0.67      1.00 -0.05    -0.04         0.64\n",
       "rain              0.02      0.10     -0.05  1.00     0.00        -0.19\n",
       "weekend          -0.05     -0.06     -0.04  0.00     1.00         0.51\n",
       "consumption       0.57      0.39      0.64 -0.19     0.51         1.00"
      ],
      "text/html": "<div>\n<style scoped>\n    .dataframe tbody tr th:only-of-type {\n        vertical-align: middle;\n    }\n\n    .dataframe tbody tr th {\n        vertical-align: top;\n    }\n\n    .dataframe thead th {\n        text-align: right;\n    }\n</style>\n<table border=\"1\" class=\"dataframe\">\n  <thead>\n    <tr style=\"text-align: right;\">\n      <th></th>\n      <th>mean_temp</th>\n      <th>min_temp</th>\n      <th>max_temp</th>\n      <th>rain</th>\n      <th>weekend</th>\n      <th>consumption</th>\n    </tr>\n  </thead>\n  <tbody>\n    <tr>\n      <th>mean_temp</th>\n      <td>1.00</td>\n      <td>0.86</td>\n      <td>0.92</td>\n      <td>0.02</td>\n      <td>-0.05</td>\n      <td>0.57</td>\n    </tr>\n    <tr>\n      <th>min_temp</th>\n      <td>0.86</td>\n      <td>1.00</td>\n      <td>0.67</td>\n      <td>0.10</td>\n      <td>-0.06</td>\n      <td>0.39</td>\n    </tr>\n    <tr>\n      <th>max_temp</th>\n      <td>0.92</td>\n      <td>0.67</td>\n      <td>1.00</td>\n      <td>-0.05</td>\n      <td>-0.04</td>\n      <td>0.64</td>\n    </tr>\n    <tr>\n      <th>rain</th>\n      <td>0.02</td>\n      <td>0.10</td>\n      <td>-0.05</td>\n      <td>1.00</td>\n      <td>0.00</td>\n      <td>-0.19</td>\n    </tr>\n    <tr>\n      <th>weekend</th>\n      <td>-0.05</td>\n      <td>-0.06</td>\n      <td>-0.04</td>\n      <td>0.00</td>\n      <td>1.00</td>\n      <td>0.51</td>\n    </tr>\n    <tr>\n      <th>consumption</th>\n      <td>0.57</td>\n      <td>0.39</td>\n      <td>0.64</td>\n      <td>-0.19</td>\n      <td>0.51</td>\n      <td>1.00</td>\n    </tr>\n  </tbody>\n</table>\n</div>"
     },
     "metadata": {},
     "execution_count": 15
    }
   ],
   "source": [
    "data.corr().round(2)"
   ]
  }
 ]
}