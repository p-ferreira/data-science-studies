{
 "metadata": {
  "language_info": {
   "codemirror_mode": {
    "name": "ipython",
    "version": 3
   },
   "file_extension": ".py",
   "mimetype": "text/x-python",
   "name": "python",
   "nbconvert_exporter": "python",
   "pygments_lexer": "ipython3",
   "version": "3.8.5"
  },
  "orig_nbformat": 2,
  "kernelspec": {
   "name": "python385jvsc74a57bd0694c8744488563f6cd2d93f9dc805a9ad929a19bb6157c2d6f3cab25a4c31ca1",
   "display_name": "Python 3.8.5 64-bit (conda)"
  }
 },
 "nbformat": 4,
 "nbformat_minor": 2,
 "cells": [
  {
   "source": [
    "import matplotlib.pyplot as plt\n",
    "%matplotlib inline\n",
    "\n",
    "import pandas as pd\n",
    "import numpy as np\n",
    "import seaborn as sns\n",
    "\n",
    "from sklearn.model_selection import train_test_split\n",
    "from sklearn.linear_model import LinearRegression\n",
    "from sklearn import metrics\n",
    "\n",
    "\n",
    "data = pd.read_csv('data/beer_consumption.csv', sep = ';')"
   ],
   "cell_type": "code",
   "metadata": {},
   "execution_count": 1,
   "outputs": []
  },
  {
   "source": [
    "# <font color = 'red' style = 'font-size: 30px;'> Saving and Loading the Estimated Model </font>\n",
    "<hr style = 'border: 2px solid red;'>"
   ],
   "cell_type": "markdown",
   "metadata": {}
  },
  {
   "source": [
    "## Input data"
   ],
   "cell_type": "markdown",
   "metadata": {}
  },
  {
   "cell_type": "code",
   "execution_count": 7,
   "metadata": {},
   "outputs": [
    {
     "output_type": "execute_result",
     "data": {
      "text/plain": [
       "   max_temp  rain  weekend\n",
       "5      30.5  12.2        0"
      ],
      "text/html": "<div>\n<style scoped>\n    .dataframe tbody tr th:only-of-type {\n        vertical-align: middle;\n    }\n\n    .dataframe tbody tr th {\n        vertical-align: top;\n    }\n\n    .dataframe thead th {\n        text-align: right;\n    }\n</style>\n<table border=\"1\" class=\"dataframe\">\n  <thead>\n    <tr style=\"text-align: right;\">\n      <th></th>\n      <th>max_temp</th>\n      <th>rain</th>\n      <th>weekend</th>\n    </tr>\n  </thead>\n  <tbody>\n    <tr>\n      <th>5</th>\n      <td>30.5</td>\n      <td>12.2</td>\n      <td>0</td>\n    </tr>\n  </tbody>\n</table>\n</div>"
     },
     "metadata": {},
     "execution_count": 7
    }
   ],
   "source": [
    "X = data[['max_temp', 'rain', 'weekend']]\n",
    "y = data['consumption']\n",
    "\n",
    "X_train, X_test, y_train, y_test = train_test_split(X, y, test_size= 0.3, random_state= 2811)\n",
    "\n",
    "model = LinearRegression()\n",
    "model.fit(X_train, y_train)\n",
    "\n",
    "X_test[0:1]"
   ]
  },
  {
   "cell_type": "code",
   "execution_count": 5,
   "metadata": {},
   "outputs": [],
   "source": [
    "input = X_test[0:1]"
   ]
  },
  {
   "source": [
    "## Generating punctual forecast"
   ],
   "cell_type": "markdown",
   "metadata": {}
  },
  {
   "cell_type": "code",
   "execution_count": 8,
   "metadata": {},
   "outputs": [
    {
     "output_type": "execute_result",
     "data": {
      "text/plain": [
       "26094.901775262017"
      ]
     },
     "metadata": {},
     "execution_count": 8
    }
   ],
   "source": [
    "model.predict(input)[0]"
   ]
  },
  {
   "source": [
    "## Creating a simple simulator"
   ],
   "cell_type": "markdown",
   "metadata": {}
  },
  {
   "source": [
    "max_temp = 30.5\n",
    "rain=12.2\n",
    "weekend=0\n",
    "input=[[max_temp, rain, weekend]]\n",
    "\n",
    "print('{0:.2f} liters'.format(model.predict(input)[0]))"
   ],
   "cell_type": "code",
   "metadata": {},
   "execution_count": 9,
   "outputs": [
    {
     "output_type": "stream",
     "name": "stdout",
     "text": [
      "26094.90 liters\n"
     ]
    }
   ]
  },
  {
   "source": [
    "## Saving the estimated model\n",
    "\n",
    "## pickle (https://docs.python.org/3/library/pickle.html)\n",
    "\n",
    "<p style = 'font-size: 20px; line-height: 2; margin: 10px 50px; text-align: justify; '> The <b> pickle </b> module implements binary protocols to serialize and deserialize the structure of a Python object. </p>"
   ],
   "cell_type": "markdown",
   "metadata": {}
  },
  {
   "cell_type": "code",
   "execution_count": 11,
   "metadata": {},
   "outputs": [],
   "source": [
    "import pickle"
   ]
  },
  {
   "cell_type": "code",
   "execution_count": 12,
   "metadata": {},
   "outputs": [],
   "source": [
    "output = open('beer_consumption_model', 'wb')\n",
    "pickle.dump(model, output)\n",
    "output.close()"
   ]
  },
  {
   "source": [
    "### On a new Python notebook / project\n",
    "\n",
    "<h4 style = 'color: blue; font-weight: normal '> In [1]: </h4>\n",
    "\n",
    "`` sh\n",
    "import pickle\n",
    "\n",
    "modelo = open ('modelo_consumo_cerveja', 'rb')\n",
    "lm_new = pickle.load (model)\n",
    "model.close ()\n",
    "\n",
    "temp_max = 30.5\n",
    "rain = 12.2\n",
    "fds = 0\n",
    "entry = [[temp_max, rain, weekend]]\n",
    "print ('{0: .2f} liters'.format (lm_new.predict (entry) [0]))\n",
    "``\n",
    "\n",
    "<h4 style = 'color: red; font-weight: normal '> Out [1]: </h4>\n",
    "\n",
    "``\n",
    "26094.90 liters\n",
    "``"
   ],
   "cell_type": "markdown",
   "metadata": {}
  },
  {
   "cell_type": "code",
   "execution_count": 14,
   "metadata": {},
   "outputs": [
    {
     "output_type": "stream",
     "name": "stdout",
     "text": [
      " 26094.90 liters\n"
     ]
    }
   ],
   "source": [
    "import pickle\n",
    "\n",
    "imported_model = open('beer_consumption_model', 'rb')\n",
    "lm_new = pickle.load(imported_model)\n",
    "imported_model.close()\n",
    "\n",
    "max_temp = 30.5\n",
    "rain = 12.2\n",
    "weekend = 0\n",
    "entry = [[max_temp, rain, weekend]]\n",
    "print ('{0: .2f} liters'.format (lm_new.predict (entry) [0]))"
   ]
  }
 ]
}