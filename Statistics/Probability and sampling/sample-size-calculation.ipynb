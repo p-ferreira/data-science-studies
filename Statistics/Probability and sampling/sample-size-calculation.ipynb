{
 "metadata": {
  "language_info": {
   "codemirror_mode": {
    "name": "ipython",
    "version": 3
   },
   "file_extension": ".py",
   "mimetype": "text/x-python",
   "name": "python",
   "nbconvert_exporter": "python",
   "pygments_lexer": "ipython3",
   "version": "3.8.5"
  },
  "orig_nbformat": 2,
  "kernelspec": {
   "name": "python385jvsc74a57bd0694c8744488563f6cd2d93f9dc805a9ad929a19bb6157c2d6f3cab25a4c31ca1",
   "display_name": "Python 3.8.5 64-bit (conda)"
  }
 },
 "nbformat": 4,
 "nbformat_minor": 2,
 "cells": [
  {
   "source": [
    "import pandas as pd\n",
    "import numpy as np\n",
    "from scipy.stats import norm\n",
    "\n",
    "data = pd.read_csv('data/data.csv', ',')"
   ],
   "cell_type": "code",
   "metadata": {},
   "execution_count": 10,
   "outputs": []
  },
  {
   "source": [
    "# <font color=green>Sample size calculation</font>\n",
    "***"
   ],
   "cell_type": "markdown",
   "metadata": {}
  },
  {
   "source": [
    "## <font color = 'red'> Problem </font>\n",
    "\n",
    "We are studying the monthly income of heads of households with an income of up to R$\\$$ 5,000.00 in Brazil. Our supervisor determined that the ** maximum error in relation to the average is R$\\$$ 10.00 **. We know that the ** population standard deviation ** of this group of workers is ** R$\\$$ 1,082.79 **. For a ** 95% confidence level **, what should the sample size of our study be?"
   ],
   "cell_type": "markdown",
   "metadata": {}
  },
  {
   "source": [
    "## <font color = green> Quantitative variables and infinite population </font>\n",
    "***"
   ],
   "cell_type": "markdown",
   "metadata": {}
  },
  {
   "source": [
    "# $$e = z \\frac{\\sigma}{\\sqrt{n}}$$"
   ],
   "cell_type": "markdown",
   "metadata": {}
  },
  {
   "source": [
    "#### With known standard deviation\n",
    "\n",
    "## $$n = \\left (z\\frac{\\sigma}{e}\\right) ^ 2 $$\n",
    "\n",
    "#### With unknown standard deviation\n",
    "\n",
    "## $$n = \\left (z\\frac {s} {e} \\right) ^ 2 $$\n",
    "\n",
    "Where:\n",
    "\n",
    "$ z $ = standard normalized variable\n",
    "\n",
    "$\\sigma $ = population standard deviation\n",
    "\n",
    "$ s $ = sample standard deviation\n",
    "\n",
    "$ e $ = inferential error"
   ],
   "cell_type": "markdown",
   "metadata": {}
  },
  {
   "source": [
    "### <font color = 'red'> Observations </font>\n",
    "\n",
    "1. The standard deviation ($ \\ sigma $ or $ s $) and the error ($ and $) must be in the same unit of measure.\n",
    "\n",
    "2. When the error ($ and $) is represented in percentage terms, it must be interpreted as a percentage related to the average."
   ],
   "cell_type": "markdown",
   "metadata": {}
  },
  {
   "source": [
    "## <font color = 'blue'> Example: Average Income </font>\n",
    "\n",
    "We are studying the monthly income of heads of households in Brazil. Our supervisor determined that the ** maximum error in relation to the average is R $ \\ $$ 100.00 **. We know that the ** population standard deviation ** of this group of workers is ** R $ \\ $$ 3,323.39 **. For a ** 95% confidence level **, what should the sample size of our study be?"
   ],
   "cell_type": "markdown",
   "metadata": {}
  },
  {
   "cell_type": "code",
   "execution_count": 11,
   "metadata": {},
   "outputs": [
    {
     "output_type": "execute_result",
     "data": {
      "text/plain": [
       "0.475"
      ]
     },
     "metadata": {},
     "execution_count": 11
    }
   ],
   "source": [
    "0.95 / 2"
   ]
  },
  {
   "cell_type": "code",
   "execution_count": 12,
   "metadata": {},
   "outputs": [
    {
     "output_type": "execute_result",
     "data": {
      "text/plain": [
       "0.975"
      ]
     },
     "metadata": {},
     "execution_count": 12
    }
   ],
   "source": [
    "0.5 + (0.95 / 2)"
   ]
  },
  {
   "cell_type": "code",
   "execution_count": 13,
   "metadata": {},
   "outputs": [
    {
     "output_type": "execute_result",
     "data": {
      "text/plain": [
       "1.959963984540054"
      ]
     },
     "metadata": {},
     "execution_count": 13
    }
   ],
   "source": [
    "z = norm.ppf(0.975)\n",
    "z"
   ]
  },
  {
   "source": [
    "### Getting $\\sigma$"
   ],
   "cell_type": "markdown",
   "metadata": {}
  },
  {
   "cell_type": "code",
   "execution_count": 15,
   "metadata": {},
   "outputs": [
    {
     "output_type": "execute_result",
     "data": {
      "text/plain": [
       "3323.39"
      ]
     },
     "metadata": {},
     "execution_count": 15
    }
   ],
   "source": [
    "sigma = 3323.39\n",
    "sigma"
   ]
  },
  {
   "source": [
    "### Getting $e$"
   ],
   "cell_type": "markdown",
   "metadata": {}
  },
  {
   "cell_type": "code",
   "execution_count": 17,
   "metadata": {},
   "outputs": [
    {
     "output_type": "execute_result",
     "data": {
      "text/plain": [
       "100"
      ]
     },
     "metadata": {},
     "execution_count": 17
    }
   ],
   "source": [
    "e = 100\n",
    "e"
   ]
  },
  {
   "source": [
    "### Getting $n$"
   ],
   "cell_type": "markdown",
   "metadata": {}
  },
  {
   "cell_type": "code",
   "execution_count": 19,
   "metadata": {},
   "outputs": [
    {
     "output_type": "execute_result",
     "data": {
      "text/plain": [
       "4243"
      ]
     },
     "metadata": {},
     "execution_count": 19
    }
   ],
   "source": [
    "n = (z * (sigma / e)) ** 2\n",
    "int(n.round())"
   ]
  },
  {
   "source": [
    "## <font color='red'>Problem</font>\n",
    "\n",
    "In a batch of ** 10,000 cans ** of soda, a simple random sample of ** 100 cans ** was performed and the ** sample standard deviation of the contents of the cans equal to 12 ml ** was obtained. The manufacturer stipulates a ** maximum error on the population average of only 5 ml **. To guarantee a ** 95% confidence level ** which sample size should be selected for this study?"
   ],
   "cell_type": "markdown",
   "metadata": {}
  },
  {
   "source": [
    "## <font color = green> Quantitative variables and finite population </font>\n",
    "***"
   ],
   "cell_type": "markdown",
   "metadata": {}
  },
  {
   "source": [
    "#### With known standard deviation\n",
    "\n",
    "## $$n = \\frac {z ^ 2 \\sigma ^ 2 N} {z ^ 2 \\sigma ^ 2 + e ^ 2 (N-1)} $$\n",
    "\n",
    "#### With unknown standard deviation\n",
    "\n",
    "## $$n = \\frac {z ^ 2 s ^ 2 N} {z ^ 2 s ^ 2 + e ^ 2 (N-1)} $$\n",
    "\n",
    "Where:\n",
    "\n",
    "$N$ = population size\n",
    "\n",
    "$ z $ = standard normalized variable\n",
    "\n",
    "$ \\sigma $ = population standard deviation\n",
    "\n",
    "$ s $ = sample standard deviation\n",
    "\n",
    "$ e $ = inferential error"
   ],
   "cell_type": "markdown",
   "metadata": {}
  },
  {
   "source": [
    "## <font color = 'blue'> Example: Soft drink industry </font>\n",
    "\n",
    "In a batch of ** 10,000 cans ** of soda, a simple random sample of ** 100 cans ** was performed and the ** sample standard deviation of the contents of the cans equal to 12 ml ** was obtained. The manufacturer stipulates a ** maximum error on the population average of only 5 ml **. To guarantee a ** 95% confidence level ** which sample size should be selected for this study?"
   ],
   "cell_type": "markdown",
   "metadata": {}
  },
  {
   "source": [
    "### Getting $N$"
   ],
   "cell_type": "markdown",
   "metadata": {}
  },
  {
   "source": [
    "N = 10000\n",
    "N"
   ],
   "cell_type": "code",
   "metadata": {},
   "execution_count": 41,
   "outputs": [
    {
     "output_type": "execute_result",
     "data": {
      "text/plain": [
       "10000"
      ]
     },
     "metadata": {},
     "execution_count": 41
    }
   ]
  },
  {
   "source": [
    "### Getting $Z$"
   ],
   "cell_type": "markdown",
   "metadata": {}
  },
  {
   "cell_type": "code",
   "execution_count": 39,
   "metadata": {},
   "outputs": [
    {
     "output_type": "execute_result",
     "data": {
      "text/plain": [
       "1.959963984540054"
      ]
     },
     "metadata": {},
     "execution_count": 39
    }
   ],
   "source": [
    "z = norm.ppf(0.5 + (0.95/2))\n",
    "z"
   ]
  },
  {
   "source": [
    "### Getting $s$"
   ],
   "cell_type": "markdown",
   "metadata": {}
  },
  {
   "cell_type": "code",
   "execution_count": 43,
   "metadata": {},
   "outputs": [],
   "source": [
    "s = 12"
   ]
  },
  {
   "source": [
    "### Getting $e$"
   ],
   "cell_type": "markdown",
   "metadata": {}
  },
  {
   "cell_type": "code",
   "execution_count": 44,
   "metadata": {},
   "outputs": [],
   "source": [
    "e = 5"
   ]
  },
  {
   "source": [
    "### Getting $n$\n",
    "\n",
    "## $$n = \\frac{z^2 s^2 N}{z^2 s^2 + e^2(N-1)}$$"
   ],
   "cell_type": "markdown",
   "metadata": {}
  },
  {
   "cell_type": "code",
   "execution_count": 48,
   "metadata": {},
   "outputs": [
    {
     "output_type": "execute_result",
     "data": {
      "text/plain": [
       "22"
      ]
     },
     "metadata": {},
     "execution_count": 48
    }
   ],
   "source": [
    "n = ((z ** 2) * (s ** 2) * N) / (((z ** 2) * (s ** 2)) + ((e ** 2) * (N -1)))\n",
    "int(n.round())"
   ]
  }
 ]
}