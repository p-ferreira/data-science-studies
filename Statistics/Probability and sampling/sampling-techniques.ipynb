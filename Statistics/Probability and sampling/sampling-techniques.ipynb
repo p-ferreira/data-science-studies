{
 "metadata": {
  "language_info": {
   "codemirror_mode": {
    "name": "ipython",
    "version": 3
   },
   "file_extension": ".py",
   "mimetype": "text/x-python",
   "name": "python",
   "nbconvert_exporter": "python",
   "pygments_lexer": "ipython3",
   "version": "3.8.5"
  },
  "orig_nbformat": 2,
  "kernelspec": {
   "name": "python385jvsc74a57bd0694c8744488563f6cd2d93f9dc805a9ad929a19bb6157c2d6f3cab25a4c31ca1",
   "display_name": "Python 3.8.5 64-bit (conda)"
  }
 },
 "nbformat": 4,
 "nbformat_minor": 2,
 "cells": [
  {
   "source": [
    "# <font color=green>Sampling</font>\n",
    "***"
   ],
   "cell_type": "markdown",
   "metadata": {}
  },
  {
   "source": [
    "## <font color=green>Population and sampling</font>\n",
    "***\n",
    "\n",
    "### Population\n",
    "Set of all the elements of interest in a study. Several elements can compose a population, for example: people, ages, heights, cars, etc.\n",
    "\n",
    "Regarding size, populations can be limited (finite populations) or unlimited (infinite populations).\n",
    "\n",
    "### Finite populations\n",
    "\n",
    "Allow the counting of its elements. As examples we have the number of employees of a company, the number of students in a school, etc.\n",
    "\n",
    "### Infinite populations\n",
    "\n",
    "It is not possible to count its elements. As examples we have the number of portions that can be extracted from sea water for analysis, temperature measured at each point in a territory, etc.\n",
    "\n",
    "<font color = red> When the elements of a population can be counted, but presenting a very large quantity, the population is assumed to be infinite. </font>.\n",
    "\n",
    "\n",
    "### Sample\n",
    "Representative subset of the population.\n",
    "\n",
    "The numerical attributes of a population, such as its mean, variance and standard deviation, are known as ** parameters **. The main focus of statistical inference is precisely to generate estimates and test hypotheses about population parameters using sample information."
   ],
   "cell_type": "markdown",
   "metadata": {}
  },
  {
   "source": [
    "## <font color = green> When to use a sample? </font>\n",
    "***"
   ],
   "cell_type": "markdown",
   "metadata": {}
  },
  {
   "source": [
    "### Infinite populations\n",
    "\n",
    "The study would never come to an end. It is not possible to investigate all elements of the population."
   ],
   "cell_type": "markdown",
   "metadata": {}
  },
  {
   "source": [
    "### Destructive testing\n",
    "\n",
    "Studies where the evaluated elements are totally consumed or destroyed. Example: life tests, safety tests against car crashes."
   ],
   "cell_type": "markdown",
   "metadata": {}
  },
  {
   "source": [
    "### Quick results\n",
    "\n",
    "Research that needs more agility in dissemination. Example: opinion polls, surveys that involve public health problems."
   ],
   "cell_type": "markdown",
   "metadata": {}
  },
  {
   "source": [
    "### High costs\n",
    "\n",
    "When the population is finite but very large, the cost of a census can make the process unfeasible."
   ],
   "cell_type": "markdown",
   "metadata": {}
  },
  {
   "source": [
    "## <font color = green> Simple Random Sampling </font>\n",
    "***"
   ],
   "cell_type": "markdown",
   "metadata": {}
  },
  {
   "source": [
    "It is one of the main ways to extract a sample from a population. The fundamental requirement of this type of approach is that each element of the population has the same chances of being selected to be part of the sample."
   ],
   "cell_type": "markdown",
   "metadata": {}
  },
  {
   "cell_type": "code",
   "execution_count": 2,
   "metadata": {},
   "outputs": [
    {
     "output_type": "execute_result",
     "data": {
      "text/plain": [
       "76840"
      ]
     },
     "metadata": {},
     "execution_count": 2
    }
   ],
   "source": [
    "import pandas as pd\n",
    "\n",
    "data = pd.read_csv('data/data.csv', sep = ',')\n",
    "len(data)"
   ]
  },
  {
   "cell_type": "code",
   "execution_count": 4,
   "metadata": {},
   "outputs": [
    {
     "output_type": "execute_result",
     "data": {
      "text/plain": [
       "2000.3831988547631"
      ]
     },
     "metadata": {},
     "execution_count": 4
    }
   ],
   "source": [
    "data['Income'].mean()"
   ]
  },
  {
   "cell_type": "code",
   "execution_count": 10,
   "metadata": {},
   "outputs": [],
   "source": [
    "sample = data.sample(n = 1000, random_state=101)"
   ]
  },
  {
   "cell_type": "code",
   "execution_count": 11,
   "metadata": {},
   "outputs": [
    {
     "output_type": "execute_result",
     "data": {
      "text/plain": [
       "1000"
      ]
     },
     "metadata": {},
     "execution_count": 11
    }
   ],
   "source": [
    "len(sample)"
   ]
  },
  {
   "cell_type": "code",
   "execution_count": 12,
   "metadata": {},
   "outputs": [
    {
     "output_type": "execute_result",
     "data": {
      "text/plain": [
       "1998.783"
      ]
     },
     "metadata": {},
     "execution_count": 12
    }
   ],
   "source": [
    "sample['Income'].mean()"
   ]
  },
  {
   "cell_type": "code",
   "execution_count": 8,
   "metadata": {},
   "outputs": [
    {
     "output_type": "execute_result",
     "data": {
      "text/plain": [
       "0    0.692998\n",
       "1    0.307002\n",
       "Name: Sex, dtype: float64"
      ]
     },
     "metadata": {},
     "execution_count": 8
    }
   ],
   "source": [
    "data['Sex'].value_counts(normalize = True)"
   ]
  },
  {
   "cell_type": "code",
   "execution_count": 13,
   "metadata": {},
   "outputs": [
    {
     "output_type": "execute_result",
     "data": {
      "text/plain": [
       "0    0.706\n",
       "1    0.294\n",
       "Name: Sex, dtype: float64"
      ]
     },
     "metadata": {},
     "execution_count": 13
    }
   ],
   "source": [
    "sample['Sex'].value_counts(normalize = True)"
   ]
  },
  {
   "source": [
    "## <font color = green> Stratified Sampling </font>\n",
    "***\n",
    "\n",
    "It is an improvement of the simple random sampling process. In this method it is proposed to divide the population into subgroups of elements with similar characteristics, that is, more homogeneous groups. With these subgroups separated, the simple random sampling technique within each subgroup is applied individually."
   ],
   "cell_type": "markdown",
   "metadata": {}
  },
  {
   "source": [
    "## <font color = green> Sampling by Conglomerates </font>\n",
    "***\n",
    "\n",
    "It also aims to improve the criterion of simple random sampling. In cluster sampling, subgroups are also created, but they will not be homogeneous as in stratified sampling. In cluster sampling, the subgroups will be heterogeneous, where then simple or stratified random sampling will be applied.\n",
    "\n",
    "A very common example of the application of this type of technique is the division of the population into territorial groups, where the elements investigated will have quite varied characteristics."
   ],
   "cell_type": "markdown",
   "metadata": {}
  }
 ]
}