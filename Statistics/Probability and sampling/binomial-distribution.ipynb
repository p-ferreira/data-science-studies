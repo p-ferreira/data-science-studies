{
 "metadata": {
  "language_info": {
   "codemirror_mode": {
    "name": "ipython",
    "version": 3
   },
   "file_extension": ".py",
   "mimetype": "text/x-python",
   "name": "python",
   "nbconvert_exporter": "python",
   "pygments_lexer": "ipython3",
   "version": "3.8.5"
  },
  "orig_nbformat": 2,
  "kernelspec": {
   "name": "python385jvsc74a57bd0694c8744488563f6cd2d93f9dc805a9ad929a19bb6157c2d6f3cab25a4c31ca1",
   "display_name": "Python 3.8.5 64-bit (conda)"
  }
 },
 "nbformat": 4,
 "nbformat_minor": 2,
 "cells": [
  {
   "source": [
    "# <font color=green>Binomial distribution </font>\n",
    "***"
   ],
   "cell_type": "markdown",
   "metadata": {}
  },
  {
   "source": [
    "## <font color = red> Problem </font>\n",
    "***\n",
    "\n",
    "In a competition to fill a vacancy for data scientist we have a total of ** 10 questions ** of multiple choice with ** 3 possible alternatives ** in each question. ** Each question has the same value. ** Suppose a candidate decides to venture out without having studied anything. He decides to take the blindfold test and guess all the answers. Assuming that the test ** is worth 10 points and the cut score is 5 **, obtain the probability of this candidate ** getting 5 questions ** and also the probability of this candidate ** going to the next stage of the selection process **."
   ],
   "cell_type": "markdown",
   "metadata": {}
  },
  {
   "source": [
    "## <font color = green> 2.1 Binomial Distribution </font>\n",
    "***\n",
    "\n",
    "A ** binomial ** event is characterized by the possibility of only two categories occurring. These categories together represent the entire sample space, and are also mutually exclusive, that is, the occurrence of one implies the non-occurrence of the other.\n",
    "\n",
    "In statistical analysis the most common use of the binomial distribution is in solving problems involving ** success ** and ** failure ** situations.\n",
    "\n",
    "# $$ P (k) = \\binom{n}{k} p^k q^{n-k}$$\n",
    "\n",
    "Where:\n",
    "\n",
    "$ p $ = probability of success\n",
    "\n",
    "$ q = (1 - p) $ = probability of failure\n",
    "\n",
    "$ n $ = number of events studied\n",
    "\n",
    "$ k $ = number of desired events that are successful"
   ],
   "cell_type": "markdown",
   "metadata": {}
  },
  {
   "source": [
    "### Binomial Experiment"
   ],
   "cell_type": "markdown",
   "metadata": {}
  },
  {
   "source": [
    "Realization of $n$ identical tests.\n",
    "\n",
    "The tests are independent.\n",
    "\n",
    "Only two results are possible, for example: True or false; Heads or tails; Success or failure.\n",
    "\n",
    "The probability of success is represented by $p$ and failure by $1-p=q$. These probabilities do not change from trial to trial."
   ],
   "cell_type": "markdown",
   "metadata": {}
  },
  {
   "source": [
    "### Average binomial distribution"
   ],
   "cell_type": "markdown",
   "metadata": {}
  },
  {
   "source": [
    "The expected value or the mean of the binomial distribution is equal to the number of experiments performed multiplied by the chance of the event occurring.\n",
    "\n",
    "# $$\\mu = n\\times p $$"
   ],
   "cell_type": "markdown",
   "metadata": {}
  },
  {
   "source": [
    "### Standard deviation of the binomial distribution"
   ],
   "cell_type": "markdown",
   "metadata": {}
  },
  {
   "source": [
    "The standard deviation is the product between the number of experiments, the probability of success and the probability of failure.\n",
    "\n",
    "# $$\\sigma = \\sqrt{n \\times p \\times q}$$"
   ],
   "cell_type": "markdown",
   "metadata": {}
  },
  {
   "source": [
    "### Importing libraries\n",
    "https://docs.scipy.org/doc/scipy/reference/generated/scipy.special.comb.html"
   ],
   "cell_type": "markdown",
   "metadata": {}
  },
  {
   "cell_type": "code",
   "execution_count": 2,
   "metadata": {},
   "outputs": [],
   "source": [
    "from sci py.special import comb"
   ]
  },
  {
   "source": [],
   "cell_type": "markdown",
   "metadata": {}
  },
  {
   "source": [
    "### Combinations\n",
    "\n",
    "Number of combinations of $n$ objects, taking $k$ each time, is:\n",
    "\n",
    "# $$C_{k}^{n} = \\binom{n}{k} = \\frac{n!}{k!(n - k)!}$$\n",
    "\n",
    "Where\n",
    "\n",
    "## $$n! = n\\times(n-1)\\times(n-2)\\times...\\times(2)\\times(1)$$\n",
    "## $$k! = k\\times(k-1)\\times(k-2)\\times...\\times(2)\\times(1)$$\n",
    "\n",
    "By definition\n",
    "\n",
    "## $$0! = 1$$"
   ],
   "cell_type": "markdown",
   "metadata": {}
  },
  {
   "source": [
    "## <font color = 'blue'> Example: Mega Sena (Lottery) </font>\n",
    "\n",
    "On a Mega Sena lottery wheel we have a total of ** 60 numbers ** to choose from where the minimum bet is ** six numbers **. You who are curious decide to calculate the probability of hitting the Mega Sena with just ** a game **. For this we need to know how many ** combinations of six numbers can be formed with the 60 available numbers **.\n",
    "\n",
    "### $$ C_ {6} ^ {60} = \\binom{60} {6} = \\frac {60!}{6! (60 - 6)!}$$"
   ],
   "cell_type": "markdown",
   "metadata": {}
  },
  {
   "cell_type": "code",
   "execution_count": 3,
   "metadata": {},
   "outputs": [
    {
     "output_type": "execute_result",
     "data": {
      "text/plain": [
       "50063860.0"
      ]
     },
     "metadata": {},
     "execution_count": 3
    }
   ],
   "source": [
    "combinations = comb(60, 6)\n",
    "combinations"
   ]
  },
  {
   "cell_type": "code",
   "execution_count": 7,
   "metadata": {},
   "outputs": [
    {
     "output_type": "stream",
     "name": "stdout",
     "text": [
      "0.000000019974489\n"
     ]
    }
   ],
   "source": [
    "probability = 1 / combinations\n",
    "print('%0.15f' % probability)"
   ]
  },
  {
   "source": [
    "## <font color = 'blue'> Example: Data scientist contest </font>"
   ],
   "cell_type": "markdown",
   "metadata": {}
  },
  {
   "source": [
    "In a competition to fill a vacancy for data scientist we have a total of ** 10 questions ** of multiple choice with ** 3 possible alternatives ** in each question. ** Each question has the same value. ** Suppose a candidate decides to venture out without having studied anything. He decides to take the blindfold test and guess all the answers. Assuming that the test ** is worth 10 points and the cut score is 5 **, obtain the probability of this candidate ** getting 5 questions ** and also the probability of this candidate ** going to the next stage of the selection process **."
   ],
   "cell_type": "markdown",
   "metadata": {}
  },
  {
   "source": [
    "### What is the number of trials ($ n $)?"
   ],
   "cell_type": "markdown",
   "metadata": {}
  },
  {
   "cell_type": "code",
   "execution_count": 10,
   "metadata": {},
   "outputs": [
    {
     "output_type": "execute_result",
     "data": {
      "text/plain": [
       "10"
      ]
     },
     "metadata": {},
     "execution_count": 10
    }
   ],
   "source": [
    "n = 10\n",
    "n"
   ]
  },
  {
   "source": [
    "### Are the trials independent?\n",
    "\n",
    "Yes. The option chosen in one question has no influence on the option chosen in another question.\n",
    "\n",
    "### Are only two results possible in each trial?\n",
    "\n",
    "Yes. The candidate has two possibilities, HIT or WRONG a question."
   ],
   "cell_type": "markdown",
   "metadata": {}
  },
  {
   "source": [
    "### What is the probability of success ($ p $)?"
   ],
   "cell_type": "markdown",
   "metadata": {}
  },
  {
   "cell_type": "code",
   "execution_count": 11,
   "metadata": {},
   "outputs": [
    {
     "output_type": "execute_result",
     "data": {
      "text/plain": [
       "0.3333333333333333"
      ]
     },
     "metadata": {},
     "execution_count": 11
    }
   ],
   "source": [
    "number_of_alternatives_per_question = 3\n",
    "p = 1 / number_of_alternatives_per_question\n",
    "p"
   ]
  },
  {
   "source": [
    "### What is the probability of failure ($q$)?"
   ],
   "cell_type": "markdown",
   "metadata": {}
  },
  {
   "cell_type": "code",
   "execution_count": 13,
   "metadata": {},
   "outputs": [
    {
     "output_type": "execute_result",
     "data": {
      "text/plain": [
       "0.6666666666666667"
      ]
     },
     "metadata": {},
     "execution_count": 13
    }
   ],
   "source": [
    "q = 1 - p\n",
    "q"
   ]
  },
  {
   "source": [
    "### What is the total number of events that you want to be successful ($ k $)?"
   ],
   "cell_type": "markdown",
   "metadata": {}
  },
  {
   "cell_type": "code",
   "execution_count": 14,
   "metadata": {},
   "outputs": [
    {
     "output_type": "execute_result",
     "data": {
      "text/plain": [
       "5"
      ]
     },
     "metadata": {},
     "execution_count": 14
    }
   ],
   "source": [
    "k  = 5\n",
    "k"
   ]
  },
  {
   "source": [
    "### Solution 1"
   ],
   "cell_type": "markdown",
   "metadata": {}
  },
  {
   "cell_type": "code",
   "execution_count": 15,
   "metadata": {},
   "outputs": [
    {
     "output_type": "stream",
     "name": "stdout",
     "text": [
      "0.13656455\n"
     ]
    }
   ],
   "source": [
    "probability = (comb(n, k) * (p ** k) * (q ** (n-k)))\n",
    "print('%0.8f' % probability)"
   ]
  },
  {
   "source": [
    "### Importing libraries\n",
    "https://docs.scipy.org/doc/scipy/reference/generated/scipy.stats.binom.html"
   ],
   "cell_type": "markdown",
   "metadata": {}
  },
  {
   "cell_type": "code",
   "execution_count": 16,
   "metadata": {},
   "outputs": [],
   "source": [
    "from scipy.stats import binom"
   ]
  },
  {
   "source": [
    "### Solution 2"
   ],
   "cell_type": "markdown",
   "metadata": {}
  },
  {
   "cell_type": "code",
   "execution_count": 17,
   "metadata": {},
   "outputs": [
    {
     "output_type": "stream",
     "name": "stdout",
     "text": [
      "0.13656455\n"
     ]
    }
   ],
   "source": [
    "probability = binom.pmf(k, n, p)\n",
    "print('%0.8f' % probability)"
   ]
  },
  {
   "source": [
    "### Obtain the candidate's probability of passing"
   ],
   "cell_type": "markdown",
   "metadata": {}
  },
  {
   "source": [
    "### $$P(hit \\geq 5) = P(5) + P(6) + P(7) + P(8) + P(9) + P10)$$"
   ],
   "cell_type": "markdown",
   "metadata": {}
  },
  {
   "cell_type": "code",
   "execution_count": 22,
   "metadata": {},
   "outputs": [
    {
     "output_type": "execute_result",
     "data": {
      "text/plain": [
       "0.21312808006909525"
      ]
     },
     "metadata": {},
     "execution_count": 22
    }
   ],
   "source": [
    "binom.pmf([5,6,7,8,9,10], n, p).sum() # Probability mass function\n"
   ]
  },
  {
   "cell_type": "code",
   "execution_count": 23,
   "metadata": {},
   "outputs": [
    {
     "output_type": "execute_result",
     "data": {
      "text/plain": [
       "0.21312808006909512"
      ]
     },
     "metadata": {},
     "execution_count": 23
    }
   ],
   "source": [
    "1 - binom.cdf(4, n, p) # Cumulative distribution function"
   ]
  },
  {
   "cell_type": "code",
   "execution_count": 24,
   "metadata": {},
   "outputs": [
    {
     "output_type": "execute_result",
     "data": {
      "text/plain": [
       "0.21312808006909517"
      ]
     },
     "metadata": {},
     "execution_count": 24
    }
   ],
   "source": [
    "binom.sf(4, n, p) # 1 - binom.cdf(), survival function"
   ]
  },
  {
   "source": [
    "### A perfectly balanced coin is thrown into the air four times. Using the binomial distribution, obtain the probability that the coin will fall with the crown face up twice."
   ],
   "cell_type": "markdown",
   "metadata": {}
  },
  {
   "cell_type": "code",
   "execution_count": 37,
   "metadata": {},
   "outputs": [
    {
     "output_type": "execute_result",
     "data": {
      "text/plain": [
       "0.3750000000000001"
      ]
     },
     "metadata": {},
     "execution_count": 37
    }
   ],
   "source": [
    "p = 1 / 2 # Probability of crown face\n",
    "n = 4 # total of throws\n",
    "k = 2 # total of success\n",
    "\n",
    "binom.pmf(k, n, p)"
   ]
  },
  {
   "source": [
    "### A perfectly balanced dice is thrown upwards ten times. Using the binomial distribution, obtain the probability that the dice will fall with the number five facing upwards at least three times."
   ],
   "cell_type": "markdown",
   "metadata": {}
  },
  {
   "cell_type": "code",
   "execution_count": 60,
   "metadata": {},
   "outputs": [
    {
     "output_type": "execute_result",
     "data": {
      "text/plain": [
       "22.48"
      ]
     },
     "metadata": {},
     "execution_count": 60
    }
   ],
   "source": [
    "p = 1/6\n",
    "n = 10\n",
    "k = 3\n",
    "\n",
    "(binom.sf(2, n, p) * 100).round(2)"
   ]
  },
  {
   "source": [
    "## <font color = 'blue'> Example: Gymkhana </font>\n",
    "\n",
    "A city in holds a gymkhana every year to raise funds for the city's hospital. In the last competition, it is known that the ** proportion of female participants was 60% **. ** The total number of teams, with 12 women members, registered in this year's gymkhana is 30 **. With the information above, answer: How many teams should be formed by ** 8 women **?"
   ],
   "cell_type": "markdown",
   "metadata": {}
  },
  {
   "source": [
    "Solution"
   ],
   "cell_type": "markdown",
   "metadata": {}
  },
  {
   "cell_type": "code",
   "execution_count": 68,
   "metadata": {},
   "outputs": [],
   "source": [
    "p = 0.6\n",
    "n = 12\n",
    "k = 8\n",
    "\n",
    "probability = binom.pmf(k, n, p)"
   ]
  },
  {
   "cell_type": "code",
   "execution_count": 69,
   "metadata": {},
   "outputs": [
    {
     "output_type": "execute_result",
     "data": {
      "text/plain": [
       "6.385228185599988"
      ]
     },
     "metadata": {},
     "execution_count": 69
    }
   ],
   "source": [
    "teams = 30 * probability\n",
    "teams"
   ]
  },
  {
   "source": [
    "Suppose the probability of a couple having children with blue eyes is 22%. In 50 families, with 3 children each, how many can we expect to have two children with blue eyes?"
   ],
   "cell_type": "markdown",
   "metadata": {}
  },
  {
   "cell_type": "code",
   "execution_count": 74,
   "metadata": {},
   "outputs": [
    {
     "output_type": "execute_result",
     "data": {
      "text/plain": [
       "5.662799999999999"
      ]
     },
     "metadata": {},
     "execution_count": 74
    }
   ],
   "source": [
    "p = 0.22\n",
    "n = 3\n",
    "k = 2\n",
    "\n",
    "probability = binom.pmf(k, n, p)\n",
    "\n",
    "m = 50 * pr\n",
    "m"
   ]
  }
 ]
}