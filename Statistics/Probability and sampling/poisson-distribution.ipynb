{
 "metadata": {
  "language_info": {
   "codemirror_mode": {
    "name": "ipython",
    "version": 3
   },
   "file_extension": ".py",
   "mimetype": "text/x-python",
   "name": "python",
   "nbconvert_exporter": "python",
   "pygments_lexer": "ipython3",
   "version": "3.8.5"
  },
  "orig_nbformat": 2,
  "kernelspec": {
   "name": "python385jvsc74a57bd0694c8744488563f6cd2d93f9dc805a9ad929a19bb6157c2d6f3cab25a4c31ca1",
   "display_name": "Python 3.8.5 64-bit (conda)"
  }
 },
 "nbformat": 4,
 "nbformat_minor": 2,
 "cells": [
  {
   "source": [
    "## <font color=red>Problem</font>\n",
    "An average restaurant receives ** 20 orders per hour **. What is the chance that, at a certain time chosen at random, the restaurant will receive ** 15 orders **?"
   ],
   "cell_type": "markdown",
   "metadata": {}
  },
  {
   "source": [
    "## <font color=green>Poisson distribution</font>\n",
    "***"
   ],
   "cell_type": "markdown",
   "metadata": {}
  },
  {
   "source": [
    "It is used to describe the number of occurrences in a specific time or space. Events are characterized by the possibility of counting successes, but the non-possibility of counting failures.\n",
    "\n",
    "As examples of processes where we can apply the Poisson distribution we have the determination of the number of customers that enter a store at a certain time, the number of cars that arrive at a drive-through of a cafeteria at lunchtime, the determination of the number accidents recorded on a stretch of road, etc.\n",
    "\n",
    "# $$P(k) = \\frac{e^{-\\mu}(\\mu)^k}{k!}$$\n",
    "\n",
    "Where:\n",
    "\n",
    "$e$ = constant whose approximate value is 2,718281828459045\n",
    "\n",
    "$\\mu$ = represents the average(mean) number of occurrences in a given interval of time or space\n",
    "\n",
    "$k$ = number of successes in the desired range\n",
    "\n"
   ],
   "cell_type": "markdown",
   "metadata": {}
  },
  {
   "source": [
    "### Poisson Experiment \n",
    "\n",
    "1. The probability of an occurrence is the same over the entire observed range.\n",
    "\n",
    "2. The number of occurrences in a given interval is independent of the number of occurrences in other intervals.\n",
    "\n",
    "3. The probability of an occurrence is the same at intervals of equal length."
   ],
   "cell_type": "markdown",
   "metadata": {}
  },
  {
   "source": [
    "### Average of the Poisson distribution\n",
    "# $$\\mu$$"
   ],
   "cell_type": "markdown",
   "metadata": {}
  },
  {
   "source": [
    "### Standard deviation of the Poisson distribution\n",
    "# $$\\sigma = \\sqrt{\\mu}$$"
   ],
   "cell_type": "markdown",
   "metadata": {}
  },
  {
   "source": [
    "### Importing libraries\n",
    "\n",
    "http://www.numpy.org/"
   ],
   "cell_type": "markdown",
   "metadata": {}
  },
  {
   "cell_type": "code",
   "execution_count": 5,
   "metadata": {},
   "outputs": [],
   "source": [
    "import numpy as np"
   ]
  },
  {
   "cell_type": "code",
   "execution_count": 6,
   "metadata": {},
   "outputs": [
    {
     "output_type": "execute_result",
     "data": {
      "text/plain": [
       "2.718281828459045"
      ]
     },
     "metadata": {},
     "execution_count": 6
    }
   ],
   "source": [
    "np.e"
   ]
  },
  {
   "source": [
    "## <font color='blue'>Example: Delivery</font>\n",
    "\n",
    "A restaurant, in average, receives ** 20 orders per hour **. What is the chance that, at a certain time chosen at random, the restaurant will receive ** 15 orders **?"
   ],
   "cell_type": "markdown",
   "metadata": {}
  },
  {
   "source": [
    "### What is the average number of occurrences per hour ($\\mu$)?"
   ],
   "cell_type": "markdown",
   "metadata": {}
  },
  {
   "cell_type": "code",
   "execution_count": 7,
   "metadata": {},
   "outputs": [
    {
     "output_type": "execute_result",
     "data": {
      "text/plain": [
       "20"
      ]
     },
     "metadata": {},
     "execution_count": 7
    }
   ],
   "source": [
    "mean = 20\n",
    "mean"
   ]
  },
  {
   "source": [
    "### What is the number of occurrences that we want to obtain in the period ($k$)?"
   ],
   "cell_type": "markdown",
   "metadata": {}
  },
  {
   "cell_type": "code",
   "execution_count": 10,
   "metadata": {},
   "outputs": [
    {
     "output_type": "execute_result",
     "data": {
      "text/plain": [
       "15"
      ]
     },
     "metadata": {},
     "execution_count": 10
    }
   ],
   "source": [
    "k = 15\n",
    "k"
   ]
  },
  {
   "source": [
    "### Solution 1"
   ],
   "cell_type": "markdown",
   "metadata": {}
  },
  {
   "cell_type": "code",
   "execution_count": 12,
   "metadata": {},
   "outputs": [
    {
     "output_type": "stream",
     "name": "stdout",
     "text": [
      "0.05164885\n"
     ]
    }
   ],
   "source": [
    "probability = ((np.e ** (-mean)) * (mean ** k)) / (np.math.factorial(k))\n",
    "print('%0.8f' % probability)"
   ]
  },
  {
   "source": [
    "### Importing Libraries\n",
    "\n",
    "https://docs.scipy.org/doc/scipy/reference/generated/scipy.stats.poisson.html"
   ],
   "cell_type": "markdown",
   "metadata": {}
  },
  {
   "source": [
    "### Solution 2"
   ],
   "cell_type": "markdown",
   "metadata": {}
  },
  {
   "cell_type": "code",
   "execution_count": 13,
   "metadata": {},
   "outputs": [
    {
     "output_type": "stream",
     "name": "stdout",
     "text": [
      "0.05164885\n"
     ]
    }
   ],
   "source": [
    "from scipy.stats import poisson\n",
    "\n",
    "probability = poisson.pmf(k, mean)\n",
    "print('%0.8f' % probability)"
   ]
  },
  {
   "source": [
    "poisson.pmf(25, 20)"
   ],
   "cell_type": "code",
   "metadata": {},
   "execution_count": 16,
   "outputs": [
    {
     "output_type": "execute_result",
     "data": {
      "text/plain": [
       "0.04458764910826764"
      ]
     },
     "metadata": {},
     "execution_count": 16
    }
   ]
  },
  {
   "source": [
    "## <font color=red>Problem</font>\n",
    "***\n",
    "\n",
    "In a study on the heights of the residents of a city, it was found that the data set follows an ** approximately normal distribution **, with ** average 1.70 ** and ** standard deviation of 0.1 **. With this information, obtain the following set of probabilities:\n",
    "\n",
    "> ** A. ** probability of a person, selected at random, being less than 1.80 meters.\n",
    "\n",
    "> ** B. ** probability that a person, selected at random, is between 1.60 meters and 1.80 meters.\n",
    "\n",
    "> ** C. ** probability of a person, selected at random, having more than 1.90 meters."
   ],
   "cell_type": "markdown",
   "metadata": {}
  }
 ]
}