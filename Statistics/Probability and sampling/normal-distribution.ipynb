{
 "metadata": {
  "language_info": {
   "codemirror_mode": {
    "name": "ipython",
    "version": 3
   },
   "file_extension": ".py",
   "mimetype": "text/x-python",
   "name": "python",
   "nbconvert_exporter": "python",
   "pygments_lexer": "ipython3",
   "version": "3.8.5"
  },
  "orig_nbformat": 2,
  "kernelspec": {
   "name": "python385jvsc74a57bd0694c8744488563f6cd2d93f9dc805a9ad929a19bb6157c2d6f3cab25a4c31ca1",
   "display_name": "Python 3.8.5 64-bit (conda)"
  }
 },
 "nbformat": 4,
 "nbformat_minor": 2,
 "cells": [
  {
   "source": [
    "## <font color=red>Problem</font>\n",
    "***\n",
    "\n",
    "In a study on the heights of the residents of a city, it was found that the data set follows an ** approximately normal distribution **, with ** average 1.70 ** and ** standard deviation of 0.1 **. With this information, obtain the following set of probabilities:\n",
    "\n",
    "> ** A. ** probability of a person, selected at random, being less than 1.80 meters.\n",
    "\n",
    "> ** B. ** probability that a person, selected at random, is between 1.60 meters and 1.80 meters.\n",
    "\n",
    "> ** C. ** probability of a person, selected at random, having more than 1.90 meters."
   ],
   "cell_type": "markdown",
   "metadata": {}
  },
  {
   "source": [
    "## <font color=green>Normal distribution</font>\n",
    "***"
   ],
   "cell_type": "markdown",
   "metadata": {}
  },
  {
   "source": [
    "The normal distribution is one of the most used in statistics. It is a continuous distribution, where the frequency distribution of a quantitative variable is bell-shaped and symmetrical in relation to its mean.\n",
    "\n",
    "![Normal](https://caelum-online-public.s3.amazonaws.com/1178-estatistica-parte2/01/img001.png)"
   ],
   "cell_type": "markdown",
   "metadata": {}
  },
  {
   "source": [
    "### Important features\n",
    "\n",
    "1. It is symmetrical around the average;\n",
    "\n",
    "2. The area under the curve corresponds to the proportion 1 or 100%;\n",
    "\n",
    "3. The measures of central tendency (average, median and fashion) have the same value;\n",
    "\n",
    "4. The ends of the curve tend to infinity in both directions and, theoretically, never touch the $ x $ axis;\n",
    "\n",
    "5. The standard deviation defines the flatness and width of the distribution. Wider and flatter curves have higher standard deviation values;\n",
    "\n",
    "6. The distribution is defined by its mean and standard deviation;\n",
    "\n",
    "7. The probability will always be equal to the area under the curve, bounded by the lower and upper limits.\n",
    "\n",
    "\n",
    "# $$f(x) = \\frac{1}{\\sqrt{2\\pi\\sigma}}e^{-\\frac{1}{2}\\left(\\frac{x-\\mu}{\\sigma}\\right)^2}$$\n",
    "\n",
    "Where:\n",
    "\n",
    "$x$ = normal variable\n",
    "\n",
    "$\\sigma$ = standard deviation\n",
    "\n",
    "$\\mu$ = mean\n",
    "\n",
    "The probability is obtained from the area under the curve, bounded by the specified lower and upper limits. An example can be seen in the figure below.\n",
    "\n",
    "![alt text](https://caelum-online-public.s3.amazonaws.com/1178-estatistica-parte2/01/img002.png)\n",
    "\n",
    "\n",
    "To obtain the area above, just calculate the integral of the function for the determined intervals. According to the equation below:\n",
    "\n",
    "# $$P(L_i<x<L_s) = \\int_{L_i}^{L_s}\\frac{1}{\\sqrt{2\\pi\\sigma}}e^{-\\frac{1}{2}\\left(\\frac{x-\\mu}{\\sigma}\\right)^2}$$\n",
    "\n",
    "Where:\n",
    "\n",
    "$x$ = normal variable\n",
    "\n",
    "$\\sigma$ = standard deviation\n",
    "\n",
    "$\\mu$ = mean\n",
    "\n",
    "$L_i$ = inferior limit\n",
    "\n",
    "$L_s$ = superior limit\n"
   ],
   "cell_type": "markdown",
   "metadata": {}
  },
  {
   "source": [
    "### Standardized tables\n",
    "\n",
    "Standardized tables were created to make it easier to obtain the values of the areas under the normal curve and eliminate the need to solve defined integrals.\n",
    "\n",
    "To see the values in a standardized table, simply transform our variable into a standardized variable $ Z $.\n",
    "\n",
    "This variable $ Z $ represents the deviation in standard deviations of a value from the original variable in relation to the mean.\n",
    "\n",
    "# $$Z = \\frac{x-\\mu}{\\sigma}$$\n",
    "\n",
    "Where:\n",
    "\n",
    "$x$ = normal variable with mean $\\mu$ and standard deviation $\\sigma$\n",
    "\n",
    "$\\sigma$ = standard deviation\n",
    "\n",
    "$\\mu$ = mean"
   ],
   "cell_type": "markdown",
   "metadata": {}
  },
  {
   "source": [
    "### Constructing a standarized table\n",
    "https://docs.scipy.org/doc/scipy/reference/generated/scipy.stats.norm.html"
   ],
   "cell_type": "markdown",
   "metadata": {}
  },
  {
   "cell_type": "code",
   "execution_count": 61,
   "metadata": {},
   "outputs": [
    {
     "output_type": "execute_result",
     "data": {
      "text/plain": [
       "Z       0.00    0.01    0.02    0.03    0.04    0.05    0.06    0.07    0.08  \\\n",
       "0.00  0.5000  0.5040  0.5080  0.5120  0.5160  0.5199  0.5239  0.5279  0.5319   \n",
       "0.10  0.5398  0.5438  0.5478  0.5517  0.5557  0.5596  0.5636  0.5675  0.5714   \n",
       "0.20  0.5793  0.5832  0.5871  0.5910  0.5948  0.5987  0.6026  0.6064  0.6103   \n",
       "0.30  0.6179  0.6217  0.6255  0.6293  0.6331  0.6368  0.6406  0.6443  0.6480   \n",
       "0.40  0.6554  0.6591  0.6628  0.6664  0.6700  0.6736  0.6772  0.6808  0.6844   \n",
       "0.50  0.6915  0.6950  0.6985  0.7019  0.7054  0.7088  0.7123  0.7157  0.7190   \n",
       "0.60  0.7257  0.7291  0.7324  0.7357  0.7389  0.7422  0.7454  0.7486  0.7517   \n",
       "0.70  0.7580  0.7611  0.7642  0.7673  0.7704  0.7734  0.7764  0.7794  0.7823   \n",
       "0.80  0.7881  0.7910  0.7939  0.7967  0.7995  0.8023  0.8051  0.8078  0.8106   \n",
       "0.90  0.8159  0.8186  0.8212  0.8238  0.8264  0.8289  0.8315  0.8340  0.8365   \n",
       "1.00  0.8413  0.8438  0.8461  0.8485  0.8508  0.8531  0.8554  0.8577  0.8599   \n",
       "1.10  0.8643  0.8665  0.8686  0.8708  0.8729  0.8749  0.8770  0.8790  0.8810   \n",
       "1.20  0.8849  0.8869  0.8888  0.8907  0.8925  0.8944  0.8962  0.8980  0.8997   \n",
       "1.30  0.9032  0.9049  0.9066  0.9082  0.9099  0.9115  0.9131  0.9147  0.9162   \n",
       "1.40  0.9192  0.9207  0.9222  0.9236  0.9251  0.9265  0.9279  0.9292  0.9306   \n",
       "1.50  0.9332  0.9345  0.9357  0.9370  0.9382  0.9394  0.9406  0.9418  0.9429   \n",
       "1.60  0.9452  0.9463  0.9474  0.9484  0.9495  0.9505  0.9515  0.9525  0.9535   \n",
       "1.70  0.9554  0.9564  0.9573  0.9582  0.9591  0.9599  0.9608  0.9616  0.9625   \n",
       "1.80  0.9641  0.9649  0.9656  0.9664  0.9671  0.9678  0.9686  0.9693  0.9699   \n",
       "1.90  0.9713  0.9719  0.9726  0.9732  0.9738  0.9744  0.9750  0.9756  0.9761   \n",
       "2.00  0.9772  0.9778  0.9783  0.9788  0.9793  0.9798  0.9803  0.9808  0.9812   \n",
       "2.10  0.9821  0.9826  0.9830  0.9834  0.9838  0.9842  0.9846  0.9850  0.9854   \n",
       "2.20  0.9861  0.9864  0.9868  0.9871  0.9875  0.9878  0.9881  0.9884  0.9887   \n",
       "2.30  0.9893  0.9896  0.9898  0.9901  0.9904  0.9906  0.9909  0.9911  0.9913   \n",
       "2.40  0.9918  0.9920  0.9922  0.9925  0.9927  0.9929  0.9931  0.9932  0.9934   \n",
       "2.50  0.9938  0.9940  0.9941  0.9943  0.9945  0.9946  0.9948  0.9949  0.9951   \n",
       "2.60  0.9953  0.9955  0.9956  0.9957  0.9959  0.9960  0.9961  0.9962  0.9963   \n",
       "2.70  0.9965  0.9966  0.9967  0.9968  0.9969  0.9970  0.9971  0.9972  0.9973   \n",
       "2.80  0.9974  0.9975  0.9976  0.9977  0.9977  0.9978  0.9979  0.9979  0.9980   \n",
       "2.90  0.9981  0.9982  0.9982  0.9983  0.9984  0.9984  0.9985  0.9985  0.9986   \n",
       "3.00  0.9987  0.9987  0.9987  0.9988  0.9988  0.9989  0.9989  0.9989  0.9990   \n",
       "3.10  0.9990  0.9991  0.9991  0.9991  0.9992  0.9992  0.9992  0.9992  0.9993   \n",
       "3.20  0.9993  0.9993  0.9994  0.9994  0.9994  0.9994  0.9994  0.9995  0.9995   \n",
       "3.30  0.9995  0.9995  0.9995  0.9996  0.9996  0.9996  0.9996  0.9996  0.9996   \n",
       "3.40  0.9997  0.9997  0.9997  0.9997  0.9997  0.9997  0.9997  0.9997  0.9997   \n",
       "3.50  0.9998  0.9998  0.9998  0.9998  0.9998  0.9998  0.9998  0.9998  0.9998   \n",
       "3.60  0.9998  0.9998  0.9999  0.9999  0.9999  0.9999  0.9999  0.9999  0.9999   \n",
       "3.70  0.9999  0.9999  0.9999  0.9999  0.9999  0.9999  0.9999  0.9999  0.9999   \n",
       "3.80  0.9999  0.9999  0.9999  0.9999  0.9999  0.9999  0.9999  0.9999  0.9999   \n",
       "3.90  1.0000  1.0000  1.0000  1.0000  1.0000  1.0000  1.0000  1.0000  1.0000   \n",
       "\n",
       "Z       0.09  \n",
       "0.00  0.5359  \n",
       "0.10  0.5753  \n",
       "0.20  0.6141  \n",
       "0.30  0.6517  \n",
       "0.40  0.6879  \n",
       "0.50  0.7224  \n",
       "0.60  0.7549  \n",
       "0.70  0.7852  \n",
       "0.80  0.8133  \n",
       "0.90  0.8389  \n",
       "1.00  0.8621  \n",
       "1.10  0.8830  \n",
       "1.20  0.9015  \n",
       "1.30  0.9177  \n",
       "1.40  0.9319  \n",
       "1.50  0.9441  \n",
       "1.60  0.9545  \n",
       "1.70  0.9633  \n",
       "1.80  0.9706  \n",
       "1.90  0.9767  \n",
       "2.00  0.9817  \n",
       "2.10  0.9857  \n",
       "2.20  0.9890  \n",
       "2.30  0.9916  \n",
       "2.40  0.9936  \n",
       "2.50  0.9952  \n",
       "2.60  0.9964  \n",
       "2.70  0.9974  \n",
       "2.80  0.9981  \n",
       "2.90  0.9986  \n",
       "3.00  0.9990  \n",
       "3.10  0.9993  \n",
       "3.20  0.9995  \n",
       "3.30  0.9997  \n",
       "3.40  0.9998  \n",
       "3.50  0.9998  \n",
       "3.60  0.9999  \n",
       "3.70  0.9999  \n",
       "3.80  0.9999  \n",
       "3.90  1.0000  "
      ],
      "text/html": "<div>\n<style scoped>\n    .dataframe tbody tr th:only-of-type {\n        vertical-align: middle;\n    }\n\n    .dataframe tbody tr th {\n        vertical-align: top;\n    }\n\n    .dataframe thead th {\n        text-align: right;\n    }\n</style>\n<table border=\"1\" class=\"dataframe\">\n  <thead>\n    <tr style=\"text-align: right;\">\n      <th>Z</th>\n      <th>0.00</th>\n      <th>0.01</th>\n      <th>0.02</th>\n      <th>0.03</th>\n      <th>0.04</th>\n      <th>0.05</th>\n      <th>0.06</th>\n      <th>0.07</th>\n      <th>0.08</th>\n      <th>0.09</th>\n    </tr>\n  </thead>\n  <tbody>\n    <tr>\n      <th>0.00</th>\n      <td>0.5000</td>\n      <td>0.5040</td>\n      <td>0.5080</td>\n      <td>0.5120</td>\n      <td>0.5160</td>\n      <td>0.5199</td>\n      <td>0.5239</td>\n      <td>0.5279</td>\n      <td>0.5319</td>\n      <td>0.5359</td>\n    </tr>\n    <tr>\n      <th>0.10</th>\n      <td>0.5398</td>\n      <td>0.5438</td>\n      <td>0.5478</td>\n      <td>0.5517</td>\n      <td>0.5557</td>\n      <td>0.5596</td>\n      <td>0.5636</td>\n      <td>0.5675</td>\n      <td>0.5714</td>\n      <td>0.5753</td>\n    </tr>\n    <tr>\n      <th>0.20</th>\n      <td>0.5793</td>\n      <td>0.5832</td>\n      <td>0.5871</td>\n      <td>0.5910</td>\n      <td>0.5948</td>\n      <td>0.5987</td>\n      <td>0.6026</td>\n      <td>0.6064</td>\n      <td>0.6103</td>\n      <td>0.6141</td>\n    </tr>\n    <tr>\n      <th>0.30</th>\n      <td>0.6179</td>\n      <td>0.6217</td>\n      <td>0.6255</td>\n      <td>0.6293</td>\n      <td>0.6331</td>\n      <td>0.6368</td>\n      <td>0.6406</td>\n      <td>0.6443</td>\n      <td>0.6480</td>\n      <td>0.6517</td>\n    </tr>\n    <tr>\n      <th>0.40</th>\n      <td>0.6554</td>\n      <td>0.6591</td>\n      <td>0.6628</td>\n      <td>0.6664</td>\n      <td>0.6700</td>\n      <td>0.6736</td>\n      <td>0.6772</td>\n      <td>0.6808</td>\n      <td>0.6844</td>\n      <td>0.6879</td>\n    </tr>\n    <tr>\n      <th>0.50</th>\n      <td>0.6915</td>\n      <td>0.6950</td>\n      <td>0.6985</td>\n      <td>0.7019</td>\n      <td>0.7054</td>\n      <td>0.7088</td>\n      <td>0.7123</td>\n      <td>0.7157</td>\n      <td>0.7190</td>\n      <td>0.7224</td>\n    </tr>\n    <tr>\n      <th>0.60</th>\n      <td>0.7257</td>\n      <td>0.7291</td>\n      <td>0.7324</td>\n      <td>0.7357</td>\n      <td>0.7389</td>\n      <td>0.7422</td>\n      <td>0.7454</td>\n      <td>0.7486</td>\n      <td>0.7517</td>\n      <td>0.7549</td>\n    </tr>\n    <tr>\n      <th>0.70</th>\n      <td>0.7580</td>\n      <td>0.7611</td>\n      <td>0.7642</td>\n      <td>0.7673</td>\n      <td>0.7704</td>\n      <td>0.7734</td>\n      <td>0.7764</td>\n      <td>0.7794</td>\n      <td>0.7823</td>\n      <td>0.7852</td>\n    </tr>\n    <tr>\n      <th>0.80</th>\n      <td>0.7881</td>\n      <td>0.7910</td>\n      <td>0.7939</td>\n      <td>0.7967</td>\n      <td>0.7995</td>\n      <td>0.8023</td>\n      <td>0.8051</td>\n      <td>0.8078</td>\n      <td>0.8106</td>\n      <td>0.8133</td>\n    </tr>\n    <tr>\n      <th>0.90</th>\n      <td>0.8159</td>\n      <td>0.8186</td>\n      <td>0.8212</td>\n      <td>0.8238</td>\n      <td>0.8264</td>\n      <td>0.8289</td>\n      <td>0.8315</td>\n      <td>0.8340</td>\n      <td>0.8365</td>\n      <td>0.8389</td>\n    </tr>\n    <tr>\n      <th>1.00</th>\n      <td>0.8413</td>\n      <td>0.8438</td>\n      <td>0.8461</td>\n      <td>0.8485</td>\n      <td>0.8508</td>\n      <td>0.8531</td>\n      <td>0.8554</td>\n      <td>0.8577</td>\n      <td>0.8599</td>\n      <td>0.8621</td>\n    </tr>\n    <tr>\n      <th>1.10</th>\n      <td>0.8643</td>\n      <td>0.8665</td>\n      <td>0.8686</td>\n      <td>0.8708</td>\n      <td>0.8729</td>\n      <td>0.8749</td>\n      <td>0.8770</td>\n      <td>0.8790</td>\n      <td>0.8810</td>\n      <td>0.8830</td>\n    </tr>\n    <tr>\n      <th>1.20</th>\n      <td>0.8849</td>\n      <td>0.8869</td>\n      <td>0.8888</td>\n      <td>0.8907</td>\n      <td>0.8925</td>\n      <td>0.8944</td>\n      <td>0.8962</td>\n      <td>0.8980</td>\n      <td>0.8997</td>\n      <td>0.9015</td>\n    </tr>\n    <tr>\n      <th>1.30</th>\n      <td>0.9032</td>\n      <td>0.9049</td>\n      <td>0.9066</td>\n      <td>0.9082</td>\n      <td>0.9099</td>\n      <td>0.9115</td>\n      <td>0.9131</td>\n      <td>0.9147</td>\n      <td>0.9162</td>\n      <td>0.9177</td>\n    </tr>\n    <tr>\n      <th>1.40</th>\n      <td>0.9192</td>\n      <td>0.9207</td>\n      <td>0.9222</td>\n      <td>0.9236</td>\n      <td>0.9251</td>\n      <td>0.9265</td>\n      <td>0.9279</td>\n      <td>0.9292</td>\n      <td>0.9306</td>\n      <td>0.9319</td>\n    </tr>\n    <tr>\n      <th>1.50</th>\n      <td>0.9332</td>\n      <td>0.9345</td>\n      <td>0.9357</td>\n      <td>0.9370</td>\n      <td>0.9382</td>\n      <td>0.9394</td>\n      <td>0.9406</td>\n      <td>0.9418</td>\n      <td>0.9429</td>\n      <td>0.9441</td>\n    </tr>\n    <tr>\n      <th>1.60</th>\n      <td>0.9452</td>\n      <td>0.9463</td>\n      <td>0.9474</td>\n      <td>0.9484</td>\n      <td>0.9495</td>\n      <td>0.9505</td>\n      <td>0.9515</td>\n      <td>0.9525</td>\n      <td>0.9535</td>\n      <td>0.9545</td>\n    </tr>\n    <tr>\n      <th>1.70</th>\n      <td>0.9554</td>\n      <td>0.9564</td>\n      <td>0.9573</td>\n      <td>0.9582</td>\n      <td>0.9591</td>\n      <td>0.9599</td>\n      <td>0.9608</td>\n      <td>0.9616</td>\n      <td>0.9625</td>\n      <td>0.9633</td>\n    </tr>\n    <tr>\n      <th>1.80</th>\n      <td>0.9641</td>\n      <td>0.9649</td>\n      <td>0.9656</td>\n      <td>0.9664</td>\n      <td>0.9671</td>\n      <td>0.9678</td>\n      <td>0.9686</td>\n      <td>0.9693</td>\n      <td>0.9699</td>\n      <td>0.9706</td>\n    </tr>\n    <tr>\n      <th>1.90</th>\n      <td>0.9713</td>\n      <td>0.9719</td>\n      <td>0.9726</td>\n      <td>0.9732</td>\n      <td>0.9738</td>\n      <td>0.9744</td>\n      <td>0.9750</td>\n      <td>0.9756</td>\n      <td>0.9761</td>\n      <td>0.9767</td>\n    </tr>\n    <tr>\n      <th>2.00</th>\n      <td>0.9772</td>\n      <td>0.9778</td>\n      <td>0.9783</td>\n      <td>0.9788</td>\n      <td>0.9793</td>\n      <td>0.9798</td>\n      <td>0.9803</td>\n      <td>0.9808</td>\n      <td>0.9812</td>\n      <td>0.9817</td>\n    </tr>\n    <tr>\n      <th>2.10</th>\n      <td>0.9821</td>\n      <td>0.9826</td>\n      <td>0.9830</td>\n      <td>0.9834</td>\n      <td>0.9838</td>\n      <td>0.9842</td>\n      <td>0.9846</td>\n      <td>0.9850</td>\n      <td>0.9854</td>\n      <td>0.9857</td>\n    </tr>\n    <tr>\n      <th>2.20</th>\n      <td>0.9861</td>\n      <td>0.9864</td>\n      <td>0.9868</td>\n      <td>0.9871</td>\n      <td>0.9875</td>\n      <td>0.9878</td>\n      <td>0.9881</td>\n      <td>0.9884</td>\n      <td>0.9887</td>\n      <td>0.9890</td>\n    </tr>\n    <tr>\n      <th>2.30</th>\n      <td>0.9893</td>\n      <td>0.9896</td>\n      <td>0.9898</td>\n      <td>0.9901</td>\n      <td>0.9904</td>\n      <td>0.9906</td>\n      <td>0.9909</td>\n      <td>0.9911</td>\n      <td>0.9913</td>\n      <td>0.9916</td>\n    </tr>\n    <tr>\n      <th>2.40</th>\n      <td>0.9918</td>\n      <td>0.9920</td>\n      <td>0.9922</td>\n      <td>0.9925</td>\n      <td>0.9927</td>\n      <td>0.9929</td>\n      <td>0.9931</td>\n      <td>0.9932</td>\n      <td>0.9934</td>\n      <td>0.9936</td>\n    </tr>\n    <tr>\n      <th>2.50</th>\n      <td>0.9938</td>\n      <td>0.9940</td>\n      <td>0.9941</td>\n      <td>0.9943</td>\n      <td>0.9945</td>\n      <td>0.9946</td>\n      <td>0.9948</td>\n      <td>0.9949</td>\n      <td>0.9951</td>\n      <td>0.9952</td>\n    </tr>\n    <tr>\n      <th>2.60</th>\n      <td>0.9953</td>\n      <td>0.9955</td>\n      <td>0.9956</td>\n      <td>0.9957</td>\n      <td>0.9959</td>\n      <td>0.9960</td>\n      <td>0.9961</td>\n      <td>0.9962</td>\n      <td>0.9963</td>\n      <td>0.9964</td>\n    </tr>\n    <tr>\n      <th>2.70</th>\n      <td>0.9965</td>\n      <td>0.9966</td>\n      <td>0.9967</td>\n      <td>0.9968</td>\n      <td>0.9969</td>\n      <td>0.9970</td>\n      <td>0.9971</td>\n      <td>0.9972</td>\n      <td>0.9973</td>\n      <td>0.9974</td>\n    </tr>\n    <tr>\n      <th>2.80</th>\n      <td>0.9974</td>\n      <td>0.9975</td>\n      <td>0.9976</td>\n      <td>0.9977</td>\n      <td>0.9977</td>\n      <td>0.9978</td>\n      <td>0.9979</td>\n      <td>0.9979</td>\n      <td>0.9980</td>\n      <td>0.9981</td>\n    </tr>\n    <tr>\n      <th>2.90</th>\n      <td>0.9981</td>\n      <td>0.9982</td>\n      <td>0.9982</td>\n      <td>0.9983</td>\n      <td>0.9984</td>\n      <td>0.9984</td>\n      <td>0.9985</td>\n      <td>0.9985</td>\n      <td>0.9986</td>\n      <td>0.9986</td>\n    </tr>\n    <tr>\n      <th>3.00</th>\n      <td>0.9987</td>\n      <td>0.9987</td>\n      <td>0.9987</td>\n      <td>0.9988</td>\n      <td>0.9988</td>\n      <td>0.9989</td>\n      <td>0.9989</td>\n      <td>0.9989</td>\n      <td>0.9990</td>\n      <td>0.9990</td>\n    </tr>\n    <tr>\n      <th>3.10</th>\n      <td>0.9990</td>\n      <td>0.9991</td>\n      <td>0.9991</td>\n      <td>0.9991</td>\n      <td>0.9992</td>\n      <td>0.9992</td>\n      <td>0.9992</td>\n      <td>0.9992</td>\n      <td>0.9993</td>\n      <td>0.9993</td>\n    </tr>\n    <tr>\n      <th>3.20</th>\n      <td>0.9993</td>\n      <td>0.9993</td>\n      <td>0.9994</td>\n      <td>0.9994</td>\n      <td>0.9994</td>\n      <td>0.9994</td>\n      <td>0.9994</td>\n      <td>0.9995</td>\n      <td>0.9995</td>\n      <td>0.9995</td>\n    </tr>\n    <tr>\n      <th>3.30</th>\n      <td>0.9995</td>\n      <td>0.9995</td>\n      <td>0.9995</td>\n      <td>0.9996</td>\n      <td>0.9996</td>\n      <td>0.9996</td>\n      <td>0.9996</td>\n      <td>0.9996</td>\n      <td>0.9996</td>\n      <td>0.9997</td>\n    </tr>\n    <tr>\n      <th>3.40</th>\n      <td>0.9997</td>\n      <td>0.9997</td>\n      <td>0.9997</td>\n      <td>0.9997</td>\n      <td>0.9997</td>\n      <td>0.9997</td>\n      <td>0.9997</td>\n      <td>0.9997</td>\n      <td>0.9997</td>\n      <td>0.9998</td>\n    </tr>\n    <tr>\n      <th>3.50</th>\n      <td>0.9998</td>\n      <td>0.9998</td>\n      <td>0.9998</td>\n      <td>0.9998</td>\n      <td>0.9998</td>\n      <td>0.9998</td>\n      <td>0.9998</td>\n      <td>0.9998</td>\n      <td>0.9998</td>\n      <td>0.9998</td>\n    </tr>\n    <tr>\n      <th>3.60</th>\n      <td>0.9998</td>\n      <td>0.9998</td>\n      <td>0.9999</td>\n      <td>0.9999</td>\n      <td>0.9999</td>\n      <td>0.9999</td>\n      <td>0.9999</td>\n      <td>0.9999</td>\n      <td>0.9999</td>\n      <td>0.9999</td>\n    </tr>\n    <tr>\n      <th>3.70</th>\n      <td>0.9999</td>\n      <td>0.9999</td>\n      <td>0.9999</td>\n      <td>0.9999</td>\n      <td>0.9999</td>\n      <td>0.9999</td>\n      <td>0.9999</td>\n      <td>0.9999</td>\n      <td>0.9999</td>\n      <td>0.9999</td>\n    </tr>\n    <tr>\n      <th>3.80</th>\n      <td>0.9999</td>\n      <td>0.9999</td>\n      <td>0.9999</td>\n      <td>0.9999</td>\n      <td>0.9999</td>\n      <td>0.9999</td>\n      <td>0.9999</td>\n      <td>0.9999</td>\n      <td>0.9999</td>\n      <td>0.9999</td>\n    </tr>\n    <tr>\n      <th>3.90</th>\n      <td>1.0000</td>\n      <td>1.0000</td>\n      <td>1.0000</td>\n      <td>1.0000</td>\n      <td>1.0000</td>\n      <td>1.0000</td>\n      <td>1.0000</td>\n      <td>1.0000</td>\n      <td>1.0000</td>\n      <td>1.0000</td>\n    </tr>\n  </tbody>\n</table>\n</div>"
     },
     "metadata": {},
     "execution_count": 61
    }
   ],
   "source": [
    "import pandas as pd\n",
    "import numpy as np\n",
    "from scipy.stats import norm\n",
    "\n",
    "standarized_normal_table = pd.DataFrame(\n",
    "    [], \n",
    "    index=[\"{0:0.2f}\".format(i / 100) for i in range(0, 400, 10)],\n",
    "    columns = [\"{0:0.2f}\".format(i / 100) for i in range(0, 10)])\n",
    "\n",
    "for index in standarized_normal_table.index:\n",
    "    for column in standarized_normal_table.columns:\n",
    "        Z = np.round(float(index) + float(column), 2)\n",
    "        standarized_normal_table.loc[index, column] = \"{0:0.4f}\".format(norm.cdf(Z))\n",
    "\n",
    "standarized_normal_table.rename_axis('Z', axis = 'columns', inplace = True)\n",
    "\n",
    "standarized_normal_table"
   ]
  },
  {
   "source": [
    "<img src='https://caelum-online-public.s3.amazonaws.com/1178-estatistica-parte2/01/img003.png' width='250px'>\n",
    "\n",
    "The table above provides the area under the curve between $-\\infty$ and $Z$ above standard deviations. Remembering that since these are standardized values, we have $\\mu = 0 $."
   ],
   "cell_type": "markdown",
   "metadata": {}
  },
  {
   "source": [
    "## <font color = 'blue'> Example: How tall are you? </font>\n",
    "\n",
    "In a study on the heights of the residents of a city, it was found that the data set follows an ** approximately normal distribution **, with ** average 1.70 ** and ** standard deviation of 0.1 **. With this information, obtain the following set of probabilities:\n",
    "\n",
    "> ** A. ** probability of a person, selected at random, being less than 1.80 meters.\n",
    "\n",
    "> ** B. ** probability that a person, selected at random, is between 1.60 meters and 1.80 meters.\n",
    "\n",
    "> ** C. ** probability of a person, selected at random, having more than 1.90 meters."
   ],
   "cell_type": "markdown",
   "metadata": {}
  },
  {
   "source": [
    "### Problem A - Identification of the area under the curve"
   ],
   "cell_type": "markdown",
   "metadata": {}
  },
  {
   "source": [
    "<img style='float: left' src='https://caelum-online-public.s3.amazonaws.com/1178-estatistica-parte2/01/img004.png' width='350px'>"
   ],
   "cell_type": "markdown",
   "metadata": {}
  },
  {
   "source": [
    "### Get the $ Z $ standardized variable"
   ],
   "cell_type": "markdown",
   "metadata": {}
  },
  {
   "cell_type": "code",
   "execution_count": 62,
   "metadata": {},
   "outputs": [
    {
     "output_type": "execute_result",
     "data": {
      "text/plain": [
       "1.0000000000000009"
      ]
     },
     "metadata": {},
     "execution_count": 62
    }
   ],
   "source": [
    "mean = 1.7\n",
    "std_deviation = 0.1\n",
    "x = 1.8\n",
    "\n",
    "z = (x - mean) / std_deviation\n",
    "z"
   ]
  },
  {
   "source": [
    "### Solution 1 - Using table"
   ],
   "cell_type": "markdown",
   "metadata": {}
  },
  {
   "cell_type": "code",
   "execution_count": 63,
   "metadata": {},
   "outputs": [],
   "source": [
    "probability = 0.8413"
   ]
  },
  {
   "source": [
    "Solution 2 - Using Scipy"
   ],
   "cell_type": "markdown",
   "metadata": {}
  },
  {
   "cell_type": "code",
   "execution_count": 64,
   "metadata": {},
   "outputs": [
    {
     "output_type": "execute_result",
     "data": {
      "text/plain": [
       "0.8413447460685431"
      ]
     },
     "metadata": {},
     "execution_count": 64
    }
   ],
   "source": [
    "from scipy.stats import norm\n",
    "\n",
    "norm.cdf(z)"
   ]
  },
  {
   "source": [
    "### Problem B - Identification of the area under the curve\n",
    "\n",
    "<img style='float: left' src='https://caelum-online-public.s3.amazonaws.com/1178-estatistica-parte2/01/img005.png' width='350px'>"
   ],
   "cell_type": "markdown",
   "metadata": {}
  },
  {
   "source": [
    "### Get the $Z$ standardized variable"
   ],
   "cell_type": "markdown",
   "metadata": {}
  },
  {
   "cell_type": "code",
   "execution_count": 65,
   "metadata": {},
   "outputs": [
    {
     "output_type": "execute_result",
     "data": {
      "text/plain": [
       "0.0"
      ]
     },
     "metadata": {},
     "execution_count": 65
    }
   ],
   "source": [
    " z = (1.7 - mean) / std_deviation\n",
    " z"
   ]
  },
  {
   "cell_type": "code",
   "execution_count": 66,
   "metadata": {},
   "outputs": [
    {
     "output_type": "execute_result",
     "data": {
      "text/plain": [
       "1.0000000000000009"
      ]
     },
     "metadata": {},
     "execution_count": 66
    }
   ],
   "source": [
    "z = (1.8 - mean) / std_deviation\n",
    "z"
   ]
  },
  {
   "source": [
    "### Solution 1 - Using table"
   ],
   "cell_type": "markdown",
   "metadata": {}
  },
  {
   "cell_type": "code",
   "execution_count": 67,
   "metadata": {},
   "outputs": [
    {
     "output_type": "execute_result",
     "data": {
      "text/plain": [
       "0.6826000000000001"
      ]
     },
     "metadata": {},
     "execution_count": 67
    }
   ],
   "source": [
    "probability_1_80 = 0.8413 # calculation from above\n",
    "mean = 0.5 # mean of bell curve, 50%\n",
    "p1 = probability_1_80 - mean  # p of 1.8 - mean (1.7, equal to 0.5 of curve)\n",
    "\n",
    "\n",
    "# considering that the curve is symmetrical, and that 1.7-1.8 = p1, the interval between 1.6 and 1.8 is p1 * 2\n",
    "probability = p1 * 2  \n",
    "probability "
   ]
  },
  {
   "cell_type": "code",
   "execution_count": 68,
   "metadata": {},
   "outputs": [
    {
     "output_type": "execute_result",
     "data": {
      "text/plain": [
       "0.6826894921370859"
      ]
     },
     "metadata": {},
     "execution_count": 68
    }
   ],
   "source": [
    "mean = 1.7\n",
    "std_deviation = 0.1\n",
    "superior_z = (1.8 - mean) / std_deviation\n",
    "superior_z = round(superior_z, 2)\n",
    "\n",
    "inferior_z = (1.6 - mean) / std_deviation\n",
    "inferior_z = round(inferior_z, 2)\n",
    "\n",
    "\n",
    "probability = norm.cdf(superior_z)  - (1 - norm.cdf(superior_z))\n",
    "\n",
    "probability "
   ]
  },
  {
   "source": [
    "### Solution 2 - Using scipy"
   ],
   "cell_type": "markdown",
   "metadata": {}
  },
  {
   "cell_type": "code",
   "execution_count": 69,
   "metadata": {},
   "outputs": [
    {
     "output_type": "execute_result",
     "data": {
      "text/plain": [
       "0.6826894921370859"
      ]
     },
     "metadata": {},
     "execution_count": 69
    }
   ],
   "source": [
    "probability = norm.cdf(superior_z) - norm.cdf(inferior_z)\n",
    "probability"
   ]
  },
  {
   "source": [
    "### Problem C - Identifying the area under the curve\n",
    "\n",
    "<img style='float: left' src='https://caelum-online-public.s3.amazonaws.com/1178-estatistica-parte2/01/img006.png' width='350px'>"
   ],
   "cell_type": "markdown",
   "metadata": {}
  },
  {
   "source": [
    "### Get the $Z$ standardized variable"
   ],
   "cell_type": "markdown",
   "metadata": {}
  },
  {
   "cell_type": "code",
   "execution_count": 70,
   "metadata": {},
   "outputs": [
    {
     "output_type": "execute_result",
     "data": {
      "text/plain": [
       "1.9999999999999996"
      ]
     },
     "metadata": {},
     "execution_count": 70
    }
   ],
   "source": [
    "z = (1.9 - mean) / std_deviation\n",
    "z"
   ]
  },
  {
   "source": [
    "### Solution 1 - Using table"
   ],
   "cell_type": "markdown",
   "metadata": {}
  },
  {
   "cell_type": "code",
   "execution_count": 72,
   "metadata": {},
   "outputs": [
    {
     "output_type": "execute_result",
     "data": {
      "text/plain": [
       "0.023299999999999987"
      ]
     },
     "metadata": {},
     "execution_count": 72
    }
   ],
   "source": [
    "probability = 1 - 0.9767\n",
    "probability"
   ]
  },
  {
   "source": [
    "### Solution 2 - Using Scipy"
   ],
   "cell_type": "markdown",
   "metadata": {}
  },
  {
   "cell_type": "code",
   "execution_count": 74,
   "metadata": {},
   "outputs": [
    {
     "output_type": "execute_result",
     "data": {
      "text/plain": [
       "0.02275013194817921"
      ]
     },
     "metadata": {},
     "execution_count": 74
    }
   ],
   "source": [
    "probability = 1 - norm.cdf(z)\n",
    "probability"
   ]
  },
  {
   "cell_type": "code",
   "execution_count": 75,
   "metadata": {},
   "outputs": [
    {
     "output_type": "execute_result",
     "data": {
      "text/plain": [
       "0.022750131948179216"
      ]
     },
     "metadata": {},
     "execution_count": 75
    }
   ],
   "source": [
    "probability = norm.cdf(-z)\n",
    "probability"
   ]
  }
 ]
}