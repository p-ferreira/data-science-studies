{
 "metadata": {
  "language_info": {
   "codemirror_mode": {
    "name": "ipython",
    "version": 3
   },
   "file_extension": ".py",
   "mimetype": "text/x-python",
   "name": "python",
   "nbconvert_exporter": "python",
   "pygments_lexer": "ipython3",
   "version": "3.8.5"
  },
  "orig_nbformat": 2,
  "kernelspec": {
   "name": "python385jvsc74a57bd0694c8744488563f6cd2d93f9dc805a9ad929a19bb6157c2d6f3cab25a4c31ca1",
   "display_name": "Python 3.8.5 64-bit ('base': conda)"
  }
 },
 "nbformat": 4,
 "nbformat_minor": 2,
 "cells": [
  {
   "source": [
    "### Problem\n",
    "\n",
    "A new treatment to end smoking is being used in a group of ** 35 patients ** volunteers. For each patient tested, information was obtained on the number of cigarettes consumed per day before and after the end of treatment. Assuming a ** 95% confidence level ** is it possible to conclude that, after the application of the new treatment, there was a change in the smoking habit of the group of patients tested?"
   ],
   "cell_type": "markdown",
   "metadata": {}
  },
  {
   "source": [
    "## <font color = green>Wilcoxon test </font>\n",
    "### Comparison of two populations - dependent samples\n",
    "***\n",
    "\n",
    "Used when comparing two related samples, paired samples. It can be applied when you want to test the difference of two conditions, that is, when the same element is subjected to two measurements."
   ],
   "cell_type": "markdown",
   "metadata": {}
  },
  {
   "source": [
    "### Problem data"
   ],
   "cell_type": "markdown",
   "metadata": {}
  },
  {
   "cell_type": "code",
   "execution_count": 55,
   "metadata": {},
   "outputs": [],
   "source": [
    "smoke = {\n",
    "    'Before': [39, 25, 24, 50, 13, 52, 21, 29, 10, 22, 50, 15, 36, 39, 52, 48, 24, 15, 40, 41, 17, 12, 21, 49, 14, 55, 46, 22, 28, 23, 37, 17, 31, 49, 49],\n",
    "    'After': [16, 8, 12, 0, 14, 16, 13, 12, 19, 17, 17, 2, 15, 10, 20, 13, 0, 4, 16, 18, 16, 16, 9, 9, 18, 4, 17, 0, 11, 14, 0, 19, 2, 9, 6]\n",
    "}\n",
    "significance = 0.05\n",
    "confidence = 1 - significance\n",
    "n = 35"
   ]
  },
  {
   "cell_type": "code",
   "execution_count": 56,
   "metadata": {},
   "outputs": [
    {
     "output_type": "execute_result",
     "data": {
      "text/plain": [
       "   Before  After\n",
       "0      39     16\n",
       "1      25      8\n",
       "2      24     12\n",
       "3      50      0\n",
       "4      13     14"
      ],
      "text/html": "<div>\n<style scoped>\n    .dataframe tbody tr th:only-of-type {\n        vertical-align: middle;\n    }\n\n    .dataframe tbody tr th {\n        vertical-align: top;\n    }\n\n    .dataframe thead th {\n        text-align: right;\n    }\n</style>\n<table border=\"1\" class=\"dataframe\">\n  <thead>\n    <tr style=\"text-align: right;\">\n      <th></th>\n      <th>Before</th>\n      <th>After</th>\n    </tr>\n  </thead>\n  <tbody>\n    <tr>\n      <th>0</th>\n      <td>39</td>\n      <td>16</td>\n    </tr>\n    <tr>\n      <th>1</th>\n      <td>25</td>\n      <td>8</td>\n    </tr>\n    <tr>\n      <th>2</th>\n      <td>24</td>\n      <td>12</td>\n    </tr>\n    <tr>\n      <th>3</th>\n      <td>50</td>\n      <td>0</td>\n    </tr>\n    <tr>\n      <th>4</th>\n      <td>13</td>\n      <td>14</td>\n    </tr>\n  </tbody>\n</table>\n</div>"
     },
     "metadata": {},
     "execution_count": 56
    }
   ],
   "source": [
    "import pandas as pd\n",
    "\n",
    "smoke = pd.DataFrame(smoke)\n",
    "smoke.head()"
   ]
  },
  {
   "cell_type": "code",
   "execution_count": 57,
   "metadata": {},
   "outputs": [
    {
     "output_type": "execute_result",
     "data": {
      "text/plain": [
       "31.857142857142858"
      ]
     },
     "metadata": {},
     "execution_count": 57
    }
   ],
   "source": [
    "average_before = smoke['Before'].mean()\n",
    "average_before"
   ]
  },
  {
   "cell_type": "code",
   "execution_count": 58,
   "metadata": {},
   "outputs": [
    {
     "output_type": "execute_result",
     "data": {
      "text/plain": [
       "11.2"
      ]
     },
     "metadata": {},
     "execution_count": 58
    }
   ],
   "source": [
    "average_after = smoke['After'].mean()\n",
    "average_after"
   ]
  },
  {
   "source": [
    "### ** Step 1 ** - formulation of hypotheses $ H_0 $ and $ H_1 $\n",
    "\n",
    "#### <font color = 'red'> Remember, the null hypothesis always contains the equality claim </font>\n",
    "\n",
    "### $H_0: \\mu_{before} = \\mu_{after}$\n",
    "\n",
    "### $H_1: \\mu_{before} > \\mu_{after}$"
   ],
   "cell_type": "markdown",
   "metadata": {}
  },
  {
   "cell_type": "code",
   "execution_count": null,
   "metadata": {},
   "outputs": [],
   "source": []
  },
  {
   "source": [
    "---"
   ],
   "cell_type": "markdown",
   "metadata": {}
  },
  {
   "source": [
    "### ** Step 2 ** - choose the appropriate sample distribution\n",
    "\n",
    "### Is the sample size larger than 20?\n",
    "#### Ans .: Yes\n",
    "\n"
   ],
   "cell_type": "markdown",
   "metadata": {}
  },
  {
   "source": [
    "---"
   ],
   "cell_type": "markdown",
   "metadata": {}
  },
  {
   "source": [
    "### ** Step 3 ** - fixing the test significance ($\\alpha$)"
   ],
   "cell_type": "markdown",
   "metadata": {}
  },
  {
   "source": [
    "### Getting $z_{\\alpha / 2} $"
   ],
   "cell_type": "markdown",
   "metadata": {}
  },
  {
   "cell_type": "code",
   "execution_count": 59,
   "metadata": {},
   "outputs": [
    {
     "output_type": "execute_result",
     "data": {
      "text/plain": [
       "0.975"
      ]
     },
     "metadata": {},
     "execution_count": 59
    }
   ],
   "source": [
    "probability = (0.5 + (confidence / 2))\n",
    "probability"
   ]
  },
  {
   "cell_type": "code",
   "execution_count": 60,
   "metadata": {},
   "outputs": [
    {
     "output_type": "execute_result",
     "data": {
      "text/plain": [
       "1.96"
      ]
     },
     "metadata": {},
     "execution_count": 60
    }
   ],
   "source": [
    "from scipy.stats import norm\n",
    "\n",
    "z_alpha_2 = norm.ppf(probability)\n",
    "z_alpha_2.round(2)"
   ]
  },
  {
   "source": [
    "![Acceptance Region] (https://caelum-online-public.s3.amazonaws.com/1229-estatistica-parte3/01/img006.png)\n",
    "\n",
    "---"
   ],
   "cell_type": "markdown",
   "metadata": {}
  },
  {
   "source": [
    "### ** Step 4 ** - calculation of the test statistic and verification of this value with the test acceptance and rejection areas\n",
    "\n",
    "# $$ Z = \\frac {T - \\mu_T} {\\sigma_T} $$\n",
    "\n",
    "Where\n",
    "\n",
    "## $ T $ = smaller of the sums of stations with the same sign\n",
    "\n",
    "# $$ \\mu_T = \\frac {n (n + 1)} {4} $$\n",
    "# $$ \\sigma_T = \\sqrt {\\frac {n (n + 1) (2n + 1)} {24}} $$"
   ],
   "cell_type": "markdown",
   "metadata": {}
  },
  {
   "source": [
    "### Building the table with the posts"
   ],
   "cell_type": "markdown",
   "metadata": {}
  },
  {
   "cell_type": "code",
   "execution_count": 61,
   "metadata": {},
   "outputs": [
    {
     "output_type": "execute_result",
     "data": {
      "text/plain": [
       "    Before  After\n",
       "0       39     16\n",
       "1       25      8\n",
       "2       24     12\n",
       "3       50      0\n",
       "4       13     14\n",
       "5       52     16\n",
       "6       21     13\n",
       "7       29     12\n",
       "8       10     19\n",
       "9       22     17\n",
       "10      50     17\n",
       "11      15      2\n",
       "12      36     15\n",
       "13      39     10\n",
       "14      52     20\n",
       "15      48     13\n",
       "16      24      0\n",
       "17      15      4\n",
       "18      40     16\n",
       "19      41     18\n",
       "20      17     16\n",
       "21      12     16\n",
       "22      21      9\n",
       "23      49      9\n",
       "24      14     18\n",
       "25      55      4\n",
       "26      46     17\n",
       "27      22      0\n",
       "28      28     11\n",
       "29      23     14\n",
       "30      37      0\n",
       "31      17     19\n",
       "32      31      2\n",
       "33      49      9\n",
       "34      49      6"
      ],
      "text/html": "<div>\n<style scoped>\n    .dataframe tbody tr th:only-of-type {\n        vertical-align: middle;\n    }\n\n    .dataframe tbody tr th {\n        vertical-align: top;\n    }\n\n    .dataframe thead th {\n        text-align: right;\n    }\n</style>\n<table border=\"1\" class=\"dataframe\">\n  <thead>\n    <tr style=\"text-align: right;\">\n      <th></th>\n      <th>Before</th>\n      <th>After</th>\n    </tr>\n  </thead>\n  <tbody>\n    <tr>\n      <th>0</th>\n      <td>39</td>\n      <td>16</td>\n    </tr>\n    <tr>\n      <th>1</th>\n      <td>25</td>\n      <td>8</td>\n    </tr>\n    <tr>\n      <th>2</th>\n      <td>24</td>\n      <td>12</td>\n    </tr>\n    <tr>\n      <th>3</th>\n      <td>50</td>\n      <td>0</td>\n    </tr>\n    <tr>\n      <th>4</th>\n      <td>13</td>\n      <td>14</td>\n    </tr>\n    <tr>\n      <th>5</th>\n      <td>52</td>\n      <td>16</td>\n    </tr>\n    <tr>\n      <th>6</th>\n      <td>21</td>\n      <td>13</td>\n    </tr>\n    <tr>\n      <th>7</th>\n      <td>29</td>\n      <td>12</td>\n    </tr>\n    <tr>\n      <th>8</th>\n      <td>10</td>\n      <td>19</td>\n    </tr>\n    <tr>\n      <th>9</th>\n      <td>22</td>\n      <td>17</td>\n    </tr>\n    <tr>\n      <th>10</th>\n      <td>50</td>\n      <td>17</td>\n    </tr>\n    <tr>\n      <th>11</th>\n      <td>15</td>\n      <td>2</td>\n    </tr>\n    <tr>\n      <th>12</th>\n      <td>36</td>\n      <td>15</td>\n    </tr>\n    <tr>\n      <th>13</th>\n      <td>39</td>\n      <td>10</td>\n    </tr>\n    <tr>\n      <th>14</th>\n      <td>52</td>\n      <td>20</td>\n    </tr>\n    <tr>\n      <th>15</th>\n      <td>48</td>\n      <td>13</td>\n    </tr>\n    <tr>\n      <th>16</th>\n      <td>24</td>\n      <td>0</td>\n    </tr>\n    <tr>\n      <th>17</th>\n      <td>15</td>\n      <td>4</td>\n    </tr>\n    <tr>\n      <th>18</th>\n      <td>40</td>\n      <td>16</td>\n    </tr>\n    <tr>\n      <th>19</th>\n      <td>41</td>\n      <td>18</td>\n    </tr>\n    <tr>\n      <th>20</th>\n      <td>17</td>\n      <td>16</td>\n    </tr>\n    <tr>\n      <th>21</th>\n      <td>12</td>\n      <td>16</td>\n    </tr>\n    <tr>\n      <th>22</th>\n      <td>21</td>\n      <td>9</td>\n    </tr>\n    <tr>\n      <th>23</th>\n      <td>49</td>\n      <td>9</td>\n    </tr>\n    <tr>\n      <th>24</th>\n      <td>14</td>\n      <td>18</td>\n    </tr>\n    <tr>\n      <th>25</th>\n      <td>55</td>\n      <td>4</td>\n    </tr>\n    <tr>\n      <th>26</th>\n      <td>46</td>\n      <td>17</td>\n    </tr>\n    <tr>\n      <th>27</th>\n      <td>22</td>\n      <td>0</td>\n    </tr>\n    <tr>\n      <th>28</th>\n      <td>28</td>\n      <td>11</td>\n    </tr>\n    <tr>\n      <th>29</th>\n      <td>23</td>\n      <td>14</td>\n    </tr>\n    <tr>\n      <th>30</th>\n      <td>37</td>\n      <td>0</td>\n    </tr>\n    <tr>\n      <th>31</th>\n      <td>17</td>\n      <td>19</td>\n    </tr>\n    <tr>\n      <th>32</th>\n      <td>31</td>\n      <td>2</td>\n    </tr>\n    <tr>\n      <th>33</th>\n      <td>49</td>\n      <td>9</td>\n    </tr>\n    <tr>\n      <th>34</th>\n      <td>49</td>\n      <td>6</td>\n    </tr>\n  </tbody>\n</table>\n</div>"
     },
     "metadata": {},
     "execution_count": 61
    }
   ],
   "source": [
    "smoke"
   ]
  },
  {
   "cell_type": "code",
   "execution_count": 62,
   "metadata": {},
   "outputs": [
    {
     "output_type": "execute_result",
     "data": {
      "text/plain": [
       "    Before  After  Diff\n",
       "0       39     16   -23\n",
       "1       25      8   -17\n",
       "2       24     12   -12\n",
       "3       50      0   -50\n",
       "4       13     14     1\n",
       "5       52     16   -36\n",
       "6       21     13    -8\n",
       "7       29     12   -17\n",
       "8       10     19     9\n",
       "9       22     17    -5\n",
       "10      50     17   -33\n",
       "11      15      2   -13\n",
       "12      36     15   -21\n",
       "13      39     10   -29\n",
       "14      52     20   -32\n",
       "15      48     13   -35\n",
       "16      24      0   -24\n",
       "17      15      4   -11\n",
       "18      40     16   -24\n",
       "19      41     18   -23\n",
       "20      17     16    -1\n",
       "21      12     16     4\n",
       "22      21      9   -12\n",
       "23      49      9   -40\n",
       "24      14     18     4\n",
       "25      55      4   -51\n",
       "26      46     17   -29\n",
       "27      22      0   -22\n",
       "28      28     11   -17\n",
       "29      23     14    -9\n",
       "30      37      0   -37\n",
       "31      17     19     2\n",
       "32      31      2   -29\n",
       "33      49      9   -40\n",
       "34      49      6   -43"
      ],
      "text/html": "<div>\n<style scoped>\n    .dataframe tbody tr th:only-of-type {\n        vertical-align: middle;\n    }\n\n    .dataframe tbody tr th {\n        vertical-align: top;\n    }\n\n    .dataframe thead th {\n        text-align: right;\n    }\n</style>\n<table border=\"1\" class=\"dataframe\">\n  <thead>\n    <tr style=\"text-align: right;\">\n      <th></th>\n      <th>Before</th>\n      <th>After</th>\n      <th>Diff</th>\n    </tr>\n  </thead>\n  <tbody>\n    <tr>\n      <th>0</th>\n      <td>39</td>\n      <td>16</td>\n      <td>-23</td>\n    </tr>\n    <tr>\n      <th>1</th>\n      <td>25</td>\n      <td>8</td>\n      <td>-17</td>\n    </tr>\n    <tr>\n      <th>2</th>\n      <td>24</td>\n      <td>12</td>\n      <td>-12</td>\n    </tr>\n    <tr>\n      <th>3</th>\n      <td>50</td>\n      <td>0</td>\n      <td>-50</td>\n    </tr>\n    <tr>\n      <th>4</th>\n      <td>13</td>\n      <td>14</td>\n      <td>1</td>\n    </tr>\n    <tr>\n      <th>5</th>\n      <td>52</td>\n      <td>16</td>\n      <td>-36</td>\n    </tr>\n    <tr>\n      <th>6</th>\n      <td>21</td>\n      <td>13</td>\n      <td>-8</td>\n    </tr>\n    <tr>\n      <th>7</th>\n      <td>29</td>\n      <td>12</td>\n      <td>-17</td>\n    </tr>\n    <tr>\n      <th>8</th>\n      <td>10</td>\n      <td>19</td>\n      <td>9</td>\n    </tr>\n    <tr>\n      <th>9</th>\n      <td>22</td>\n      <td>17</td>\n      <td>-5</td>\n    </tr>\n    <tr>\n      <th>10</th>\n      <td>50</td>\n      <td>17</td>\n      <td>-33</td>\n    </tr>\n    <tr>\n      <th>11</th>\n      <td>15</td>\n      <td>2</td>\n      <td>-13</td>\n    </tr>\n    <tr>\n      <th>12</th>\n      <td>36</td>\n      <td>15</td>\n      <td>-21</td>\n    </tr>\n    <tr>\n      <th>13</th>\n      <td>39</td>\n      <td>10</td>\n      <td>-29</td>\n    </tr>\n    <tr>\n      <th>14</th>\n      <td>52</td>\n      <td>20</td>\n      <td>-32</td>\n    </tr>\n    <tr>\n      <th>15</th>\n      <td>48</td>\n      <td>13</td>\n      <td>-35</td>\n    </tr>\n    <tr>\n      <th>16</th>\n      <td>24</td>\n      <td>0</td>\n      <td>-24</td>\n    </tr>\n    <tr>\n      <th>17</th>\n      <td>15</td>\n      <td>4</td>\n      <td>-11</td>\n    </tr>\n    <tr>\n      <th>18</th>\n      <td>40</td>\n      <td>16</td>\n      <td>-24</td>\n    </tr>\n    <tr>\n      <th>19</th>\n      <td>41</td>\n      <td>18</td>\n      <td>-23</td>\n    </tr>\n    <tr>\n      <th>20</th>\n      <td>17</td>\n      <td>16</td>\n      <td>-1</td>\n    </tr>\n    <tr>\n      <th>21</th>\n      <td>12</td>\n      <td>16</td>\n      <td>4</td>\n    </tr>\n    <tr>\n      <th>22</th>\n      <td>21</td>\n      <td>9</td>\n      <td>-12</td>\n    </tr>\n    <tr>\n      <th>23</th>\n      <td>49</td>\n      <td>9</td>\n      <td>-40</td>\n    </tr>\n    <tr>\n      <th>24</th>\n      <td>14</td>\n      <td>18</td>\n      <td>4</td>\n    </tr>\n    <tr>\n      <th>25</th>\n      <td>55</td>\n      <td>4</td>\n      <td>-51</td>\n    </tr>\n    <tr>\n      <th>26</th>\n      <td>46</td>\n      <td>17</td>\n      <td>-29</td>\n    </tr>\n    <tr>\n      <th>27</th>\n      <td>22</td>\n      <td>0</td>\n      <td>-22</td>\n    </tr>\n    <tr>\n      <th>28</th>\n      <td>28</td>\n      <td>11</td>\n      <td>-17</td>\n    </tr>\n    <tr>\n      <th>29</th>\n      <td>23</td>\n      <td>14</td>\n      <td>-9</td>\n    </tr>\n    <tr>\n      <th>30</th>\n      <td>37</td>\n      <td>0</td>\n      <td>-37</td>\n    </tr>\n    <tr>\n      <th>31</th>\n      <td>17</td>\n      <td>19</td>\n      <td>2</td>\n    </tr>\n    <tr>\n      <th>32</th>\n      <td>31</td>\n      <td>2</td>\n      <td>-29</td>\n    </tr>\n    <tr>\n      <th>33</th>\n      <td>49</td>\n      <td>9</td>\n      <td>-40</td>\n    </tr>\n    <tr>\n      <th>34</th>\n      <td>49</td>\n      <td>6</td>\n      <td>-43</td>\n    </tr>\n  </tbody>\n</table>\n</div>"
     },
     "metadata": {},
     "execution_count": 62
    }
   ],
   "source": [
    "smoke['Diff'] = smoke['After'] - smoke['Before']\n",
    "smoke"
   ]
  },
  {
   "cell_type": "code",
   "execution_count": 63,
   "metadata": {},
   "outputs": [
    {
     "output_type": "execute_result",
     "data": {
      "text/plain": [
       "   Before  After  Diff  |Diff|\n",
       "0      39     16   -23      23\n",
       "1      25      8   -17      17\n",
       "2      24     12   -12      12\n",
       "3      50      0   -50      50\n",
       "4      13     14     1       1"
      ],
      "text/html": "<div>\n<style scoped>\n    .dataframe tbody tr th:only-of-type {\n        vertical-align: middle;\n    }\n\n    .dataframe tbody tr th {\n        vertical-align: top;\n    }\n\n    .dataframe thead th {\n        text-align: right;\n    }\n</style>\n<table border=\"1\" class=\"dataframe\">\n  <thead>\n    <tr style=\"text-align: right;\">\n      <th></th>\n      <th>Before</th>\n      <th>After</th>\n      <th>Diff</th>\n      <th>|Diff|</th>\n    </tr>\n  </thead>\n  <tbody>\n    <tr>\n      <th>0</th>\n      <td>39</td>\n      <td>16</td>\n      <td>-23</td>\n      <td>23</td>\n    </tr>\n    <tr>\n      <th>1</th>\n      <td>25</td>\n      <td>8</td>\n      <td>-17</td>\n      <td>17</td>\n    </tr>\n    <tr>\n      <th>2</th>\n      <td>24</td>\n      <td>12</td>\n      <td>-12</td>\n      <td>12</td>\n    </tr>\n    <tr>\n      <th>3</th>\n      <td>50</td>\n      <td>0</td>\n      <td>-50</td>\n      <td>50</td>\n    </tr>\n    <tr>\n      <th>4</th>\n      <td>13</td>\n      <td>14</td>\n      <td>1</td>\n      <td>1</td>\n    </tr>\n  </tbody>\n</table>\n</div>"
     },
     "metadata": {},
     "execution_count": 63
    }
   ],
   "source": [
    "smoke['|Diff|'] = smoke['Diff'].abs()\n",
    "smoke.head()"
   ]
  },
  {
   "cell_type": "code",
   "execution_count": 64,
   "metadata": {},
   "outputs": [
    {
     "output_type": "execute_result",
     "data": {
      "text/plain": [
       "    Before  After  Diff  |Diff|\n",
       "4       13     14     1       1\n",
       "20      17     16    -1       1\n",
       "31      17     19     2       2\n",
       "21      12     16     4       4\n",
       "24      14     18     4       4"
      ],
      "text/html": "<div>\n<style scoped>\n    .dataframe tbody tr th:only-of-type {\n        vertical-align: middle;\n    }\n\n    .dataframe tbody tr th {\n        vertical-align: top;\n    }\n\n    .dataframe thead th {\n        text-align: right;\n    }\n</style>\n<table border=\"1\" class=\"dataframe\">\n  <thead>\n    <tr style=\"text-align: right;\">\n      <th></th>\n      <th>Before</th>\n      <th>After</th>\n      <th>Diff</th>\n      <th>|Diff|</th>\n    </tr>\n  </thead>\n  <tbody>\n    <tr>\n      <th>4</th>\n      <td>13</td>\n      <td>14</td>\n      <td>1</td>\n      <td>1</td>\n    </tr>\n    <tr>\n      <th>20</th>\n      <td>17</td>\n      <td>16</td>\n      <td>-1</td>\n      <td>1</td>\n    </tr>\n    <tr>\n      <th>31</th>\n      <td>17</td>\n      <td>19</td>\n      <td>2</td>\n      <td>2</td>\n    </tr>\n    <tr>\n      <th>21</th>\n      <td>12</td>\n      <td>16</td>\n      <td>4</td>\n      <td>4</td>\n    </tr>\n    <tr>\n      <th>24</th>\n      <td>14</td>\n      <td>18</td>\n      <td>4</td>\n      <td>4</td>\n    </tr>\n  </tbody>\n</table>\n</div>"
     },
     "metadata": {},
     "execution_count": 64
    }
   ],
   "source": [
    "smoke.sort_values(by = '|Diff|', inplace=True)\n",
    "smoke.head()"
   ]
  },
  {
   "cell_type": "code",
   "execution_count": 65,
   "metadata": {},
   "outputs": [
    {
     "output_type": "execute_result",
     "data": {
      "text/plain": [
       "    Before  After  Diff  |Diff|  Post\n",
       "4       13     14     1       1     1\n",
       "20      17     16    -1       1     2\n",
       "31      17     19     2       2     3\n",
       "21      12     16     4       4     4\n",
       "24      14     18     4       4     5"
      ],
      "text/html": "<div>\n<style scoped>\n    .dataframe tbody tr th:only-of-type {\n        vertical-align: middle;\n    }\n\n    .dataframe tbody tr th {\n        vertical-align: top;\n    }\n\n    .dataframe thead th {\n        text-align: right;\n    }\n</style>\n<table border=\"1\" class=\"dataframe\">\n  <thead>\n    <tr style=\"text-align: right;\">\n      <th></th>\n      <th>Before</th>\n      <th>After</th>\n      <th>Diff</th>\n      <th>|Diff|</th>\n      <th>Post</th>\n    </tr>\n  </thead>\n  <tbody>\n    <tr>\n      <th>4</th>\n      <td>13</td>\n      <td>14</td>\n      <td>1</td>\n      <td>1</td>\n      <td>1</td>\n    </tr>\n    <tr>\n      <th>20</th>\n      <td>17</td>\n      <td>16</td>\n      <td>-1</td>\n      <td>1</td>\n      <td>2</td>\n    </tr>\n    <tr>\n      <th>31</th>\n      <td>17</td>\n      <td>19</td>\n      <td>2</td>\n      <td>2</td>\n      <td>3</td>\n    </tr>\n    <tr>\n      <th>21</th>\n      <td>12</td>\n      <td>16</td>\n      <td>4</td>\n      <td>4</td>\n      <td>4</td>\n    </tr>\n    <tr>\n      <th>24</th>\n      <td>14</td>\n      <td>18</td>\n      <td>4</td>\n      <td>4</td>\n      <td>5</td>\n    </tr>\n  </tbody>\n</table>\n</div>"
     },
     "metadata": {},
     "execution_count": 65
    }
   ],
   "source": [
    "smoke['Post'] = range(1, len(smoke) + 1)\n",
    "smoke.head()"
   ]
  },
  {
   "cell_type": "code",
   "execution_count": 66,
   "metadata": {},
   "outputs": [
    {
     "output_type": "execute_result",
     "data": {
      "text/plain": [
       "        Post\n",
       "|Diff|      \n",
       "1        1.5\n",
       "2        3.0\n",
       "4        4.5\n",
       "5        6.0\n",
       "8        7.0"
      ],
      "text/html": "<div>\n<style scoped>\n    .dataframe tbody tr th:only-of-type {\n        vertical-align: middle;\n    }\n\n    .dataframe tbody tr th {\n        vertical-align: top;\n    }\n\n    .dataframe thead th {\n        text-align: right;\n    }\n</style>\n<table border=\"1\" class=\"dataframe\">\n  <thead>\n    <tr style=\"text-align: right;\">\n      <th></th>\n      <th>Post</th>\n    </tr>\n    <tr>\n      <th>|Diff|</th>\n      <th></th>\n    </tr>\n  </thead>\n  <tbody>\n    <tr>\n      <th>1</th>\n      <td>1.5</td>\n    </tr>\n    <tr>\n      <th>2</th>\n      <td>3.0</td>\n    </tr>\n    <tr>\n      <th>4</th>\n      <td>4.5</td>\n    </tr>\n    <tr>\n      <th>5</th>\n      <td>6.0</td>\n    </tr>\n    <tr>\n      <th>8</th>\n      <td>7.0</td>\n    </tr>\n  </tbody>\n</table>\n</div>"
     },
     "metadata": {},
     "execution_count": 66
    }
   ],
   "source": [
    "post = smoke[['|Diff|', 'Post']].groupby(['|Diff|']).mean()\n",
    "post.head()"
   ]
  },
  {
   "cell_type": "code",
   "execution_count": 67,
   "metadata": {},
   "outputs": [
    {
     "output_type": "execute_result",
     "data": {
      "text/plain": [
       "    |Diff|  Post\n",
       "0        1   1.5\n",
       "1        2   3.0\n",
       "2        4   4.5\n",
       "3        5   6.0\n",
       "4        8   7.0\n",
       "5        9   8.5\n",
       "6       11  10.0\n",
       "7       12  11.5\n",
       "8       13  13.0\n",
       "9       17  15.0\n",
       "10      21  17.0\n",
       "11      22  18.0\n",
       "12      23  19.5\n",
       "13      24  21.5\n",
       "14      29  24.0\n",
       "15      32  26.0\n",
       "16      33  27.0\n",
       "17      35  28.0\n",
       "18      36  29.0\n",
       "19      37  30.0\n",
       "20      40  31.5\n",
       "21      43  33.0\n",
       "22      50  34.0\n",
       "23      51  35.0"
      ],
      "text/html": "<div>\n<style scoped>\n    .dataframe tbody tr th:only-of-type {\n        vertical-align: middle;\n    }\n\n    .dataframe tbody tr th {\n        vertical-align: top;\n    }\n\n    .dataframe thead th {\n        text-align: right;\n    }\n</style>\n<table border=\"1\" class=\"dataframe\">\n  <thead>\n    <tr style=\"text-align: right;\">\n      <th></th>\n      <th>|Diff|</th>\n      <th>Post</th>\n    </tr>\n  </thead>\n  <tbody>\n    <tr>\n      <th>0</th>\n      <td>1</td>\n      <td>1.5</td>\n    </tr>\n    <tr>\n      <th>1</th>\n      <td>2</td>\n      <td>3.0</td>\n    </tr>\n    <tr>\n      <th>2</th>\n      <td>4</td>\n      <td>4.5</td>\n    </tr>\n    <tr>\n      <th>3</th>\n      <td>5</td>\n      <td>6.0</td>\n    </tr>\n    <tr>\n      <th>4</th>\n      <td>8</td>\n      <td>7.0</td>\n    </tr>\n    <tr>\n      <th>5</th>\n      <td>9</td>\n      <td>8.5</td>\n    </tr>\n    <tr>\n      <th>6</th>\n      <td>11</td>\n      <td>10.0</td>\n    </tr>\n    <tr>\n      <th>7</th>\n      <td>12</td>\n      <td>11.5</td>\n    </tr>\n    <tr>\n      <th>8</th>\n      <td>13</td>\n      <td>13.0</td>\n    </tr>\n    <tr>\n      <th>9</th>\n      <td>17</td>\n      <td>15.0</td>\n    </tr>\n    <tr>\n      <th>10</th>\n      <td>21</td>\n      <td>17.0</td>\n    </tr>\n    <tr>\n      <th>11</th>\n      <td>22</td>\n      <td>18.0</td>\n    </tr>\n    <tr>\n      <th>12</th>\n      <td>23</td>\n      <td>19.5</td>\n    </tr>\n    <tr>\n      <th>13</th>\n      <td>24</td>\n      <td>21.5</td>\n    </tr>\n    <tr>\n      <th>14</th>\n      <td>29</td>\n      <td>24.0</td>\n    </tr>\n    <tr>\n      <th>15</th>\n      <td>32</td>\n      <td>26.0</td>\n    </tr>\n    <tr>\n      <th>16</th>\n      <td>33</td>\n      <td>27.0</td>\n    </tr>\n    <tr>\n      <th>17</th>\n      <td>35</td>\n      <td>28.0</td>\n    </tr>\n    <tr>\n      <th>18</th>\n      <td>36</td>\n      <td>29.0</td>\n    </tr>\n    <tr>\n      <th>19</th>\n      <td>37</td>\n      <td>30.0</td>\n    </tr>\n    <tr>\n      <th>20</th>\n      <td>40</td>\n      <td>31.5</td>\n    </tr>\n    <tr>\n      <th>21</th>\n      <td>43</td>\n      <td>33.0</td>\n    </tr>\n    <tr>\n      <th>22</th>\n      <td>50</td>\n      <td>34.0</td>\n    </tr>\n    <tr>\n      <th>23</th>\n      <td>51</td>\n      <td>35.0</td>\n    </tr>\n  </tbody>\n</table>\n</div>"
     },
     "metadata": {},
     "execution_count": 67
    }
   ],
   "source": [
    "post.reset_index(inplace=True)\n",
    "post"
   ]
  },
  {
   "cell_type": "code",
   "execution_count": 68,
   "metadata": {},
   "outputs": [
    {
     "output_type": "execute_result",
     "data": {
      "text/plain": [
       "    Before  After  Diff  |Diff|\n",
       "4       13     14     1       1\n",
       "20      17     16    -1       1\n",
       "31      17     19     2       2\n",
       "21      12     16     4       4\n",
       "24      14     18     4       4"
      ],
      "text/html": "<div>\n<style scoped>\n    .dataframe tbody tr th:only-of-type {\n        vertical-align: middle;\n    }\n\n    .dataframe tbody tr th {\n        vertical-align: top;\n    }\n\n    .dataframe thead th {\n        text-align: right;\n    }\n</style>\n<table border=\"1\" class=\"dataframe\">\n  <thead>\n    <tr style=\"text-align: right;\">\n      <th></th>\n      <th>Before</th>\n      <th>After</th>\n      <th>Diff</th>\n      <th>|Diff|</th>\n    </tr>\n  </thead>\n  <tbody>\n    <tr>\n      <th>4</th>\n      <td>13</td>\n      <td>14</td>\n      <td>1</td>\n      <td>1</td>\n    </tr>\n    <tr>\n      <th>20</th>\n      <td>17</td>\n      <td>16</td>\n      <td>-1</td>\n      <td>1</td>\n    </tr>\n    <tr>\n      <th>31</th>\n      <td>17</td>\n      <td>19</td>\n      <td>2</td>\n      <td>2</td>\n    </tr>\n    <tr>\n      <th>21</th>\n      <td>12</td>\n      <td>16</td>\n      <td>4</td>\n      <td>4</td>\n    </tr>\n    <tr>\n      <th>24</th>\n      <td>14</td>\n      <td>18</td>\n      <td>4</td>\n      <td>4</td>\n    </tr>\n  </tbody>\n</table>\n</div>"
     },
     "metadata": {},
     "execution_count": 68
    }
   ],
   "source": [
    "smoke.drop(['Post'], axis=1, inplace=True)\n",
    "smoke.head()"
   ]
  },
  {
   "cell_type": "code",
   "execution_count": 69,
   "metadata": {},
   "outputs": [
    {
     "output_type": "execute_result",
     "data": {
      "text/plain": [
       "   Before  After  Diff  |Diff|  Post\n",
       "0      13     14     1       1   1.5\n",
       "1      17     16    -1       1   1.5\n",
       "2      17     19     2       2   3.0\n",
       "3      12     16     4       4   4.5\n",
       "4      14     18     4       4   4.5"
      ],
      "text/html": "<div>\n<style scoped>\n    .dataframe tbody tr th:only-of-type {\n        vertical-align: middle;\n    }\n\n    .dataframe tbody tr th {\n        vertical-align: top;\n    }\n\n    .dataframe thead th {\n        text-align: right;\n    }\n</style>\n<table border=\"1\" class=\"dataframe\">\n  <thead>\n    <tr style=\"text-align: right;\">\n      <th></th>\n      <th>Before</th>\n      <th>After</th>\n      <th>Diff</th>\n      <th>|Diff|</th>\n      <th>Post</th>\n    </tr>\n  </thead>\n  <tbody>\n    <tr>\n      <th>0</th>\n      <td>13</td>\n      <td>14</td>\n      <td>1</td>\n      <td>1</td>\n      <td>1.5</td>\n    </tr>\n    <tr>\n      <th>1</th>\n      <td>17</td>\n      <td>16</td>\n      <td>-1</td>\n      <td>1</td>\n      <td>1.5</td>\n    </tr>\n    <tr>\n      <th>2</th>\n      <td>17</td>\n      <td>19</td>\n      <td>2</td>\n      <td>2</td>\n      <td>3.0</td>\n    </tr>\n    <tr>\n      <th>3</th>\n      <td>12</td>\n      <td>16</td>\n      <td>4</td>\n      <td>4</td>\n      <td>4.5</td>\n    </tr>\n    <tr>\n      <th>4</th>\n      <td>14</td>\n      <td>18</td>\n      <td>4</td>\n      <td>4</td>\n      <td>4.5</td>\n    </tr>\n  </tbody>\n</table>\n</div>"
     },
     "metadata": {},
     "execution_count": 69
    }
   ],
   "source": [
    "smoke = smoke.merge(post, left_on='|Diff|', right_on='|Diff|', how = 'left')\n",
    "smoke.head()"
   ]
  },
  {
   "cell_type": "code",
   "execution_count": 70,
   "metadata": {},
   "outputs": [
    {
     "output_type": "execute_result",
     "data": {
      "text/plain": [
       "   Before  After  Diff  |Diff|  Post  Post (+)\n",
       "0      13     14     1       1   1.5       1.5\n",
       "1      17     16    -1       1   1.5       0.0\n",
       "2      17     19     2       2   3.0       3.0\n",
       "3      12     16     4       4   4.5       4.5\n",
       "4      14     18     4       4   4.5       4.5"
      ],
      "text/html": "<div>\n<style scoped>\n    .dataframe tbody tr th:only-of-type {\n        vertical-align: middle;\n    }\n\n    .dataframe tbody tr th {\n        vertical-align: top;\n    }\n\n    .dataframe thead th {\n        text-align: right;\n    }\n</style>\n<table border=\"1\" class=\"dataframe\">\n  <thead>\n    <tr style=\"text-align: right;\">\n      <th></th>\n      <th>Before</th>\n      <th>After</th>\n      <th>Diff</th>\n      <th>|Diff|</th>\n      <th>Post</th>\n      <th>Post (+)</th>\n    </tr>\n  </thead>\n  <tbody>\n    <tr>\n      <th>0</th>\n      <td>13</td>\n      <td>14</td>\n      <td>1</td>\n      <td>1</td>\n      <td>1.5</td>\n      <td>1.5</td>\n    </tr>\n    <tr>\n      <th>1</th>\n      <td>17</td>\n      <td>16</td>\n      <td>-1</td>\n      <td>1</td>\n      <td>1.5</td>\n      <td>0.0</td>\n    </tr>\n    <tr>\n      <th>2</th>\n      <td>17</td>\n      <td>19</td>\n      <td>2</td>\n      <td>2</td>\n      <td>3.0</td>\n      <td>3.0</td>\n    </tr>\n    <tr>\n      <th>3</th>\n      <td>12</td>\n      <td>16</td>\n      <td>4</td>\n      <td>4</td>\n      <td>4.5</td>\n      <td>4.5</td>\n    </tr>\n    <tr>\n      <th>4</th>\n      <td>14</td>\n      <td>18</td>\n      <td>4</td>\n      <td>4</td>\n      <td>4.5</td>\n      <td>4.5</td>\n    </tr>\n  </tbody>\n</table>\n</div>"
     },
     "metadata": {},
     "execution_count": 70
    }
   ],
   "source": [
    "smoke['Post (+)'] = smoke.apply(lambda x: x['Post'] if x['Diff'] > 0 else 0, axis = 1)\n",
    "smoke.head()"
   ]
  },
  {
   "cell_type": "code",
   "execution_count": 71,
   "metadata": {},
   "outputs": [
    {
     "output_type": "execute_result",
     "data": {
      "text/plain": [
       "   Before  After  Diff  |Diff|  Post  Post (+)  Post (-)\n",
       "0      13     14     1       1   1.5       1.5       0.0\n",
       "1      17     16    -1       1   1.5       0.0       1.5\n",
       "2      17     19     2       2   3.0       3.0       0.0\n",
       "3      12     16     4       4   4.5       4.5       0.0\n",
       "4      14     18     4       4   4.5       4.5       0.0"
      ],
      "text/html": "<div>\n<style scoped>\n    .dataframe tbody tr th:only-of-type {\n        vertical-align: middle;\n    }\n\n    .dataframe tbody tr th {\n        vertical-align: top;\n    }\n\n    .dataframe thead th {\n        text-align: right;\n    }\n</style>\n<table border=\"1\" class=\"dataframe\">\n  <thead>\n    <tr style=\"text-align: right;\">\n      <th></th>\n      <th>Before</th>\n      <th>After</th>\n      <th>Diff</th>\n      <th>|Diff|</th>\n      <th>Post</th>\n      <th>Post (+)</th>\n      <th>Post (-)</th>\n    </tr>\n  </thead>\n  <tbody>\n    <tr>\n      <th>0</th>\n      <td>13</td>\n      <td>14</td>\n      <td>1</td>\n      <td>1</td>\n      <td>1.5</td>\n      <td>1.5</td>\n      <td>0.0</td>\n    </tr>\n    <tr>\n      <th>1</th>\n      <td>17</td>\n      <td>16</td>\n      <td>-1</td>\n      <td>1</td>\n      <td>1.5</td>\n      <td>0.0</td>\n      <td>1.5</td>\n    </tr>\n    <tr>\n      <th>2</th>\n      <td>17</td>\n      <td>19</td>\n      <td>2</td>\n      <td>2</td>\n      <td>3.0</td>\n      <td>3.0</td>\n      <td>0.0</td>\n    </tr>\n    <tr>\n      <th>3</th>\n      <td>12</td>\n      <td>16</td>\n      <td>4</td>\n      <td>4</td>\n      <td>4.5</td>\n      <td>4.5</td>\n      <td>0.0</td>\n    </tr>\n    <tr>\n      <th>4</th>\n      <td>14</td>\n      <td>18</td>\n      <td>4</td>\n      <td>4</td>\n      <td>4.5</td>\n      <td>4.5</td>\n      <td>0.0</td>\n    </tr>\n  </tbody>\n</table>\n</div>"
     },
     "metadata": {},
     "execution_count": 71
    }
   ],
   "source": [
    "smoke['Post (-)'] = smoke.apply(lambda x: x['Post'] if x['Diff'] < 0 else 0, axis = 1)\n",
    "smoke.head()"
   ]
  },
  {
   "source": [
    "smoke.drop(['Post'], axis = 1, inplace=True)\n",
    "smoke.head()"
   ],
   "cell_type": "code",
   "metadata": {},
   "execution_count": 72,
   "outputs": [
    {
     "output_type": "execute_result",
     "data": {
      "text/plain": [
       "   Before  After  Diff  |Diff|  Post (+)  Post (-)\n",
       "0      13     14     1       1       1.5       0.0\n",
       "1      17     16    -1       1       0.0       1.5\n",
       "2      17     19     2       2       3.0       0.0\n",
       "3      12     16     4       4       4.5       0.0\n",
       "4      14     18     4       4       4.5       0.0"
      ],
      "text/html": "<div>\n<style scoped>\n    .dataframe tbody tr th:only-of-type {\n        vertical-align: middle;\n    }\n\n    .dataframe tbody tr th {\n        vertical-align: top;\n    }\n\n    .dataframe thead th {\n        text-align: right;\n    }\n</style>\n<table border=\"1\" class=\"dataframe\">\n  <thead>\n    <tr style=\"text-align: right;\">\n      <th></th>\n      <th>Before</th>\n      <th>After</th>\n      <th>Diff</th>\n      <th>|Diff|</th>\n      <th>Post (+)</th>\n      <th>Post (-)</th>\n    </tr>\n  </thead>\n  <tbody>\n    <tr>\n      <th>0</th>\n      <td>13</td>\n      <td>14</td>\n      <td>1</td>\n      <td>1</td>\n      <td>1.5</td>\n      <td>0.0</td>\n    </tr>\n    <tr>\n      <th>1</th>\n      <td>17</td>\n      <td>16</td>\n      <td>-1</td>\n      <td>1</td>\n      <td>0.0</td>\n      <td>1.5</td>\n    </tr>\n    <tr>\n      <th>2</th>\n      <td>17</td>\n      <td>19</td>\n      <td>2</td>\n      <td>2</td>\n      <td>3.0</td>\n      <td>0.0</td>\n    </tr>\n    <tr>\n      <th>3</th>\n      <td>12</td>\n      <td>16</td>\n      <td>4</td>\n      <td>4</td>\n      <td>4.5</td>\n      <td>0.0</td>\n    </tr>\n    <tr>\n      <th>4</th>\n      <td>14</td>\n      <td>18</td>\n      <td>4</td>\n      <td>4</td>\n      <td>4.5</td>\n      <td>0.0</td>\n    </tr>\n  </tbody>\n</table>\n</div>"
     },
     "metadata": {},
     "execution_count": 72
    }
   ]
  },
  {
   "source": [
    "### Get $ T $\n",
    "\n",
    "## $ T $ = smaller of the sums of stations with the same sign"
   ],
   "cell_type": "markdown",
   "metadata": {}
  },
  {
   "cell_type": "code",
   "execution_count": 73,
   "metadata": {},
   "outputs": [
    {
     "output_type": "execute_result",
     "data": {
      "text/plain": [
       "22.0"
      ]
     },
     "metadata": {},
     "execution_count": 73
    }
   ],
   "source": [
    "T = min(smoke['Post (+)'].sum(), smoke['Post (-)'].sum())\n",
    "T"
   ]
  },
  {
   "source": [
    "### Get $\\mu_T$\n",
    "\n",
    "# $$\\mu_T = \\frac{n(n+1)}{4}$$\n"
   ],
   "cell_type": "markdown",
   "metadata": {}
  },
  {
   "source": [
    "mu_T = (n * (n + 1)) / 4\n",
    "mu_T"
   ],
   "cell_type": "code",
   "metadata": {},
   "execution_count": 74,
   "outputs": [
    {
     "output_type": "execute_result",
     "data": {
      "text/plain": [
       "315.0"
      ]
     },
     "metadata": {},
     "execution_count": 74
    }
   ]
  },
  {
   "source": [
    "### Get $\\sigma_T$\n",
    "\n",
    "# $$\\sigma_T = \\sqrt{\\frac{n(n + 1)(2n + 1)}{24}}$$"
   ],
   "cell_type": "markdown",
   "metadata": {}
  },
  {
   "cell_type": "code",
   "execution_count": 75,
   "metadata": {},
   "outputs": [
    {
     "output_type": "execute_result",
     "data": {
      "text/plain": [
       "61.053255441458646"
      ]
     },
     "metadata": {},
     "execution_count": 75
    }
   ],
   "source": [
    "import numpy as np\n",
    "\n",
    "sigma_T = np.sqrt((n * (n + 1) * ((2 * n) + 1)) / 24)\n",
    "sigma_T"
   ]
  },
  {
   "source": [
    "### Get $Z_{teste}$\n",
    "\n",
    "# $$Z = \\frac{T - \\mu_T}{\\sigma_T}$$"
   ],
   "cell_type": "markdown",
   "metadata": {}
  },
  {
   "cell_type": "code",
   "execution_count": 76,
   "metadata": {},
   "outputs": [
    {
     "output_type": "execute_result",
     "data": {
      "text/plain": [
       "-4.799088891843698"
      ]
     },
     "metadata": {},
     "execution_count": 76
    }
   ],
   "source": [
    "Z = (T - mu_T) / sigma_T\n",
    "Z"
   ]
  },
  {
   "source": [
    "![Estatística-Teste](https://caelum-online-public.s3.amazonaws.com/1229-estatistica-parte3/01/img021.png)"
   ],
   "cell_type": "markdown",
   "metadata": {}
  },
  {
   "source": [
    "---"
   ],
   "cell_type": "markdown",
   "metadata": {}
  },
  {
   "source": [
    "### ** Step 5 ** - Acceptance or rejection of the null hypothesis\n",
    "\n",
    "<img src='https://caelum-online-public.s3.amazonaws.com/1229-estatistica-parte3/01/img022.png' width='80%'>"
   ],
   "cell_type": "markdown",
   "metadata": {}
  },
  {
   "source": [
    "### <font color='red'>Critical value criterion</font>\n",
    "\n",
    "> ### Reject $H_0$ if $Z \\leq -z_{\\alpha / 2}$ or if  $Z \\geq z_{\\alpha / 2}$"
   ],
   "cell_type": "markdown",
   "metadata": {}
  },
  {
   "cell_type": "code",
   "execution_count": 77,
   "metadata": {},
   "outputs": [
    {
     "output_type": "execute_result",
     "data": {
      "text/plain": [
       "True"
      ]
     },
     "metadata": {},
     "execution_count": 77
    }
   ],
   "source": [
    "Z <= -z_alpha_2"
   ]
  },
  {
   "cell_type": "code",
   "execution_count": 78,
   "metadata": {},
   "outputs": [
    {
     "output_type": "execute_result",
     "data": {
      "text/plain": [
       "False"
      ]
     },
     "metadata": {},
     "execution_count": 78
    }
   ],
   "source": [
    "Z >= -z_alpha_2"
   ]
  },
  {
   "source": [
    "### <font color = 'green'> Conclusion: We reject the hypothesis that there is no difference between groups, that is, there is a difference between the average number of cigarettes smoked by patients before and after treatment. And as it is possible to verify through the averages of cigarettes smoked per day before (31.86) and after (11.2) of the treatment, we can conclude that the treatment presented a satisfactory result. </font>"
   ],
   "cell_type": "markdown",
   "metadata": {}
  },
  {
   "source": [
    "### <font color = 'red'> $ p $ value criterion </font>\n",
    "\n",
    "> ### Reject $ H_0 $ if $ p \\leq \\alpha $\n",
    "\n",
    "https://docs.scipy.org/doc/scipy/reference/generated/scipy.stats.wilcoxon.html"
   ],
   "cell_type": "markdown",
   "metadata": {}
  },
  {
   "cell_type": "code",
   "execution_count": 79,
   "metadata": {},
   "outputs": [],
   "source": [
    "from scipy.stats import wilcoxon"
   ]
  },
  {
   "cell_type": "code",
   "execution_count": 80,
   "metadata": {},
   "outputs": [
    {
     "output_type": "stream",
     "name": "stdout",
     "text": [
      "22.0 1.584310018505865e-06\n"
     ]
    }
   ],
   "source": [
    "T, p_value = wilcoxon(smoke['Before'], smoke['After'])\n",
    "print(T, p_value)"
   ]
  },
  {
   "cell_type": "code",
   "execution_count": 81,
   "metadata": {},
   "outputs": [
    {
     "output_type": "execute_result",
     "data": {
      "text/plain": [
       "True"
      ]
     },
     "metadata": {},
     "execution_count": 81
    }
   ],
   "source": [
    "p_value <= significance"
   ]
  },
  {
   "source": [
    "---"
   ],
   "cell_type": "markdown",
   "metadata": {}
  },
  {
   "source": [
    "### Problem \n",
    "\n",
    "In our dataset we have the income of heads of households obtained from the National Household Sample Survey - PNAD in 2015. A well-known problem in our country concerns income inequality, especially between men and women.\n",
    "\n",
    "Two random samples, one from ** 6 men ** and the other with ** 8 women **, were selected in our dataset. In order to prove such inequality ** test the equality of means ** enter these two samples with a level of ** significance of 5% **."
   ],
   "cell_type": "markdown",
   "metadata": {}
  },
  {
   "source": [
    "## <font color = green> Mann-Whitney test </font>\n",
    "### Comparison of two populations - independent samples\n",
    "***"
   ],
   "cell_type": "markdown",
   "metadata": {}
  },
  {
   "source": [
    "### Sample selection"
   ],
   "cell_type": "markdown",
   "metadata": {}
  },
  {
   "cell_type": "code",
   "execution_count": 82,
   "metadata": {},
   "outputs": [],
   "source": [
    "import pandas as pd\n",
    "\n",
    "data = pd.read_csv('data/data.csv', sep=',')"
   ]
  },
  {
   "cell_type": "code",
   "execution_count": 83,
   "metadata": {},
   "outputs": [],
   "source": [
    "women = data.query('Sex == 1 and Income > 0').sample(n= 8, random_state=101)['Income']"
   ]
  },
  {
   "cell_type": "code",
   "execution_count": 84,
   "metadata": {},
   "outputs": [],
   "source": [
    "men = data.query('Sex == 0 and Income > 0').sample(n= 6, random_state=101)['Income']"
   ]
  },
  {
   "source": [
    "### Problem data"
   ],
   "cell_type": "markdown",
   "metadata": {}
  },
  {
   "cell_type": "code",
   "execution_count": 85,
   "metadata": {},
   "outputs": [
    {
     "output_type": "execute_result",
     "data": {
      "text/plain": [
       "1090.75"
      ]
     },
     "metadata": {},
     "execution_count": 85
    }
   ],
   "source": [
    "women_sample_average = women.mean()\n",
    "women_sample_average"
   ]
  },
  {
   "cell_type": "code",
   "execution_count": 86,
   "metadata": {},
   "outputs": [
    {
     "output_type": "execute_result",
     "data": {
      "text/plain": [
       "1341.6666666666667"
      ]
     },
     "metadata": {},
     "execution_count": 86
    }
   ],
   "source": [
    "men_sample_average = men.mean()\n",
    "men_sample_average"
   ]
  },
  {
   "source": [
    "significance = 0.05\n",
    "confidence = 1 - significance\n",
    "n_1 = len(men) #n_1 is always the smaller set\n",
    "n_2 = len(women)"
   ],
   "cell_type": "code",
   "metadata": {},
   "execution_count": 87,
   "outputs": []
  },
  {
   "source": [
    "### ** Step 1 ** - formulation of hypotheses $ H_0 $ and $ H_1 $\n",
    "\n",
    "#### <font color = 'red'> Remember, the null hypothesis always contains the equality claim </font>\n",
    "\n",
    "### $\\mu_m\\Rightarrow $ Average income of female household heads\n",
    "### $\\mu_h\\Rightarrow $ Average income of male household heads\n",
    "\n",
    "$\n",
    "\\begin {cases}\n",
    "H_0: \\ mu_m = \\ mu_h \\\\\n",
    "H_1: \\ mu_m <\\ mu_h\n",
    "\\end {cases}\n",
    "$"
   ],
   "cell_type": "markdown",
   "metadata": {}
  },
  {
   "source": [
    "---"
   ],
   "cell_type": "markdown",
   "metadata": {}
  },
  {
   "source": [
    "### ** Step 2 ** - choose the appropriate sample distribution\n",
    "\n",
    "The ** $ t $ Student ** distribution should be chosen, since nothing is mentioned about the population distribution, the population standard deviation is unknown and the number of elements investigated is less than 30."
   ],
   "cell_type": "markdown",
   "metadata": {}
  },
  {
   "source": [
    "---"
   ],
   "cell_type": "markdown",
   "metadata": {}
  },
  {
   "source": [
    "### ** Step 3 ** - fixing the test significance ($\\alpha$)"
   ],
   "cell_type": "markdown",
   "metadata": {}
  },
  {
   "source": [
    "### Get $t_{\\alpha}$"
   ],
   "cell_type": "markdown",
   "metadata": {}
  },
  {
   "cell_type": "code",
   "execution_count": 88,
   "metadata": {},
   "outputs": [
    {
     "output_type": "execute_result",
     "data": {
      "text/plain": [
       "12"
      ]
     },
     "metadata": {},
     "execution_count": 88
    }
   ],
   "source": [
    "degrees_of_freedom = n_1 + n_2 - 2\n",
    "degrees_of_freedom"
   ]
  },
  {
   "cell_type": "code",
   "execution_count": 89,
   "metadata": {},
   "outputs": [
    {
     "output_type": "execute_result",
     "data": {
      "text/plain": [
       "-1.78"
      ]
     },
     "metadata": {},
     "execution_count": 89
    }
   ],
   "source": [
    "from scipy.stats import t as t_student\n",
    "\n",
    "\n",
    "t_alpha = t_student.ppf(significance, degrees_of_freedom)\n",
    "t_alpha.round(2)"
   ]
  },
  {
   "source": [
    "![Região de Aceitação](https://caelum-online-public.s3.amazonaws.com/1229-estatistica-parte3/01/img023.png)"
   ],
   "cell_type": "markdown",
   "metadata": {}
  },
  {
   "source": [
    "---"
   ],
   "cell_type": "markdown",
   "metadata": {}
  },
  {
   "source": [
    "### ** Step 4 ** - calculation of the test statistic and verification of this value with the test acceptance and rejection areas\n",
    "## 1. Define the n's:\n",
    "### $ n_1 $ = number of elements from the smallest group\n",
    "### $ n_2 $ = number of members of the largest group\n",
    "---\n",
    "## 2. Get the sum of posts\n",
    "### $ R_1 $ = sum of posts in the group $ n_1 $\n",
    "### $ R_2 $ = sum of posts in the group $ n_2 $\n",
    "---\n",
    "## 3. Get the statistics\n",
    "# $$ u_1 = n_1 \\times n_2 + \\frac {n_1 \\times (n_1 + 1)} {2} - R_1 $$\n",
    "# $$ u_2 = n_1 \\times n_2 + \\frac {n_2 \\times (n_2 + 1)} {2} - R_2 $$\n",
    "---\n",
    "## 4. Select the smallest U\n",
    "# $$ u = min (u_1, u_2) $$\n",
    "---\n",
    "## 5. Get the test statistic\n",
    "# $$ Z = \\frac {u - \\mu {(u)}} {\\sigma {(u)}} $$\n",
    "\n",
    "Where\n",
    "\n",
    "# $$ \\mu{(u)} = \\frac{n_1 \\times n_2} {2} $$\n",
    "# $$ \\sigma {(u)} = \\sqrt{\\frac {n_1 \\times n_2 \\times (n_1 + n_2 + 1)} {12}} $$"
   ],
   "cell_type": "markdown",
   "metadata": {}
  },
  {
   "source": [
    "### Getting the posts"
   ],
   "cell_type": "markdown",
   "metadata": {}
  },
  {
   "cell_type": "code",
   "execution_count": 90,
   "metadata": {},
   "outputs": [
    {
     "output_type": "execute_result",
     "data": {
      "text/plain": [
       "       Income  Sex\n",
       "67872    1200  Men\n",
       "30211    2000  Men\n",
       "64406     850  Men\n",
       "26519     800  Men\n",
       "61540    2000  Men"
      ],
      "text/html": "<div>\n<style scoped>\n    .dataframe tbody tr th:only-of-type {\n        vertical-align: middle;\n    }\n\n    .dataframe tbody tr th {\n        vertical-align: top;\n    }\n\n    .dataframe thead th {\n        text-align: right;\n    }\n</style>\n<table border=\"1\" class=\"dataframe\">\n  <thead>\n    <tr style=\"text-align: right;\">\n      <th></th>\n      <th>Income</th>\n      <th>Sex</th>\n    </tr>\n  </thead>\n  <tbody>\n    <tr>\n      <th>67872</th>\n      <td>1200</td>\n      <td>Men</td>\n    </tr>\n    <tr>\n      <th>30211</th>\n      <td>2000</td>\n      <td>Men</td>\n    </tr>\n    <tr>\n      <th>64406</th>\n      <td>850</td>\n      <td>Men</td>\n    </tr>\n    <tr>\n      <th>26519</th>\n      <td>800</td>\n      <td>Men</td>\n    </tr>\n    <tr>\n      <th>61540</th>\n      <td>2000</td>\n      <td>Men</td>\n    </tr>\n  </tbody>\n</table>\n</div>"
     },
     "metadata": {},
     "execution_count": 90
    }
   ],
   "source": [
    "M = pd.DataFrame(men)\n",
    "M['Sex'] = 'Men'\n",
    "M.head()"
   ]
  },
  {
   "cell_type": "code",
   "execution_count": 91,
   "metadata": {},
   "outputs": [
    {
     "output_type": "execute_result",
     "data": {
      "text/plain": [
       "       Income    Sex\n",
       "6251     1100  Women\n",
       "34764     400  Women\n",
       "40596     788  Women\n",
       "11303    4300  Women\n",
       "22733     250  Women"
      ],
      "text/html": "<div>\n<style scoped>\n    .dataframe tbody tr th:only-of-type {\n        vertical-align: middle;\n    }\n\n    .dataframe tbody tr th {\n        vertical-align: top;\n    }\n\n    .dataframe thead th {\n        text-align: right;\n    }\n</style>\n<table border=\"1\" class=\"dataframe\">\n  <thead>\n    <tr style=\"text-align: right;\">\n      <th></th>\n      <th>Income</th>\n      <th>Sex</th>\n    </tr>\n  </thead>\n  <tbody>\n    <tr>\n      <th>6251</th>\n      <td>1100</td>\n      <td>Women</td>\n    </tr>\n    <tr>\n      <th>34764</th>\n      <td>400</td>\n      <td>Women</td>\n    </tr>\n    <tr>\n      <th>40596</th>\n      <td>788</td>\n      <td>Women</td>\n    </tr>\n    <tr>\n      <th>11303</th>\n      <td>4300</td>\n      <td>Women</td>\n    </tr>\n    <tr>\n      <th>22733</th>\n      <td>250</td>\n      <td>Women</td>\n    </tr>\n  </tbody>\n</table>\n</div>"
     },
     "metadata": {},
     "execution_count": 91
    }
   ],
   "source": [
    "W = pd.DataFrame(women)\n",
    "W['Sex'] = 'Women'\n",
    "W.head()"
   ]
  },
  {
   "cell_type": "code",
   "execution_count": 92,
   "metadata": {},
   "outputs": [
    {
     "output_type": "execute_result",
     "data": {
      "text/plain": [
       "   Income  Sex\n",
       "0    1200  Men\n",
       "1    2000  Men\n",
       "2     850  Men\n",
       "3     800  Men\n",
       "4    2000  Men"
      ],
      "text/html": "<div>\n<style scoped>\n    .dataframe tbody tr th:only-of-type {\n        vertical-align: middle;\n    }\n\n    .dataframe tbody tr th {\n        vertical-align: top;\n    }\n\n    .dataframe thead th {\n        text-align: right;\n    }\n</style>\n<table border=\"1\" class=\"dataframe\">\n  <thead>\n    <tr style=\"text-align: right;\">\n      <th></th>\n      <th>Income</th>\n      <th>Sex</th>\n    </tr>\n  </thead>\n  <tbody>\n    <tr>\n      <th>0</th>\n      <td>1200</td>\n      <td>Men</td>\n    </tr>\n    <tr>\n      <th>1</th>\n      <td>2000</td>\n      <td>Men</td>\n    </tr>\n    <tr>\n      <th>2</th>\n      <td>850</td>\n      <td>Men</td>\n    </tr>\n    <tr>\n      <th>3</th>\n      <td>800</td>\n      <td>Men</td>\n    </tr>\n    <tr>\n      <th>4</th>\n      <td>2000</td>\n      <td>Men</td>\n    </tr>\n  </tbody>\n</table>\n</div>"
     },
     "metadata": {},
     "execution_count": 92
    }
   ],
   "source": [
    "sex = M.append(W)\n",
    "sex.reset_index(inplace=True, drop=True)\n",
    "sex.head()"
   ]
  },
  {
   "cell_type": "code",
   "execution_count": 93,
   "metadata": {},
   "outputs": [
    {
     "output_type": "execute_result",
     "data": {
      "text/plain": [
       "    Income    Sex\n",
       "10     250  Women\n",
       "7      400  Women\n",
       "11     400  Women\n",
       "12     700  Women\n",
       "8      788  Women"
      ],
      "text/html": "<div>\n<style scoped>\n    .dataframe tbody tr th:only-of-type {\n        vertical-align: middle;\n    }\n\n    .dataframe tbody tr th {\n        vertical-align: top;\n    }\n\n    .dataframe thead th {\n        text-align: right;\n    }\n</style>\n<table border=\"1\" class=\"dataframe\">\n  <thead>\n    <tr style=\"text-align: right;\">\n      <th></th>\n      <th>Income</th>\n      <th>Sex</th>\n    </tr>\n  </thead>\n  <tbody>\n    <tr>\n      <th>10</th>\n      <td>250</td>\n      <td>Women</td>\n    </tr>\n    <tr>\n      <th>7</th>\n      <td>400</td>\n      <td>Women</td>\n    </tr>\n    <tr>\n      <th>11</th>\n      <td>400</td>\n      <td>Women</td>\n    </tr>\n    <tr>\n      <th>12</th>\n      <td>700</td>\n      <td>Women</td>\n    </tr>\n    <tr>\n      <th>8</th>\n      <td>788</td>\n      <td>Women</td>\n    </tr>\n  </tbody>\n</table>\n</div>"
     },
     "metadata": {},
     "execution_count": 93
    }
   ],
   "source": [
    "sex.sort_values(by = 'Income', inplace=True)\n",
    "sex.head()"
   ]
  },
  {
   "cell_type": "code",
   "execution_count": 94,
   "metadata": {},
   "outputs": [
    {
     "output_type": "execute_result",
     "data": {
      "text/plain": [
       "    Income    Sex  Post\n",
       "10     250  Women     1\n",
       "7      400  Women     2\n",
       "11     400  Women     3\n",
       "12     700  Women     4\n",
       "8      788  Women     5"
      ],
      "text/html": "<div>\n<style scoped>\n    .dataframe tbody tr th:only-of-type {\n        vertical-align: middle;\n    }\n\n    .dataframe tbody tr th {\n        vertical-align: top;\n    }\n\n    .dataframe thead th {\n        text-align: right;\n    }\n</style>\n<table border=\"1\" class=\"dataframe\">\n  <thead>\n    <tr style=\"text-align: right;\">\n      <th></th>\n      <th>Income</th>\n      <th>Sex</th>\n      <th>Post</th>\n    </tr>\n  </thead>\n  <tbody>\n    <tr>\n      <th>10</th>\n      <td>250</td>\n      <td>Women</td>\n      <td>1</td>\n    </tr>\n    <tr>\n      <th>7</th>\n      <td>400</td>\n      <td>Women</td>\n      <td>2</td>\n    </tr>\n    <tr>\n      <th>11</th>\n      <td>400</td>\n      <td>Women</td>\n      <td>3</td>\n    </tr>\n    <tr>\n      <th>12</th>\n      <td>700</td>\n      <td>Women</td>\n      <td>4</td>\n    </tr>\n    <tr>\n      <th>8</th>\n      <td>788</td>\n      <td>Women</td>\n      <td>5</td>\n    </tr>\n  </tbody>\n</table>\n</div>"
     },
     "metadata": {},
     "execution_count": 94
    }
   ],
   "source": [
    "sex['Post'] = range(1, len(sex) + 1)\n",
    "sex.head()"
   ]
  },
  {
   "cell_type": "code",
   "execution_count": 95,
   "metadata": {},
   "outputs": [
    {
     "output_type": "execute_result",
     "data": {
      "text/plain": [
       "        Post\n",
       "Income      \n",
       "250      1.0\n",
       "400      2.5\n",
       "700      4.0\n",
       "788      5.5\n",
       "800      7.0\n",
       "850      8.0\n",
       "1100     9.0\n",
       "1200    10.5\n",
       "2000    12.5\n",
       "4300    14.0"
      ],
      "text/html": "<div>\n<style scoped>\n    .dataframe tbody tr th:only-of-type {\n        vertical-align: middle;\n    }\n\n    .dataframe tbody tr th {\n        vertical-align: top;\n    }\n\n    .dataframe thead th {\n        text-align: right;\n    }\n</style>\n<table border=\"1\" class=\"dataframe\">\n  <thead>\n    <tr style=\"text-align: right;\">\n      <th></th>\n      <th>Post</th>\n    </tr>\n    <tr>\n      <th>Income</th>\n      <th></th>\n    </tr>\n  </thead>\n  <tbody>\n    <tr>\n      <th>250</th>\n      <td>1.0</td>\n    </tr>\n    <tr>\n      <th>400</th>\n      <td>2.5</td>\n    </tr>\n    <tr>\n      <th>700</th>\n      <td>4.0</td>\n    </tr>\n    <tr>\n      <th>788</th>\n      <td>5.5</td>\n    </tr>\n    <tr>\n      <th>800</th>\n      <td>7.0</td>\n    </tr>\n    <tr>\n      <th>850</th>\n      <td>8.0</td>\n    </tr>\n    <tr>\n      <th>1100</th>\n      <td>9.0</td>\n    </tr>\n    <tr>\n      <th>1200</th>\n      <td>10.5</td>\n    </tr>\n    <tr>\n      <th>2000</th>\n      <td>12.5</td>\n    </tr>\n    <tr>\n      <th>4300</th>\n      <td>14.0</td>\n    </tr>\n  </tbody>\n</table>\n</div>"
     },
     "metadata": {},
     "execution_count": 95
    }
   ],
   "source": [
    "post = sex[['Income', 'Post']].groupby(['Income']).mean()\n",
    "post"
   ]
  },
  {
   "cell_type": "code",
   "execution_count": 96,
   "metadata": {},
   "outputs": [
    {
     "output_type": "execute_result",
     "data": {
      "text/plain": [
       "   Income  Post\n",
       "0     250   1.0\n",
       "1     400   2.5\n",
       "2     700   4.0\n",
       "3     788   5.5\n",
       "4     800   7.0"
      ],
      "text/html": "<div>\n<style scoped>\n    .dataframe tbody tr th:only-of-type {\n        vertical-align: middle;\n    }\n\n    .dataframe tbody tr th {\n        vertical-align: top;\n    }\n\n    .dataframe thead th {\n        text-align: right;\n    }\n</style>\n<table border=\"1\" class=\"dataframe\">\n  <thead>\n    <tr style=\"text-align: right;\">\n      <th></th>\n      <th>Income</th>\n      <th>Post</th>\n    </tr>\n  </thead>\n  <tbody>\n    <tr>\n      <th>0</th>\n      <td>250</td>\n      <td>1.0</td>\n    </tr>\n    <tr>\n      <th>1</th>\n      <td>400</td>\n      <td>2.5</td>\n    </tr>\n    <tr>\n      <th>2</th>\n      <td>700</td>\n      <td>4.0</td>\n    </tr>\n    <tr>\n      <th>3</th>\n      <td>788</td>\n      <td>5.5</td>\n    </tr>\n    <tr>\n      <th>4</th>\n      <td>800</td>\n      <td>7.0</td>\n    </tr>\n  </tbody>\n</table>\n</div>"
     },
     "metadata": {},
     "execution_count": 96
    }
   ],
   "source": [
    "post.reset_index(inplace=True)\n",
    "post.head()"
   ]
  },
  {
   "cell_type": "code",
   "execution_count": 97,
   "metadata": {},
   "outputs": [
    {
     "output_type": "execute_result",
     "data": {
      "text/plain": [
       "    Income    Sex\n",
       "10     250  Women\n",
       "7      400  Women\n",
       "11     400  Women\n",
       "12     700  Women\n",
       "8      788  Women"
      ],
      "text/html": "<div>\n<style scoped>\n    .dataframe tbody tr th:only-of-type {\n        vertical-align: middle;\n    }\n\n    .dataframe tbody tr th {\n        vertical-align: top;\n    }\n\n    .dataframe thead th {\n        text-align: right;\n    }\n</style>\n<table border=\"1\" class=\"dataframe\">\n  <thead>\n    <tr style=\"text-align: right;\">\n      <th></th>\n      <th>Income</th>\n      <th>Sex</th>\n    </tr>\n  </thead>\n  <tbody>\n    <tr>\n      <th>10</th>\n      <td>250</td>\n      <td>Women</td>\n    </tr>\n    <tr>\n      <th>7</th>\n      <td>400</td>\n      <td>Women</td>\n    </tr>\n    <tr>\n      <th>11</th>\n      <td>400</td>\n      <td>Women</td>\n    </tr>\n    <tr>\n      <th>12</th>\n      <td>700</td>\n      <td>Women</td>\n    </tr>\n    <tr>\n      <th>8</th>\n      <td>788</td>\n      <td>Women</td>\n    </tr>\n  </tbody>\n</table>\n</div>"
     },
     "metadata": {},
     "execution_count": 97
    }
   ],
   "source": [
    "sex.drop(['Post'], axis = 1, inplace=True)\n",
    "sex.head()"
   ]
  },
  {
   "cell_type": "code",
   "execution_count": 98,
   "metadata": {},
   "outputs": [
    {
     "output_type": "execute_result",
     "data": {
      "text/plain": [
       "    Income    Sex  Post\n",
       "0      250  Women   1.0\n",
       "1      400  Women   2.5\n",
       "2      400  Women   2.5\n",
       "3      700  Women   4.0\n",
       "4      788  Women   5.5\n",
       "5      788  Women   5.5\n",
       "6      800    Men   7.0\n",
       "7      850    Men   8.0\n",
       "8     1100  Women   9.0\n",
       "9     1200    Men  10.5\n",
       "10    1200    Men  10.5\n",
       "11    2000    Men  12.5\n",
       "12    2000    Men  12.5\n",
       "13    4300  Women  14.0"
      ],
      "text/html": "<div>\n<style scoped>\n    .dataframe tbody tr th:only-of-type {\n        vertical-align: middle;\n    }\n\n    .dataframe tbody tr th {\n        vertical-align: top;\n    }\n\n    .dataframe thead th {\n        text-align: right;\n    }\n</style>\n<table border=\"1\" class=\"dataframe\">\n  <thead>\n    <tr style=\"text-align: right;\">\n      <th></th>\n      <th>Income</th>\n      <th>Sex</th>\n      <th>Post</th>\n    </tr>\n  </thead>\n  <tbody>\n    <tr>\n      <th>0</th>\n      <td>250</td>\n      <td>Women</td>\n      <td>1.0</td>\n    </tr>\n    <tr>\n      <th>1</th>\n      <td>400</td>\n      <td>Women</td>\n      <td>2.5</td>\n    </tr>\n    <tr>\n      <th>2</th>\n      <td>400</td>\n      <td>Women</td>\n      <td>2.5</td>\n    </tr>\n    <tr>\n      <th>3</th>\n      <td>700</td>\n      <td>Women</td>\n      <td>4.0</td>\n    </tr>\n    <tr>\n      <th>4</th>\n      <td>788</td>\n      <td>Women</td>\n      <td>5.5</td>\n    </tr>\n    <tr>\n      <th>5</th>\n      <td>788</td>\n      <td>Women</td>\n      <td>5.5</td>\n    </tr>\n    <tr>\n      <th>6</th>\n      <td>800</td>\n      <td>Men</td>\n      <td>7.0</td>\n    </tr>\n    <tr>\n      <th>7</th>\n      <td>850</td>\n      <td>Men</td>\n      <td>8.0</td>\n    </tr>\n    <tr>\n      <th>8</th>\n      <td>1100</td>\n      <td>Women</td>\n      <td>9.0</td>\n    </tr>\n    <tr>\n      <th>9</th>\n      <td>1200</td>\n      <td>Men</td>\n      <td>10.5</td>\n    </tr>\n    <tr>\n      <th>10</th>\n      <td>1200</td>\n      <td>Men</td>\n      <td>10.5</td>\n    </tr>\n    <tr>\n      <th>11</th>\n      <td>2000</td>\n      <td>Men</td>\n      <td>12.5</td>\n    </tr>\n    <tr>\n      <th>12</th>\n      <td>2000</td>\n      <td>Men</td>\n      <td>12.5</td>\n    </tr>\n    <tr>\n      <th>13</th>\n      <td>4300</td>\n      <td>Women</td>\n      <td>14.0</td>\n    </tr>\n  </tbody>\n</table>\n</div>"
     },
     "metadata": {},
     "execution_count": 98
    }
   ],
   "source": [
    "sex = sex.merge(post, left_on='Income', right_on='Income', how = 'left')\n",
    "sex"
   ]
  },
  {
   "source": [
    "### Getting $ R $\n",
    "\n",
    "### $ R_1 $ = sum of posts in the group $ n_1 $\n",
    "### $ R_2 $ = sum of posts in the group $ n_2 $"
   ],
   "cell_type": "markdown",
   "metadata": {}
  },
  {
   "cell_type": "code",
   "execution_count": 99,
   "metadata": {},
   "outputs": [
    {
     "output_type": "execute_result",
     "data": {
      "text/plain": [
       "       Post\n",
       "Sex        \n",
       "Men    61.0\n",
       "Women  44.0"
      ],
      "text/html": "<div>\n<style scoped>\n    .dataframe tbody tr th:only-of-type {\n        vertical-align: middle;\n    }\n\n    .dataframe tbody tr th {\n        vertical-align: top;\n    }\n\n    .dataframe thead th {\n        text-align: right;\n    }\n</style>\n<table border=\"1\" class=\"dataframe\">\n  <thead>\n    <tr style=\"text-align: right;\">\n      <th></th>\n      <th>Post</th>\n    </tr>\n    <tr>\n      <th>Sex</th>\n      <th></th>\n    </tr>\n  </thead>\n  <tbody>\n    <tr>\n      <th>Men</th>\n      <td>61.0</td>\n    </tr>\n    <tr>\n      <th>Women</th>\n      <td>44.0</td>\n    </tr>\n  </tbody>\n</table>\n</div>"
     },
     "metadata": {},
     "execution_count": 99
    }
   ],
   "source": [
    "Temp = sex[['Sex', 'Post']].groupby('Sex').sum()\n",
    "Temp"
   ]
  },
  {
   "cell_type": "code",
   "execution_count": 100,
   "metadata": {},
   "outputs": [
    {
     "output_type": "execute_result",
     "data": {
      "text/plain": [
       "61.0"
      ]
     },
     "metadata": {},
     "execution_count": 100
    }
   ],
   "source": [
    "R_1 = Temp.loc['Men'][0]\n",
    "R_1"
   ]
  },
  {
   "cell_type": "code",
   "execution_count": 101,
   "metadata": {},
   "outputs": [
    {
     "output_type": "execute_result",
     "data": {
      "text/plain": [
       "44.0"
      ]
     },
     "metadata": {},
     "execution_count": 101
    }
   ],
   "source": [
    "R_2 = Temp.loc['Women'][0]\n",
    "R_2"
   ]
  },
  {
   "source": [
    "### Get $u$\n",
    "\n",
    "# $$u_1 = n_1 \\times n_2 + \\frac{n_1 \\times (n_1 + 1)}{2} - R_1$$\n",
    "# $$u_2 = n_1 \\times n_2 + \\frac{n_2 \\times (n_2 + 1)}{2} - R_2$$\n",
    "\n",
    "# $$u = min(u_1, u_2)$$\n"
   ],
   "cell_type": "markdown",
   "metadata": {}
  },
  {
   "cell_type": "code",
   "execution_count": 102,
   "metadata": {},
   "outputs": [
    {
     "output_type": "execute_result",
     "data": {
      "text/plain": [
       "8.0"
      ]
     },
     "metadata": {},
     "execution_count": 102
    }
   ],
   "source": [
    "u_1 = n_1 * n_2 + ((n_1 * (n_1 + 1)) / (2)) - R_1\n",
    "u_1"
   ]
  },
  {
   "cell_type": "code",
   "execution_count": 103,
   "metadata": {},
   "outputs": [
    {
     "output_type": "execute_result",
     "data": {
      "text/plain": [
       "40.0"
      ]
     },
     "metadata": {},
     "execution_count": 103
    }
   ],
   "source": [
    "u_2 = n_1 * n_2 + ((n_2 * (n_2 + 1)) / (2)) - R_2\n",
    "u_2"
   ]
  },
  {
   "cell_type": "code",
   "execution_count": 104,
   "metadata": {},
   "outputs": [
    {
     "output_type": "execute_result",
     "data": {
      "text/plain": [
       "8.0"
      ]
     },
     "metadata": {},
     "execution_count": 104
    }
   ],
   "source": [
    "u = min(u_1, u_2)\n",
    "u"
   ]
  },
  {
   "source": [
    "### Get $\\mu{(u)}$\n",
    "\n",
    "# $$\\mu{(u)} = \\frac{n_1 \\times n_2}{2}$$"
   ],
   "cell_type": "markdown",
   "metadata": {}
  },
  {
   "cell_type": "code",
   "execution_count": 105,
   "metadata": {},
   "outputs": [
    {
     "output_type": "execute_result",
     "data": {
      "text/plain": [
       "24.0"
      ]
     },
     "metadata": {},
     "execution_count": 105
    }
   ],
   "source": [
    "mu_u = (n_1 * n_2) / 2\n",
    "mu_u"
   ]
  },
  {
   "source": [
    "### Get $\\sigma{(u)}$\n",
    "\n",
    "# $$\\sigma{(u)} = \\sqrt{\\frac{n_1 \\times n_2 \\times (n_1 + n_2 + 1)}{12}}$$"
   ],
   "cell_type": "markdown",
   "metadata": {}
  },
  {
   "cell_type": "code",
   "execution_count": 109,
   "metadata": {},
   "outputs": [
    {
     "output_type": "execute_result",
     "data": {
      "text/plain": [
       "7.745966692414834"
      ]
     },
     "metadata": {},
     "execution_count": 109
    }
   ],
   "source": [
    "sigma_u = np.sqrt((n_1 * n_2 * (n_1 + n_2+ 1)) / 12)\n",
    "sigma_u"
   ]
  },
  {
   "source": [
    "### Get $Z$\n",
    "\n",
    "# $$Z = \\frac{u - \\mu{(u)}}{\\sigma{(u)}}$$"
   ],
   "cell_type": "markdown",
   "metadata": {}
  },
  {
   "cell_type": "code",
   "execution_count": 111,
   "metadata": {},
   "outputs": [
    {
     "output_type": "execute_result",
     "data": {
      "text/plain": [
       "-2.07"
      ]
     },
     "metadata": {},
     "execution_count": 111
    }
   ],
   "source": [
    "Z = (u - mu_u)/sigma_u \n",
    "Z.round(2)"
   ]
  },
  {
   "source": [],
   "cell_type": "markdown",
   "metadata": {}
  },
  {
   "source": [
    "![Estatística-Teste](https://caelum-online-public.s3.amazonaws.com/1229-estatistica-parte3/01/img024.png)"
   ],
   "cell_type": "markdown",
   "metadata": {}
  },
  {
   "source": [
    "---"
   ],
   "cell_type": "markdown",
   "metadata": {}
  },
  {
   "source": [
    "### ** Step 5 ** - Acceptance or rejection of the null hypothesis\n",
    "\n",
    "<img src = 'https://caelum-online-public.s3.amazonaws.com/1229-estatistica-parte3/01/img025.png' width = '80% '>"
   ],
   "cell_type": "markdown",
   "metadata": {}
  },
  {
   "source": [
    "### <font color='red'>Critical value criterion</font>\n",
    "\n",
    "> ### Reject $H_0$ if $Z \\leq -t_{\\alpha}$\n",
    "\n",
    "https://docs.scipy.org/doc/scipy/reference/generated/scipy.stats.mannwhitneyu.html"
   ],
   "cell_type": "markdown",
   "metadata": {}
  },
  {
   "cell_type": "code",
   "execution_count": 113,
   "metadata": {},
   "outputs": [
    {
     "output_type": "execute_result",
     "data": {
      "text/plain": [
       "True"
      ]
     },
     "metadata": {},
     "execution_count": 113
    }
   ],
   "source": [
    "Z <= t_alpha"
   ]
  },
  {
   "source": [
    "### <font color = 'green'> Conclusion: We reject the hypothesis that there is no difference between the groups, that is, we conclude that the average incomes of female heads of households is less than the average of incomes of heads male households. Confirming the allegation of income inequality between the sexes. </font>"
   ],
   "cell_type": "markdown",
   "metadata": {}
  },
  {
   "source": [
    "### <font color='red'>$p$ value criterion</font>\n",
    "\n",
    "> ### Reject $H_0$ if value $p\\leq\\alpha$"
   ],
   "cell_type": "markdown",
   "metadata": {}
  },
  {
   "source": [
    "https://docs.scipy.org/doc/scipy/reference/generated/scipy.stats.mannwhitneyu.html"
   ],
   "cell_type": "markdown",
   "metadata": {}
  },
  {
   "cell_type": "code",
   "execution_count": 115,
   "metadata": {},
   "outputs": [],
   "source": [
    "from scipy.stats import mannwhitneyu"
   ]
  },
  {
   "cell_type": "code",
   "execution_count": 116,
   "metadata": {},
   "outputs": [],
   "source": [
    "u, p_value = mannwhitneyu(women, men, alternative='less')"
   ]
  },
  {
   "cell_type": "code",
   "execution_count": 117,
   "metadata": {},
   "outputs": [
    {
     "output_type": "execute_result",
     "data": {
      "text/plain": [
       "True"
      ]
     },
     "metadata": {},
     "execution_count": 117
    }
   ],
   "source": [
    "p_value <= significance"
   ]
  },
  {
   "source": [
    "---"
   ],
   "cell_type": "markdown",
   "metadata": {}
  }
 ]
}