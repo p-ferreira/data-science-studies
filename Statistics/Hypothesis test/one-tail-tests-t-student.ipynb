{
 "metadata": {
  "language_info": {
   "codemirror_mode": {
    "name": "ipython",
    "version": 3
   },
   "file_extension": ".py",
   "mimetype": "text/x-python",
   "name": "python",
   "nbconvert_exporter": "python",
   "pygments_lexer": "ipython3",
   "version": "3.8.5"
  },
  "orig_nbformat": 2,
  "kernelspec": {
   "name": "python385jvsc74a57bd0694c8744488563f6cd2d93f9dc805a9ad929a19bb6157c2d6f3cab25a4c31ca1",
   "display_name": "Python 3.8.5 64-bit ('base': conda)"
  }
 },
 "nbformat": 4,
 "nbformat_minor": 2,
 "cells": [
  {
   "cell_type": "code",
   "execution_count": 50,
   "metadata": {},
   "outputs": [],
   "source": [
    "import pandas as pd\n",
    "import numpy as np\n",
    "\n",
    "\n",
    "data = pd.read_csv('data/data.csv', sep = ',')"
   ]
  },
  {
   "source": [
    "## <font color = green>One-tail test </font>\n",
    "***\n",
    "\n",
    "### Problem\n",
    "\n",
    "A famous soft drink manufacturer claims that a 350 ml can of its main product contains, ** at most **, ** 37 grams of sugar **. This claim leads us to understand that the average amount of sugar in a can of soda must be ** equal to or less than 37 g **.\n",
    "\n",
    "A suspicious consumer with knowledge in statistical inference decides to test the manufacturer's claim and randomly selects, in a set of different establishments, ** a sample of 25 cans ** of the soft drink in question. Using the correct equipment, the consumer obtained the amounts of sugar in all 25 cans of his sample.\n",
    "\n",
    "** Assuming that this population is distributed approximately as normal and considering a significance level of 5%, is it possible to accept the manufacturer's claim as valid? **\n",
    "\n"
   ],
   "cell_type": "markdown",
   "metadata": {}
  },
  {
   "source": [
    "### Constructing table $t$ of Student\n",
    "https://docs.scipy.org/doc/scipy/reference/generated/scipy.stats.t.html"
   ],
   "cell_type": "markdown",
   "metadata": {}
  },
  {
   "cell_type": "code",
   "execution_count": 51,
   "metadata": {},
   "outputs": [
    {
     "output_type": "execute_result",
     "data": {
      "text/plain": [
       "Two-tailed                      0.100    0.090    0.080    0.070    0.060  \\\n",
       "One-tail                        0.050    0.045    0.040    0.035    0.030   \n",
       "Degrees of freedom(n - 1) 1   6.31375  7.02637  7.91582  9.05789  10.5789   \n",
       "                          2   2.91999  3.10398  3.31976  3.57825  3.89643   \n",
       "                          3   2.35336  2.47081  2.60543   2.7626  2.95051   \n",
       "                          4   2.13185   2.2261  2.33287  2.45589  2.60076   \n",
       "                          5   2.01505  2.09784  2.19096  2.29739  2.42158   \n",
       "                          6   1.94318   2.0192  2.10431  2.20106  2.31326   \n",
       "                          7   1.89458  1.96615  2.04601  2.13645  2.24088   \n",
       "                          8   1.85955  1.92799  2.00415  2.09017  2.18915   \n",
       "                          9   1.83311  1.89922  1.97265  2.05539  2.15038   \n",
       "                          10  1.81246  1.87677   1.9481  2.02833  2.12023   \n",
       "                          11  1.79588  1.85877  1.92843  2.00666  2.09614   \n",
       "                          12  1.78229  1.84402  1.91231  1.98893  2.07644   \n",
       "                          13  1.77093   1.8317  1.89887  1.97416  2.06004   \n",
       "                          14  1.76131  1.82127   1.8875  1.96166  2.04617   \n",
       "                          15  1.75305  1.81232  1.87774  1.95094  2.03429   \n",
       "                          16  1.74588  1.80455  1.86928  1.94165    2.024   \n",
       "                          17  1.73961  1.79776  1.86187  1.93353    2.015   \n",
       "                          18  1.73406  1.79175  1.85534  1.92636  2.00707   \n",
       "                          19  1.72913  1.78642  1.84953  1.91999  2.00002   \n",
       "                          20  1.72472  1.78164  1.84433  1.91429  1.99371   \n",
       "                          21  1.72074  1.77734  1.83965  1.90916  1.98804   \n",
       "                          22  1.71714  1.77345  1.83542  1.90452  1.98291   \n",
       "                          23  1.71387  1.76991  1.83157  1.90031  1.97825   \n",
       "                          24  1.71088  1.76667  1.82805  1.89646  1.97399   \n",
       "                          25  1.70814  1.76371  1.82483  1.89293   1.9701   \n",
       "                          26  1.70562  1.76098  1.82186  1.88968  1.96651   \n",
       "                          27  1.70329  1.75847  1.81913  1.88669   1.9632   \n",
       "                          28  1.70113  1.75613  1.81659  1.88391  1.96014   \n",
       "                          29  1.69913  1.75397  1.81424  1.88134  1.95729   \n",
       "                          30  1.69726  1.75195  1.81205  1.87894  1.95465   \n",
       "\n",
       "Two-tailed                      0.050    0.040    0.030    0.020    0.010  \n",
       "One-tail                        0.025    0.020    0.015    0.010    0.005  \n",
       "Degrees of freedom(n - 1) 1   12.7062  15.8945  21.2049  31.8205  63.6567  \n",
       "                          2   4.30265  4.84873  5.64278  6.96456  9.92484  \n",
       "                          3   3.18245  3.48191  3.89605   4.5407  5.84091  \n",
       "                          4   2.77645  2.99853  3.29763  3.74695  4.60409  \n",
       "                          5   2.57058  2.75651  3.00287  3.36493  4.03214  \n",
       "                          6   2.44691  2.61224  2.82893  3.14267  3.70743  \n",
       "                          7   2.36462  2.51675  2.71457  2.99795  3.49948  \n",
       "                          8     2.306  2.44898  2.63381  2.89646  3.35539  \n",
       "                          9   2.26216  2.39844   2.5738  2.82144  3.24984  \n",
       "                          10  2.22814  2.35931  2.52748  2.76377  3.16927  \n",
       "                          11  2.20099  2.32814  2.49066  2.71808  3.10581  \n",
       "                          12  2.17881  2.30272   2.4607    2.681  3.05454  \n",
       "                          13  2.16037   2.2816  2.43585  2.65031  3.01228  \n",
       "                          14  2.14479  2.26378   2.4149  2.62449  2.97684  \n",
       "                          15  2.13145  2.24854  2.39701  2.60248  2.94671  \n",
       "                          16  2.11991  2.23536  2.38155  2.58349  2.92078  \n",
       "                          17  2.10982  2.22385  2.36805  2.56693  2.89823  \n",
       "                          18  2.10092   2.2137  2.35618  2.55238  2.87844  \n",
       "                          19  2.09302   2.2047  2.34565  2.53948  2.86093  \n",
       "                          20  2.08596  2.19666  2.33624  2.52798  2.84534  \n",
       "                          21  2.07961  2.18943  2.32779  2.51765  2.83136  \n",
       "                          22  2.07387  2.18289  2.32016  2.50832  2.81876  \n",
       "                          23  2.06866  2.17696  2.31323  2.49987  2.80734  \n",
       "                          24   2.0639  2.17154  2.30691  2.49216  2.79694  \n",
       "                          25  2.05954  2.16659  2.30113  2.48511  2.78744  \n",
       "                          26  2.05553  2.16203  2.29581  2.47863  2.77871  \n",
       "                          27  2.05183  2.15782  2.29091  2.47266  2.77068  \n",
       "                          28  2.04841  2.15393  2.28638  2.46714  2.76326  \n",
       "                          29  2.04523  2.15033  2.28217  2.46202  2.75639  \n",
       "                          30  2.04227  2.14697  2.27826  2.45726     2.75  "
      ],
      "text/html": "<div>\n<style scoped>\n    .dataframe tbody tr th:only-of-type {\n        vertical-align: middle;\n    }\n\n    .dataframe tbody tr th {\n        vertical-align: top;\n    }\n\n    .dataframe thead tr th {\n        text-align: left;\n    }\n</style>\n<table border=\"1\" class=\"dataframe\">\n  <thead>\n    <tr>\n      <th></th>\n      <th>Two-tailed</th>\n      <th>0.100</th>\n      <th>0.090</th>\n      <th>0.080</th>\n      <th>0.070</th>\n      <th>0.060</th>\n      <th>0.050</th>\n      <th>0.040</th>\n      <th>0.030</th>\n      <th>0.020</th>\n      <th>0.010</th>\n    </tr>\n    <tr>\n      <th></th>\n      <th>One-tail</th>\n      <th>0.050</th>\n      <th>0.045</th>\n      <th>0.040</th>\n      <th>0.035</th>\n      <th>0.030</th>\n      <th>0.025</th>\n      <th>0.020</th>\n      <th>0.015</th>\n      <th>0.010</th>\n      <th>0.005</th>\n    </tr>\n  </thead>\n  <tbody>\n    <tr>\n      <th rowspan=\"30\" valign=\"top\">Degrees of freedom(n - 1)</th>\n      <th>1</th>\n      <td>6.31375</td>\n      <td>7.02637</td>\n      <td>7.91582</td>\n      <td>9.05789</td>\n      <td>10.5789</td>\n      <td>12.7062</td>\n      <td>15.8945</td>\n      <td>21.2049</td>\n      <td>31.8205</td>\n      <td>63.6567</td>\n    </tr>\n    <tr>\n      <th>2</th>\n      <td>2.91999</td>\n      <td>3.10398</td>\n      <td>3.31976</td>\n      <td>3.57825</td>\n      <td>3.89643</td>\n      <td>4.30265</td>\n      <td>4.84873</td>\n      <td>5.64278</td>\n      <td>6.96456</td>\n      <td>9.92484</td>\n    </tr>\n    <tr>\n      <th>3</th>\n      <td>2.35336</td>\n      <td>2.47081</td>\n      <td>2.60543</td>\n      <td>2.7626</td>\n      <td>2.95051</td>\n      <td>3.18245</td>\n      <td>3.48191</td>\n      <td>3.89605</td>\n      <td>4.5407</td>\n      <td>5.84091</td>\n    </tr>\n    <tr>\n      <th>4</th>\n      <td>2.13185</td>\n      <td>2.2261</td>\n      <td>2.33287</td>\n      <td>2.45589</td>\n      <td>2.60076</td>\n      <td>2.77645</td>\n      <td>2.99853</td>\n      <td>3.29763</td>\n      <td>3.74695</td>\n      <td>4.60409</td>\n    </tr>\n    <tr>\n      <th>5</th>\n      <td>2.01505</td>\n      <td>2.09784</td>\n      <td>2.19096</td>\n      <td>2.29739</td>\n      <td>2.42158</td>\n      <td>2.57058</td>\n      <td>2.75651</td>\n      <td>3.00287</td>\n      <td>3.36493</td>\n      <td>4.03214</td>\n    </tr>\n    <tr>\n      <th>6</th>\n      <td>1.94318</td>\n      <td>2.0192</td>\n      <td>2.10431</td>\n      <td>2.20106</td>\n      <td>2.31326</td>\n      <td>2.44691</td>\n      <td>2.61224</td>\n      <td>2.82893</td>\n      <td>3.14267</td>\n      <td>3.70743</td>\n    </tr>\n    <tr>\n      <th>7</th>\n      <td>1.89458</td>\n      <td>1.96615</td>\n      <td>2.04601</td>\n      <td>2.13645</td>\n      <td>2.24088</td>\n      <td>2.36462</td>\n      <td>2.51675</td>\n      <td>2.71457</td>\n      <td>2.99795</td>\n      <td>3.49948</td>\n    </tr>\n    <tr>\n      <th>8</th>\n      <td>1.85955</td>\n      <td>1.92799</td>\n      <td>2.00415</td>\n      <td>2.09017</td>\n      <td>2.18915</td>\n      <td>2.306</td>\n      <td>2.44898</td>\n      <td>2.63381</td>\n      <td>2.89646</td>\n      <td>3.35539</td>\n    </tr>\n    <tr>\n      <th>9</th>\n      <td>1.83311</td>\n      <td>1.89922</td>\n      <td>1.97265</td>\n      <td>2.05539</td>\n      <td>2.15038</td>\n      <td>2.26216</td>\n      <td>2.39844</td>\n      <td>2.5738</td>\n      <td>2.82144</td>\n      <td>3.24984</td>\n    </tr>\n    <tr>\n      <th>10</th>\n      <td>1.81246</td>\n      <td>1.87677</td>\n      <td>1.9481</td>\n      <td>2.02833</td>\n      <td>2.12023</td>\n      <td>2.22814</td>\n      <td>2.35931</td>\n      <td>2.52748</td>\n      <td>2.76377</td>\n      <td>3.16927</td>\n    </tr>\n    <tr>\n      <th>11</th>\n      <td>1.79588</td>\n      <td>1.85877</td>\n      <td>1.92843</td>\n      <td>2.00666</td>\n      <td>2.09614</td>\n      <td>2.20099</td>\n      <td>2.32814</td>\n      <td>2.49066</td>\n      <td>2.71808</td>\n      <td>3.10581</td>\n    </tr>\n    <tr>\n      <th>12</th>\n      <td>1.78229</td>\n      <td>1.84402</td>\n      <td>1.91231</td>\n      <td>1.98893</td>\n      <td>2.07644</td>\n      <td>2.17881</td>\n      <td>2.30272</td>\n      <td>2.4607</td>\n      <td>2.681</td>\n      <td>3.05454</td>\n    </tr>\n    <tr>\n      <th>13</th>\n      <td>1.77093</td>\n      <td>1.8317</td>\n      <td>1.89887</td>\n      <td>1.97416</td>\n      <td>2.06004</td>\n      <td>2.16037</td>\n      <td>2.2816</td>\n      <td>2.43585</td>\n      <td>2.65031</td>\n      <td>3.01228</td>\n    </tr>\n    <tr>\n      <th>14</th>\n      <td>1.76131</td>\n      <td>1.82127</td>\n      <td>1.8875</td>\n      <td>1.96166</td>\n      <td>2.04617</td>\n      <td>2.14479</td>\n      <td>2.26378</td>\n      <td>2.4149</td>\n      <td>2.62449</td>\n      <td>2.97684</td>\n    </tr>\n    <tr>\n      <th>15</th>\n      <td>1.75305</td>\n      <td>1.81232</td>\n      <td>1.87774</td>\n      <td>1.95094</td>\n      <td>2.03429</td>\n      <td>2.13145</td>\n      <td>2.24854</td>\n      <td>2.39701</td>\n      <td>2.60248</td>\n      <td>2.94671</td>\n    </tr>\n    <tr>\n      <th>16</th>\n      <td>1.74588</td>\n      <td>1.80455</td>\n      <td>1.86928</td>\n      <td>1.94165</td>\n      <td>2.024</td>\n      <td>2.11991</td>\n      <td>2.23536</td>\n      <td>2.38155</td>\n      <td>2.58349</td>\n      <td>2.92078</td>\n    </tr>\n    <tr>\n      <th>17</th>\n      <td>1.73961</td>\n      <td>1.79776</td>\n      <td>1.86187</td>\n      <td>1.93353</td>\n      <td>2.015</td>\n      <td>2.10982</td>\n      <td>2.22385</td>\n      <td>2.36805</td>\n      <td>2.56693</td>\n      <td>2.89823</td>\n    </tr>\n    <tr>\n      <th>18</th>\n      <td>1.73406</td>\n      <td>1.79175</td>\n      <td>1.85534</td>\n      <td>1.92636</td>\n      <td>2.00707</td>\n      <td>2.10092</td>\n      <td>2.2137</td>\n      <td>2.35618</td>\n      <td>2.55238</td>\n      <td>2.87844</td>\n    </tr>\n    <tr>\n      <th>19</th>\n      <td>1.72913</td>\n      <td>1.78642</td>\n      <td>1.84953</td>\n      <td>1.91999</td>\n      <td>2.00002</td>\n      <td>2.09302</td>\n      <td>2.2047</td>\n      <td>2.34565</td>\n      <td>2.53948</td>\n      <td>2.86093</td>\n    </tr>\n    <tr>\n      <th>20</th>\n      <td>1.72472</td>\n      <td>1.78164</td>\n      <td>1.84433</td>\n      <td>1.91429</td>\n      <td>1.99371</td>\n      <td>2.08596</td>\n      <td>2.19666</td>\n      <td>2.33624</td>\n      <td>2.52798</td>\n      <td>2.84534</td>\n    </tr>\n    <tr>\n      <th>21</th>\n      <td>1.72074</td>\n      <td>1.77734</td>\n      <td>1.83965</td>\n      <td>1.90916</td>\n      <td>1.98804</td>\n      <td>2.07961</td>\n      <td>2.18943</td>\n      <td>2.32779</td>\n      <td>2.51765</td>\n      <td>2.83136</td>\n    </tr>\n    <tr>\n      <th>22</th>\n      <td>1.71714</td>\n      <td>1.77345</td>\n      <td>1.83542</td>\n      <td>1.90452</td>\n      <td>1.98291</td>\n      <td>2.07387</td>\n      <td>2.18289</td>\n      <td>2.32016</td>\n      <td>2.50832</td>\n      <td>2.81876</td>\n    </tr>\n    <tr>\n      <th>23</th>\n      <td>1.71387</td>\n      <td>1.76991</td>\n      <td>1.83157</td>\n      <td>1.90031</td>\n      <td>1.97825</td>\n      <td>2.06866</td>\n      <td>2.17696</td>\n      <td>2.31323</td>\n      <td>2.49987</td>\n      <td>2.80734</td>\n    </tr>\n    <tr>\n      <th>24</th>\n      <td>1.71088</td>\n      <td>1.76667</td>\n      <td>1.82805</td>\n      <td>1.89646</td>\n      <td>1.97399</td>\n      <td>2.0639</td>\n      <td>2.17154</td>\n      <td>2.30691</td>\n      <td>2.49216</td>\n      <td>2.79694</td>\n    </tr>\n    <tr>\n      <th>25</th>\n      <td>1.70814</td>\n      <td>1.76371</td>\n      <td>1.82483</td>\n      <td>1.89293</td>\n      <td>1.9701</td>\n      <td>2.05954</td>\n      <td>2.16659</td>\n      <td>2.30113</td>\n      <td>2.48511</td>\n      <td>2.78744</td>\n    </tr>\n    <tr>\n      <th>26</th>\n      <td>1.70562</td>\n      <td>1.76098</td>\n      <td>1.82186</td>\n      <td>1.88968</td>\n      <td>1.96651</td>\n      <td>2.05553</td>\n      <td>2.16203</td>\n      <td>2.29581</td>\n      <td>2.47863</td>\n      <td>2.77871</td>\n    </tr>\n    <tr>\n      <th>27</th>\n      <td>1.70329</td>\n      <td>1.75847</td>\n      <td>1.81913</td>\n      <td>1.88669</td>\n      <td>1.9632</td>\n      <td>2.05183</td>\n      <td>2.15782</td>\n      <td>2.29091</td>\n      <td>2.47266</td>\n      <td>2.77068</td>\n    </tr>\n    <tr>\n      <th>28</th>\n      <td>1.70113</td>\n      <td>1.75613</td>\n      <td>1.81659</td>\n      <td>1.88391</td>\n      <td>1.96014</td>\n      <td>2.04841</td>\n      <td>2.15393</td>\n      <td>2.28638</td>\n      <td>2.46714</td>\n      <td>2.76326</td>\n    </tr>\n    <tr>\n      <th>29</th>\n      <td>1.69913</td>\n      <td>1.75397</td>\n      <td>1.81424</td>\n      <td>1.88134</td>\n      <td>1.95729</td>\n      <td>2.04523</td>\n      <td>2.15033</td>\n      <td>2.28217</td>\n      <td>2.46202</td>\n      <td>2.75639</td>\n    </tr>\n    <tr>\n      <th>30</th>\n      <td>1.69726</td>\n      <td>1.75195</td>\n      <td>1.81205</td>\n      <td>1.87894</td>\n      <td>1.95465</td>\n      <td>2.04227</td>\n      <td>2.14697</td>\n      <td>2.27826</td>\n      <td>2.45726</td>\n      <td>2.75</td>\n    </tr>\n  </tbody>\n</table>\n</div>"
     },
     "metadata": {},
     "execution_count": 51
    }
   ],
   "source": [
    "import pandas as pd\n",
    "from scipy.stats import t as t_student\n",
    "\n",
    "tabela_t_student = pd.DataFrame(\n",
    "    [], \n",
    "    index=[i for i in range(1, 31)],\n",
    "    columns = [i / 100 for i in range(10, 0, -1)]\n",
    ")\n",
    "\n",
    "for index in tabela_t_student.index:\n",
    "    for column in tabela_t_student.columns:\n",
    "        tabela_t_student.loc[index, column] = t_student.ppf(1 - float(column) / 2, index)\n",
    "\n",
    "index=[('Degrees of freedom(n - 1)', i) for i in range(1, 31)]\n",
    "tabela_t_student.index = pd.MultiIndex.from_tuples(index)\n",
    "\n",
    "columns = [(\"{0:0.3f}\".format(i / 100), \"{0:0.3f}\".format((i / 100) / 2)) for i in range(10, 0, -1)]\n",
    "tabela_t_student.columns = pd.MultiIndex.from_tuples(columns)\n",
    "\n",
    "tabela_t_student.rename_axis(['Two-tailed', 'One-tail'], axis=1, inplace = True)\n",
    "\n",
    "tabela_t_student"
   ]
  },
  {
   "source": [
    "<img src='https://caelum-online-public.s3.amazonaws.com/1229-estatistica-parte3/01/img004.png' width='250px'>\n",
    "\n",
    "The cells in the table above are $ t $ values for an area or probability in the upper tail of the $ t $ distribution.\n",
    "\n",
    "---\n",
    "\n",
    "The ** one-tailed tests ** check the variables in relation to a floor or a ceiling and evaluate the maximum or minimum values expected for the parameters under study and the chance that the sample statistics are lower or higher than a given limit.\n",
    "\n",
    "<img src='https://caelum-online-public.s3.amazonaws.com/1229-estatistica-parte3/01/img008.png' width='700px'>"
   ],
   "cell_type": "markdown",
   "metadata": {}
  },
  {
   "source": [
    "### Data of the Problem"
   ],
   "cell_type": "markdown",
   "metadata": {}
  },
  {
   "cell_type": "code",
   "execution_count": 52,
   "metadata": {},
   "outputs": [],
   "source": [
    "sample = [37.27, 36.42, 34.84, 34.60, 37.49, \n",
    "           36.53, 35.49, 36.90, 34.52, 37.30, \n",
    "           34.99, 36.55, 36.29, 36.06, 37.42, \n",
    "           34.47, 36.70, 35.86, 36.80, 36.92, \n",
    "           37.04, 36.39, 37.32, 36.64, 35.45]"
   ]
  },
  {
   "cell_type": "code",
   "execution_count": 53,
   "metadata": {},
   "outputs": [
    {
     "output_type": "execute_result",
     "data": {
      "text/plain": [
       "    Sample\n",
       "0    37.27\n",
       "1    36.42\n",
       "2    34.84\n",
       "3    34.60\n",
       "4    37.49\n",
       "5    36.53\n",
       "6    35.49\n",
       "7    36.90\n",
       "8    34.52\n",
       "9    37.30\n",
       "10   34.99\n",
       "11   36.55\n",
       "12   36.29\n",
       "13   36.06\n",
       "14   37.42\n",
       "15   34.47\n",
       "16   36.70\n",
       "17   35.86\n",
       "18   36.80\n",
       "19   36.92\n",
       "20   37.04\n",
       "21   36.39\n",
       "22   37.32\n",
       "23   36.64\n",
       "24   35.45"
      ],
      "text/html": "<div>\n<style scoped>\n    .dataframe tbody tr th:only-of-type {\n        vertical-align: middle;\n    }\n\n    .dataframe tbody tr th {\n        vertical-align: top;\n    }\n\n    .dataframe thead th {\n        text-align: right;\n    }\n</style>\n<table border=\"1\" class=\"dataframe\">\n  <thead>\n    <tr style=\"text-align: right;\">\n      <th></th>\n      <th>Sample</th>\n    </tr>\n  </thead>\n  <tbody>\n    <tr>\n      <th>0</th>\n      <td>37.27</td>\n    </tr>\n    <tr>\n      <th>1</th>\n      <td>36.42</td>\n    </tr>\n    <tr>\n      <th>2</th>\n      <td>34.84</td>\n    </tr>\n    <tr>\n      <th>3</th>\n      <td>34.60</td>\n    </tr>\n    <tr>\n      <th>4</th>\n      <td>37.49</td>\n    </tr>\n    <tr>\n      <th>5</th>\n      <td>36.53</td>\n    </tr>\n    <tr>\n      <th>6</th>\n      <td>35.49</td>\n    </tr>\n    <tr>\n      <th>7</th>\n      <td>36.90</td>\n    </tr>\n    <tr>\n      <th>8</th>\n      <td>34.52</td>\n    </tr>\n    <tr>\n      <th>9</th>\n      <td>37.30</td>\n    </tr>\n    <tr>\n      <th>10</th>\n      <td>34.99</td>\n    </tr>\n    <tr>\n      <th>11</th>\n      <td>36.55</td>\n    </tr>\n    <tr>\n      <th>12</th>\n      <td>36.29</td>\n    </tr>\n    <tr>\n      <th>13</th>\n      <td>36.06</td>\n    </tr>\n    <tr>\n      <th>14</th>\n      <td>37.42</td>\n    </tr>\n    <tr>\n      <th>15</th>\n      <td>34.47</td>\n    </tr>\n    <tr>\n      <th>16</th>\n      <td>36.70</td>\n    </tr>\n    <tr>\n      <th>17</th>\n      <td>35.86</td>\n    </tr>\n    <tr>\n      <th>18</th>\n      <td>36.80</td>\n    </tr>\n    <tr>\n      <th>19</th>\n      <td>36.92</td>\n    </tr>\n    <tr>\n      <th>20</th>\n      <td>37.04</td>\n    </tr>\n    <tr>\n      <th>21</th>\n      <td>36.39</td>\n    </tr>\n    <tr>\n      <th>22</th>\n      <td>37.32</td>\n    </tr>\n    <tr>\n      <th>23</th>\n      <td>36.64</td>\n    </tr>\n    <tr>\n      <th>24</th>\n      <td>35.45</td>\n    </tr>\n  </tbody>\n</table>\n</div>"
     },
     "metadata": {},
     "execution_count": 53
    }
   ],
   "source": [
    "sample = pd.DataFrame(sample, columns=['Sample'])\n",
    "sample"
   ]
  },
  {
   "cell_type": "code",
   "execution_count": 54,
   "metadata": {},
   "outputs": [
    {
     "output_type": "execute_result",
     "data": {
      "text/plain": [
       "36.250400000000006"
      ]
     },
     "metadata": {},
     "execution_count": 54
    }
   ],
   "source": [
    "sample_average = sample.mean()[0]\n",
    "sample_average"
   ]
  },
  {
   "cell_type": "code",
   "execution_count": 55,
   "metadata": {},
   "outputs": [
    {
     "output_type": "execute_result",
     "data": {
      "text/plain": [
       "0.9667535018469453"
      ]
     },
     "metadata": {},
     "execution_count": 55
    }
   ],
   "source": [
    "sample_std = sample.std()[0]\n",
    "sample_std"
   ]
  },
  {
   "cell_type": "code",
   "execution_count": 56,
   "metadata": {},
   "outputs": [],
   "source": [
    "mean = 37\n",
    "significance = 0.05\n",
    "confidence = 1 - significance\n",
    "n = 25\n",
    "degrees_of_freedom = n -1"
   ]
  },
  {
   "source": [
    "### ** Step 1 ** - formulation of hypotheses $ H_0 $ and $ H_1 $\n",
    "\n",
    "#### <font color = 'red'> Remember, the null hypothesis always contains the equality claim </font>\n",
    "\n",
    "### $H_0: \\mu \\leq 37$\n",
    "\n",
    "### $H_1: \\mu > 37$\n",
    "\n",
    "---"
   ],
   "cell_type": "markdown",
   "metadata": {}
  },
  {
   "source": [
    "### ** Step 2 ** - choose the appropriate sample distribution\n",
    "<img src='https://caelum-online-public.s3.amazonaws.com/1229-estatistica-parte3/01/img003.png' width=70%>"
   ],
   "cell_type": "markdown",
   "metadata": {}
  },
  {
   "source": [
    "### Is the sample size greater than 30?\n",
    "#### Ans .: No\n",
    "\n",
    "### Can we say that the population is distributed approximately like a normal one?\n",
    "#### Ans .: Yes\n",
    "\n",
    "### Is the population standard deviation known?\n",
    "#### Ans .: No"
   ],
   "cell_type": "markdown",
   "metadata": {}
  },
  {
   "source": [
    "### **Step 3** - fixing the test significance ($\\alpha$)\n",
    "\n",
    "https://docs.scipy.org/doc/scipy/reference/generated/scipy.stats.t.html"
   ],
   "cell_type": "markdown",
   "metadata": {}
  },
  {
   "cell_type": "code",
   "execution_count": 57,
   "metadata": {},
   "outputs": [],
   "source": [
    "from scipy.stats import t as t_student"
   ]
  },
  {
   "cell_type": "code",
   "execution_count": 58,
   "metadata": {},
   "outputs": [
    {
     "output_type": "execute_result",
     "data": {
      "text/plain": [
       "Two-tailed                      0.100    0.090    0.080    0.070    0.060  \\\n",
       "One-tail                        0.050    0.045    0.040    0.035    0.030   \n",
       "Degrees of freedom(n - 1) 23  1.71387  1.76991  1.83157  1.90031  1.97825   \n",
       "                          24  1.71088  1.76667  1.82805  1.89646  1.97399   \n",
       "                          25  1.70814  1.76371  1.82483  1.89293   1.9701   \n",
       "\n",
       "Two-tailed                      0.050    0.040    0.030    0.020    0.010  \n",
       "One-tail                        0.025    0.020    0.015    0.010    0.005  \n",
       "Degrees of freedom(n - 1) 23  2.06866  2.17696  2.31323  2.49987  2.80734  \n",
       "                          24   2.0639  2.17154  2.30691  2.49216  2.79694  \n",
       "                          25  2.05954  2.16659  2.30113  2.48511  2.78744  "
      ],
      "text/html": "<div>\n<style scoped>\n    .dataframe tbody tr th:only-of-type {\n        vertical-align: middle;\n    }\n\n    .dataframe tbody tr th {\n        vertical-align: top;\n    }\n\n    .dataframe thead tr th {\n        text-align: left;\n    }\n</style>\n<table border=\"1\" class=\"dataframe\">\n  <thead>\n    <tr>\n      <th></th>\n      <th>Two-tailed</th>\n      <th>0.100</th>\n      <th>0.090</th>\n      <th>0.080</th>\n      <th>0.070</th>\n      <th>0.060</th>\n      <th>0.050</th>\n      <th>0.040</th>\n      <th>0.030</th>\n      <th>0.020</th>\n      <th>0.010</th>\n    </tr>\n    <tr>\n      <th></th>\n      <th>One-tail</th>\n      <th>0.050</th>\n      <th>0.045</th>\n      <th>0.040</th>\n      <th>0.035</th>\n      <th>0.030</th>\n      <th>0.025</th>\n      <th>0.020</th>\n      <th>0.015</th>\n      <th>0.010</th>\n      <th>0.005</th>\n    </tr>\n  </thead>\n  <tbody>\n    <tr>\n      <th rowspan=\"3\" valign=\"top\">Degrees of freedom(n - 1)</th>\n      <th>23</th>\n      <td>1.71387</td>\n      <td>1.76991</td>\n      <td>1.83157</td>\n      <td>1.90031</td>\n      <td>1.97825</td>\n      <td>2.06866</td>\n      <td>2.17696</td>\n      <td>2.31323</td>\n      <td>2.49987</td>\n      <td>2.80734</td>\n    </tr>\n    <tr>\n      <th>24</th>\n      <td>1.71088</td>\n      <td>1.76667</td>\n      <td>1.82805</td>\n      <td>1.89646</td>\n      <td>1.97399</td>\n      <td>2.0639</td>\n      <td>2.17154</td>\n      <td>2.30691</td>\n      <td>2.49216</td>\n      <td>2.79694</td>\n    </tr>\n    <tr>\n      <th>25</th>\n      <td>1.70814</td>\n      <td>1.76371</td>\n      <td>1.82483</td>\n      <td>1.89293</td>\n      <td>1.9701</td>\n      <td>2.05954</td>\n      <td>2.16659</td>\n      <td>2.30113</td>\n      <td>2.48511</td>\n      <td>2.78744</td>\n    </tr>\n  </tbody>\n</table>\n</div>"
     },
     "metadata": {},
     "execution_count": 58
    }
   ],
   "source": [
    "tabela_t_student[22:25]"
   ]
  },
  {
   "source": [
    "### Obtaining $t_{\\alpha}$"
   ],
   "cell_type": "markdown",
   "metadata": {}
  },
  {
   "cell_type": "code",
   "execution_count": 59,
   "metadata": {},
   "outputs": [
    {
     "output_type": "execute_result",
     "data": {
      "text/plain": [
       "1.7108820799094275"
      ]
     },
     "metadata": {},
     "execution_count": 59
    }
   ],
   "source": [
    "t_alpha = t_student.ppf(confidence, degrees_of_freedom)\n",
    "t_alpha"
   ]
  },
  {
   "source": [
    "![Região de Aceitação](https://caelum-online-public.s3.amazonaws.com/1229-estatistica-parte3/01/img009.png)\n",
    "\n",
    "---"
   ],
   "cell_type": "markdown",
   "metadata": {}
  },
  {
   "source": [
    "### ** Step 4 ** - calculation of the test statistic and verification of this value with the test acceptance and rejection areas\n",
    "\n",
    "# $$t = \\frac{\\bar{x} - \\mu_0}{\\frac{s}{\\sqrt{n}}}$$"
   ],
   "cell_type": "markdown",
   "metadata": {}
  },
  {
   "cell_type": "code",
   "execution_count": 60,
   "metadata": {},
   "outputs": [
    {
     "output_type": "execute_result",
     "data": {
      "text/plain": [
       "-3.876893119952045"
      ]
     },
     "metadata": {},
     "execution_count": 60
    }
   ],
   "source": [
    "t = (sample_average - mean) / (sample_std / np.sqrt(n))\n",
    "t"
   ]
  },
  {
   "source": [
    "![Estatística-Teste](https://caelum-online-public.s3.amazonaws.com/1229-estatistica-parte3/01/img010.png)"
   ],
   "cell_type": "markdown",
   "metadata": {}
  },
  {
   "source": [
    "---"
   ],
   "cell_type": "markdown",
   "metadata": {}
  },
  {
   "source": [
    "### ** Step 5 ** - Acceptance or rejection of the null hypothesis\n",
    "\n",
    "<img src='https://caelum-online-public.s3.amazonaws.com/1229-estatistica-parte3/01/img013.png' width=90%>"
   ],
   "cell_type": "markdown",
   "metadata": {}
  },
  {
   "source": [
    "### <font color = 'red'> Critical value criterion </font>\n",
    "\n",
    "> ### Superior Single Tail Test\n",
    "> ### Reject $ H_0 $ if $t\\geq t_{\\alpha} $"
   ],
   "cell_type": "markdown",
   "metadata": {}
  },
  {
   "cell_type": "code",
   "execution_count": 61,
   "metadata": {},
   "outputs": [
    {
     "output_type": "execute_result",
     "data": {
      "text/plain": [
       "False"
      ]
     },
     "metadata": {},
     "execution_count": 61
    }
   ],
   "source": [
    "t >= t_alpha"
   ]
  },
  {
   "source": [
    "### <font color = 'green'> Conclusion: With a 95% confidence level we cannot reject $ H_0 $, meaning the manufacturer's claim is true. </font>"
   ],
   "cell_type": "markdown",
   "metadata": {}
  },
  {
   "source": [
    "### <font color = 'red'> $ p $ value criterion </font>\n",
    "\n",
    "> ### Superior Single Tail Test\n",
    "> ### Reject $ H_0 $ if $ p\\leq\\alpha $"
   ],
   "cell_type": "markdown",
   "metadata": {}
  },
  {
   "cell_type": "code",
   "execution_count": 62,
   "metadata": {},
   "outputs": [
    {
     "output_type": "execute_result",
     "data": {
      "text/plain": [
       "-3.876893119952045"
      ]
     },
     "metadata": {},
     "execution_count": 62
    }
   ],
   "source": [
    "t"
   ]
  },
  {
   "cell_type": "code",
   "execution_count": 63,
   "metadata": {},
   "outputs": [
    {
     "output_type": "execute_result",
     "data": {
      "text/plain": [
       "0.999640617030382"
      ]
     },
     "metadata": {},
     "execution_count": 63
    }
   ],
   "source": [
    "p_value = t_student.sf(t, df = 24)\n",
    "p_value"
   ]
  },
  {
   "cell_type": "code",
   "execution_count": 65,
   "metadata": {},
   "outputs": [
    {
     "output_type": "execute_result",
     "data": {
      "text/plain": [
       "False"
      ]
     },
     "metadata": {},
     "execution_count": 65
    }
   ],
   "source": [
    "p_value <= significance"
   ]
  },
  {
   "source": [
    "https://www.statsmodels.org/dev/generated/statsmodels.stats.weightstats.DescrStatsW.html"
   ],
   "cell_type": "markdown",
   "metadata": {}
  },
  {
   "cell_type": "code",
   "execution_count": 66,
   "metadata": {},
   "outputs": [],
   "source": [
    "from statsmodels.stats.weightstats import DescrStatsW"
   ]
  },
  {
   "cell_type": "code",
   "execution_count": 68,
   "metadata": {},
   "outputs": [],
   "source": [
    "test = DescrStatsW(sample)"
   ]
  },
  {
   "cell_type": "code",
   "execution_count": 71,
   "metadata": {},
   "outputs": [
    {
     "output_type": "stream",
     "name": "stdout",
     "text": [
      "-3.87689311995208\n0.9996406170303819\n24.0\n"
     ]
    }
   ],
   "source": [
    "[t], [p_value], df = test.ttest_mean(value= mean, alternative='larger')\n",
    "print(t)\n",
    "print(p_value)\n",
    "print(df)"
   ]
  },
  {
   "cell_type": "code",
   "execution_count": 72,
   "metadata": {},
   "outputs": [
    {
     "output_type": "execute_result",
     "data": {
      "text/plain": [
       "False"
      ]
     },
     "metadata": {},
     "execution_count": 72
    }
   ],
   "source": [
    "p_value <= significance"
   ]
  },
  {
   "source": [
    "---"
   ],
   "cell_type": "markdown",
   "metadata": {}
  }
 ]
}