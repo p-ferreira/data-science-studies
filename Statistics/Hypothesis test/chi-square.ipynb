{
 "metadata": {
  "language_info": {
   "codemirror_mode": {
    "name": "ipython",
    "version": 3
   },
   "file_extension": ".py",
   "mimetype": "text/x-python",
   "name": "python",
   "nbconvert_exporter": "python",
   "pygments_lexer": "ipython3",
   "version": "3.8.5"
  },
  "orig_nbformat": 2,
  "kernelspec": {
   "name": "python385jvsc74a57bd0694c8744488563f6cd2d93f9dc805a9ad929a19bb6157c2d6f3cab25a4c31ca1",
   "display_name": "Python 3.8.5 64-bit ('base': conda)"
  }
 },
 "nbformat": 4,
 "nbformat_minor": 2,
 "cells": [
  {
   "source": [
    "# <font color = green>NON-PARAMETRIC TESTS </font>\n",
    "***\n",
    "\n",
    "The work with small samples can lead to the non-acceptance of the validity of the central limit theorem and also to the impossibility of making assumptions about the distribution of the evaluated variable. When this occurs, it is necessary to apply non-parametric tests. In non-parametric tests, we do not make assumptions about the (probability) distribution from which the observations are extracted.\n",
    "\n",
    "## <font color = 'red'> Problem </font>\n",
    "\n",
    "\n",
    "Before each match of the national football championship, the coins used by the referees must be checked to make sure that they are not addicted, that is, that they do not tend to a certain result. For this, a simple test must be carried out before each match. This test consists of flipping the game currency ** 50 times ** and counting the ** FACE ** and ** CROWN ** frequencies obtained. The table below shows the result obtained in the experiment:\n",
    "\n",
    "|| FACE | CROWN |\n",
    "| - | - | - |\n",
    "| Observed | 17 | 33 |\n",
    "| Expected | 25 | 25 |\n",
    "\n",
    "At a ** significance level of 5% **, is it possible to say that the coin is not honest, that is, that the coin is more likely to fall with the ** FACE ** face upwards?"
   ],
   "cell_type": "markdown",
   "metadata": {}
  },
  {
   "source": [
    "## <font color = green> 4.1 Chi-Square Test ($\\chi^2 $) </font>\n",
    "***\n",
    "\n",
    "Also known as the fit adequacy test, its name is due to the fact that it uses a standardized statistical variable, represented by the Greek letter qui ($ \\ chi $) squared. The table with the standardized values and how to obtain it can be seen below.\n",
    "\n",
    "The $ \\ chi ^ 2 $ test tests the null hypothesis that there is no difference between the observed frequencies of a given event and the frequencies that are actually expected for that event.\n",
    "\n",
    "The test application steps are very similar to those seen for parametric tests.\n",
    "\n",
    "![Acceptance Region](https://caelum-online-public.s3.amazonaws.com/1229-estatistica-parte3/01/img017.png)"
   ],
   "cell_type": "markdown",
   "metadata": {}
  },
  {
   "source": [
    "### Building table $\\chi^2$\n",
    "https://docs.scipy.org/doc/scipy/reference/generated/scipy.stats.chi.html"
   ],
   "cell_type": "markdown",
   "metadata": {}
  },
  {
   "cell_type": "code",
   "execution_count": 2,
   "metadata": {},
   "outputs": [
    {
     "output_type": "execute_result",
     "data": {
      "text/plain": [
       "p                     0.005    0.010    0.025    0.050    0.100    0.250  \\\n",
       "Graus de Liberdade                                                         \n",
       "1                    0.0000   0.0002   0.0010   0.0039   0.0158   0.1015   \n",
       "2                    0.0100   0.0201   0.0506   0.1026   0.2107   0.5754   \n",
       "3                    0.0717   0.1148   0.2158   0.3518   0.5844   1.2125   \n",
       "4                    0.2070   0.2971   0.4844   0.7107   1.0636   1.9226   \n",
       "5                    0.4117   0.5543   0.8312   1.1455   1.6103   2.6746   \n",
       "6                    0.6757   0.8721   1.2373   1.6354   2.2041   3.4546   \n",
       "7                    0.9893   1.2390   1.6899   2.1673   2.8331   4.2549   \n",
       "8                    1.3444   1.6465   2.1797   2.7326   3.4895   5.0706   \n",
       "9                    1.7349   2.0879   2.7004   3.3251   4.1682   5.8988   \n",
       "10                   2.1559   2.5582   3.2470   3.9403   4.8652   6.7372   \n",
       "11                   2.6032   3.0535   3.8157   4.5748   5.5778   7.5841   \n",
       "12                   3.0738   3.5706   4.4038   5.2260   6.3038   8.4384   \n",
       "13                   3.5650   4.1069   5.0088   5.8919   7.0415   9.2991   \n",
       "14                   4.0747   4.6604   5.6287   6.5706   7.7895  10.1653   \n",
       "15                   4.6009   5.2293   6.2621   7.2609   8.5468  11.0365   \n",
       "16                   5.1422   5.8122   6.9077   7.9616   9.3122  11.9122   \n",
       "17                   5.6972   6.4078   7.5642   8.6718  10.0852  12.7919   \n",
       "18                   6.2648   7.0149   8.2307   9.3905  10.8649  13.6753   \n",
       "19                   6.8440   7.6327   8.9065  10.1170  11.6509  14.5620   \n",
       "20                   7.4338   8.2604   9.5908  10.8508  12.4426  15.4518   \n",
       "21                   8.0337   8.8972  10.2829  11.5913  13.2396  16.3444   \n",
       "22                   8.6427   9.5425  10.9823  12.3380  14.0415  17.2396   \n",
       "23                   9.2604  10.1957  11.6886  13.0905  14.8480  18.1373   \n",
       "24                   9.8862  10.8564  12.4012  13.8484  15.6587  19.0373   \n",
       "25                  10.5197  11.5240  13.1197  14.6114  16.4734  19.9393   \n",
       "26                  11.1602  12.1981  13.8439  15.3792  17.2919  20.8434   \n",
       "27                  11.8076  12.8785  14.5734  16.1514  18.1139  21.7494   \n",
       "28                  12.4613  13.5647  15.3079  16.9279  18.9392  22.6572   \n",
       "29                  13.1211  14.2565  16.0471  17.7084  19.7677  23.5666   \n",
       "30                  13.7867  14.9535  16.7908  18.4927  20.5992  24.4776   \n",
       "\n",
       "p                     0.500    0.750    0.900    0.975    0.950    0.990  \\\n",
       "Graus de Liberdade                                                         \n",
       "1                    0.4549   1.3233   2.7055   5.0239   3.8415   6.6349   \n",
       "2                    1.3863   2.7726   4.6052   7.3778   5.9915   9.2103   \n",
       "3                    2.3660   4.1083   6.2514   9.3484   7.8147  11.3449   \n",
       "4                    3.3567   5.3853   7.7794  11.1433   9.4877  13.2767   \n",
       "5                    4.3515   6.6257   9.2364  12.8325  11.0705  15.0863   \n",
       "6                    5.3481   7.8408  10.6446  14.4494  12.5916  16.8119   \n",
       "7                    6.3458   9.0371  12.0170  16.0128  14.0671  18.4753   \n",
       "8                    7.3441  10.2189  13.3616  17.5345  15.5073  20.0902   \n",
       "9                    8.3428  11.3888  14.6837  19.0228  16.9190  21.6660   \n",
       "10                   9.3418  12.5489  15.9872  20.4832  18.3070  23.2093   \n",
       "11                  10.3410  13.7007  17.2750  21.9200  19.6751  24.7250   \n",
       "12                  11.3403  14.8454  18.5493  23.3367  21.0261  26.2170   \n",
       "13                  12.3398  15.9839  19.8119  24.7356  22.3620  27.6882   \n",
       "14                  13.3393  17.1169  21.0641  26.1189  23.6848  29.1412   \n",
       "15                  14.3389  18.2451  22.3071  27.4884  24.9958  30.5779   \n",
       "16                  15.3385  19.3689  23.5418  28.8454  26.2962  31.9999   \n",
       "17                  16.3382  20.4887  24.7690  30.1910  27.5871  33.4087   \n",
       "18                  17.3379  21.6049  25.9894  31.5264  28.8693  34.8053   \n",
       "19                  18.3377  22.7178  27.2036  32.8523  30.1435  36.1909   \n",
       "20                  19.3374  23.8277  28.4120  34.1696  31.4104  37.5662   \n",
       "21                  20.3372  24.9348  29.6151  35.4789  32.6706  38.9322   \n",
       "22                  21.3370  26.0393  30.8133  36.7807  33.9244  40.2894   \n",
       "23                  22.3369  27.1413  32.0069  38.0756  35.1725  41.6384   \n",
       "24                  23.3367  28.2412  33.1962  39.3641  36.4150  42.9798   \n",
       "25                  24.3366  29.3389  34.3816  40.6465  37.6525  44.3141   \n",
       "26                  25.3365  30.4346  35.5632  41.9232  38.8851  45.6417   \n",
       "27                  26.3363  31.5284  36.7412  43.1945  40.1133  46.9629   \n",
       "28                  27.3362  32.6205  37.9159  44.4608  41.3371  48.2782   \n",
       "29                  28.3361  33.7109  39.0875  45.7223  42.5570  49.5879   \n",
       "30                  29.3360  34.7997  40.2560  46.9792  43.7730  50.8922   \n",
       "\n",
       "p                     0.995  \n",
       "Graus de Liberdade           \n",
       "1                    7.8794  \n",
       "2                   10.5966  \n",
       "3                   12.8382  \n",
       "4                   14.8603  \n",
       "5                   16.7496  \n",
       "6                   18.5476  \n",
       "7                   20.2777  \n",
       "8                   21.9550  \n",
       "9                   23.5894  \n",
       "10                  25.1882  \n",
       "11                  26.7568  \n",
       "12                  28.2995  \n",
       "13                  29.8195  \n",
       "14                  31.3193  \n",
       "15                  32.8013  \n",
       "16                  34.2672  \n",
       "17                  35.7185  \n",
       "18                  37.1565  \n",
       "19                  38.5823  \n",
       "20                  39.9968  \n",
       "21                  41.4011  \n",
       "22                  42.7957  \n",
       "23                  44.1813  \n",
       "24                  45.5585  \n",
       "25                  46.9279  \n",
       "26                  48.2899  \n",
       "27                  49.6449  \n",
       "28                  50.9934  \n",
       "29                  52.3356  \n",
       "30                  53.6720  "
      ],
      "text/html": "<div>\n<style scoped>\n    .dataframe tbody tr th:only-of-type {\n        vertical-align: middle;\n    }\n\n    .dataframe tbody tr th {\n        vertical-align: top;\n    }\n\n    .dataframe thead th {\n        text-align: right;\n    }\n</style>\n<table border=\"1\" class=\"dataframe\">\n  <thead>\n    <tr style=\"text-align: right;\">\n      <th>p</th>\n      <th>0.005</th>\n      <th>0.010</th>\n      <th>0.025</th>\n      <th>0.050</th>\n      <th>0.100</th>\n      <th>0.250</th>\n      <th>0.500</th>\n      <th>0.750</th>\n      <th>0.900</th>\n      <th>0.975</th>\n      <th>0.950</th>\n      <th>0.990</th>\n      <th>0.995</th>\n    </tr>\n    <tr>\n      <th>Graus de Liberdade</th>\n      <th></th>\n      <th></th>\n      <th></th>\n      <th></th>\n      <th></th>\n      <th></th>\n      <th></th>\n      <th></th>\n      <th></th>\n      <th></th>\n      <th></th>\n      <th></th>\n      <th></th>\n    </tr>\n  </thead>\n  <tbody>\n    <tr>\n      <th>1</th>\n      <td>0.0000</td>\n      <td>0.0002</td>\n      <td>0.0010</td>\n      <td>0.0039</td>\n      <td>0.0158</td>\n      <td>0.1015</td>\n      <td>0.4549</td>\n      <td>1.3233</td>\n      <td>2.7055</td>\n      <td>5.0239</td>\n      <td>3.8415</td>\n      <td>6.6349</td>\n      <td>7.8794</td>\n    </tr>\n    <tr>\n      <th>2</th>\n      <td>0.0100</td>\n      <td>0.0201</td>\n      <td>0.0506</td>\n      <td>0.1026</td>\n      <td>0.2107</td>\n      <td>0.5754</td>\n      <td>1.3863</td>\n      <td>2.7726</td>\n      <td>4.6052</td>\n      <td>7.3778</td>\n      <td>5.9915</td>\n      <td>9.2103</td>\n      <td>10.5966</td>\n    </tr>\n    <tr>\n      <th>3</th>\n      <td>0.0717</td>\n      <td>0.1148</td>\n      <td>0.2158</td>\n      <td>0.3518</td>\n      <td>0.5844</td>\n      <td>1.2125</td>\n      <td>2.3660</td>\n      <td>4.1083</td>\n      <td>6.2514</td>\n      <td>9.3484</td>\n      <td>7.8147</td>\n      <td>11.3449</td>\n      <td>12.8382</td>\n    </tr>\n    <tr>\n      <th>4</th>\n      <td>0.2070</td>\n      <td>0.2971</td>\n      <td>0.4844</td>\n      <td>0.7107</td>\n      <td>1.0636</td>\n      <td>1.9226</td>\n      <td>3.3567</td>\n      <td>5.3853</td>\n      <td>7.7794</td>\n      <td>11.1433</td>\n      <td>9.4877</td>\n      <td>13.2767</td>\n      <td>14.8603</td>\n    </tr>\n    <tr>\n      <th>5</th>\n      <td>0.4117</td>\n      <td>0.5543</td>\n      <td>0.8312</td>\n      <td>1.1455</td>\n      <td>1.6103</td>\n      <td>2.6746</td>\n      <td>4.3515</td>\n      <td>6.6257</td>\n      <td>9.2364</td>\n      <td>12.8325</td>\n      <td>11.0705</td>\n      <td>15.0863</td>\n      <td>16.7496</td>\n    </tr>\n    <tr>\n      <th>6</th>\n      <td>0.6757</td>\n      <td>0.8721</td>\n      <td>1.2373</td>\n      <td>1.6354</td>\n      <td>2.2041</td>\n      <td>3.4546</td>\n      <td>5.3481</td>\n      <td>7.8408</td>\n      <td>10.6446</td>\n      <td>14.4494</td>\n      <td>12.5916</td>\n      <td>16.8119</td>\n      <td>18.5476</td>\n    </tr>\n    <tr>\n      <th>7</th>\n      <td>0.9893</td>\n      <td>1.2390</td>\n      <td>1.6899</td>\n      <td>2.1673</td>\n      <td>2.8331</td>\n      <td>4.2549</td>\n      <td>6.3458</td>\n      <td>9.0371</td>\n      <td>12.0170</td>\n      <td>16.0128</td>\n      <td>14.0671</td>\n      <td>18.4753</td>\n      <td>20.2777</td>\n    </tr>\n    <tr>\n      <th>8</th>\n      <td>1.3444</td>\n      <td>1.6465</td>\n      <td>2.1797</td>\n      <td>2.7326</td>\n      <td>3.4895</td>\n      <td>5.0706</td>\n      <td>7.3441</td>\n      <td>10.2189</td>\n      <td>13.3616</td>\n      <td>17.5345</td>\n      <td>15.5073</td>\n      <td>20.0902</td>\n      <td>21.9550</td>\n    </tr>\n    <tr>\n      <th>9</th>\n      <td>1.7349</td>\n      <td>2.0879</td>\n      <td>2.7004</td>\n      <td>3.3251</td>\n      <td>4.1682</td>\n      <td>5.8988</td>\n      <td>8.3428</td>\n      <td>11.3888</td>\n      <td>14.6837</td>\n      <td>19.0228</td>\n      <td>16.9190</td>\n      <td>21.6660</td>\n      <td>23.5894</td>\n    </tr>\n    <tr>\n      <th>10</th>\n      <td>2.1559</td>\n      <td>2.5582</td>\n      <td>3.2470</td>\n      <td>3.9403</td>\n      <td>4.8652</td>\n      <td>6.7372</td>\n      <td>9.3418</td>\n      <td>12.5489</td>\n      <td>15.9872</td>\n      <td>20.4832</td>\n      <td>18.3070</td>\n      <td>23.2093</td>\n      <td>25.1882</td>\n    </tr>\n    <tr>\n      <th>11</th>\n      <td>2.6032</td>\n      <td>3.0535</td>\n      <td>3.8157</td>\n      <td>4.5748</td>\n      <td>5.5778</td>\n      <td>7.5841</td>\n      <td>10.3410</td>\n      <td>13.7007</td>\n      <td>17.2750</td>\n      <td>21.9200</td>\n      <td>19.6751</td>\n      <td>24.7250</td>\n      <td>26.7568</td>\n    </tr>\n    <tr>\n      <th>12</th>\n      <td>3.0738</td>\n      <td>3.5706</td>\n      <td>4.4038</td>\n      <td>5.2260</td>\n      <td>6.3038</td>\n      <td>8.4384</td>\n      <td>11.3403</td>\n      <td>14.8454</td>\n      <td>18.5493</td>\n      <td>23.3367</td>\n      <td>21.0261</td>\n      <td>26.2170</td>\n      <td>28.2995</td>\n    </tr>\n    <tr>\n      <th>13</th>\n      <td>3.5650</td>\n      <td>4.1069</td>\n      <td>5.0088</td>\n      <td>5.8919</td>\n      <td>7.0415</td>\n      <td>9.2991</td>\n      <td>12.3398</td>\n      <td>15.9839</td>\n      <td>19.8119</td>\n      <td>24.7356</td>\n      <td>22.3620</td>\n      <td>27.6882</td>\n      <td>29.8195</td>\n    </tr>\n    <tr>\n      <th>14</th>\n      <td>4.0747</td>\n      <td>4.6604</td>\n      <td>5.6287</td>\n      <td>6.5706</td>\n      <td>7.7895</td>\n      <td>10.1653</td>\n      <td>13.3393</td>\n      <td>17.1169</td>\n      <td>21.0641</td>\n      <td>26.1189</td>\n      <td>23.6848</td>\n      <td>29.1412</td>\n      <td>31.3193</td>\n    </tr>\n    <tr>\n      <th>15</th>\n      <td>4.6009</td>\n      <td>5.2293</td>\n      <td>6.2621</td>\n      <td>7.2609</td>\n      <td>8.5468</td>\n      <td>11.0365</td>\n      <td>14.3389</td>\n      <td>18.2451</td>\n      <td>22.3071</td>\n      <td>27.4884</td>\n      <td>24.9958</td>\n      <td>30.5779</td>\n      <td>32.8013</td>\n    </tr>\n    <tr>\n      <th>16</th>\n      <td>5.1422</td>\n      <td>5.8122</td>\n      <td>6.9077</td>\n      <td>7.9616</td>\n      <td>9.3122</td>\n      <td>11.9122</td>\n      <td>15.3385</td>\n      <td>19.3689</td>\n      <td>23.5418</td>\n      <td>28.8454</td>\n      <td>26.2962</td>\n      <td>31.9999</td>\n      <td>34.2672</td>\n    </tr>\n    <tr>\n      <th>17</th>\n      <td>5.6972</td>\n      <td>6.4078</td>\n      <td>7.5642</td>\n      <td>8.6718</td>\n      <td>10.0852</td>\n      <td>12.7919</td>\n      <td>16.3382</td>\n      <td>20.4887</td>\n      <td>24.7690</td>\n      <td>30.1910</td>\n      <td>27.5871</td>\n      <td>33.4087</td>\n      <td>35.7185</td>\n    </tr>\n    <tr>\n      <th>18</th>\n      <td>6.2648</td>\n      <td>7.0149</td>\n      <td>8.2307</td>\n      <td>9.3905</td>\n      <td>10.8649</td>\n      <td>13.6753</td>\n      <td>17.3379</td>\n      <td>21.6049</td>\n      <td>25.9894</td>\n      <td>31.5264</td>\n      <td>28.8693</td>\n      <td>34.8053</td>\n      <td>37.1565</td>\n    </tr>\n    <tr>\n      <th>19</th>\n      <td>6.8440</td>\n      <td>7.6327</td>\n      <td>8.9065</td>\n      <td>10.1170</td>\n      <td>11.6509</td>\n      <td>14.5620</td>\n      <td>18.3377</td>\n      <td>22.7178</td>\n      <td>27.2036</td>\n      <td>32.8523</td>\n      <td>30.1435</td>\n      <td>36.1909</td>\n      <td>38.5823</td>\n    </tr>\n    <tr>\n      <th>20</th>\n      <td>7.4338</td>\n      <td>8.2604</td>\n      <td>9.5908</td>\n      <td>10.8508</td>\n      <td>12.4426</td>\n      <td>15.4518</td>\n      <td>19.3374</td>\n      <td>23.8277</td>\n      <td>28.4120</td>\n      <td>34.1696</td>\n      <td>31.4104</td>\n      <td>37.5662</td>\n      <td>39.9968</td>\n    </tr>\n    <tr>\n      <th>21</th>\n      <td>8.0337</td>\n      <td>8.8972</td>\n      <td>10.2829</td>\n      <td>11.5913</td>\n      <td>13.2396</td>\n      <td>16.3444</td>\n      <td>20.3372</td>\n      <td>24.9348</td>\n      <td>29.6151</td>\n      <td>35.4789</td>\n      <td>32.6706</td>\n      <td>38.9322</td>\n      <td>41.4011</td>\n    </tr>\n    <tr>\n      <th>22</th>\n      <td>8.6427</td>\n      <td>9.5425</td>\n      <td>10.9823</td>\n      <td>12.3380</td>\n      <td>14.0415</td>\n      <td>17.2396</td>\n      <td>21.3370</td>\n      <td>26.0393</td>\n      <td>30.8133</td>\n      <td>36.7807</td>\n      <td>33.9244</td>\n      <td>40.2894</td>\n      <td>42.7957</td>\n    </tr>\n    <tr>\n      <th>23</th>\n      <td>9.2604</td>\n      <td>10.1957</td>\n      <td>11.6886</td>\n      <td>13.0905</td>\n      <td>14.8480</td>\n      <td>18.1373</td>\n      <td>22.3369</td>\n      <td>27.1413</td>\n      <td>32.0069</td>\n      <td>38.0756</td>\n      <td>35.1725</td>\n      <td>41.6384</td>\n      <td>44.1813</td>\n    </tr>\n    <tr>\n      <th>24</th>\n      <td>9.8862</td>\n      <td>10.8564</td>\n      <td>12.4012</td>\n      <td>13.8484</td>\n      <td>15.6587</td>\n      <td>19.0373</td>\n      <td>23.3367</td>\n      <td>28.2412</td>\n      <td>33.1962</td>\n      <td>39.3641</td>\n      <td>36.4150</td>\n      <td>42.9798</td>\n      <td>45.5585</td>\n    </tr>\n    <tr>\n      <th>25</th>\n      <td>10.5197</td>\n      <td>11.5240</td>\n      <td>13.1197</td>\n      <td>14.6114</td>\n      <td>16.4734</td>\n      <td>19.9393</td>\n      <td>24.3366</td>\n      <td>29.3389</td>\n      <td>34.3816</td>\n      <td>40.6465</td>\n      <td>37.6525</td>\n      <td>44.3141</td>\n      <td>46.9279</td>\n    </tr>\n    <tr>\n      <th>26</th>\n      <td>11.1602</td>\n      <td>12.1981</td>\n      <td>13.8439</td>\n      <td>15.3792</td>\n      <td>17.2919</td>\n      <td>20.8434</td>\n      <td>25.3365</td>\n      <td>30.4346</td>\n      <td>35.5632</td>\n      <td>41.9232</td>\n      <td>38.8851</td>\n      <td>45.6417</td>\n      <td>48.2899</td>\n    </tr>\n    <tr>\n      <th>27</th>\n      <td>11.8076</td>\n      <td>12.8785</td>\n      <td>14.5734</td>\n      <td>16.1514</td>\n      <td>18.1139</td>\n      <td>21.7494</td>\n      <td>26.3363</td>\n      <td>31.5284</td>\n      <td>36.7412</td>\n      <td>43.1945</td>\n      <td>40.1133</td>\n      <td>46.9629</td>\n      <td>49.6449</td>\n    </tr>\n    <tr>\n      <th>28</th>\n      <td>12.4613</td>\n      <td>13.5647</td>\n      <td>15.3079</td>\n      <td>16.9279</td>\n      <td>18.9392</td>\n      <td>22.6572</td>\n      <td>27.3362</td>\n      <td>32.6205</td>\n      <td>37.9159</td>\n      <td>44.4608</td>\n      <td>41.3371</td>\n      <td>48.2782</td>\n      <td>50.9934</td>\n    </tr>\n    <tr>\n      <th>29</th>\n      <td>13.1211</td>\n      <td>14.2565</td>\n      <td>16.0471</td>\n      <td>17.7084</td>\n      <td>19.7677</td>\n      <td>23.5666</td>\n      <td>28.3361</td>\n      <td>33.7109</td>\n      <td>39.0875</td>\n      <td>45.7223</td>\n      <td>42.5570</td>\n      <td>49.5879</td>\n      <td>52.3356</td>\n    </tr>\n    <tr>\n      <th>30</th>\n      <td>13.7867</td>\n      <td>14.9535</td>\n      <td>16.7908</td>\n      <td>18.4927</td>\n      <td>20.5992</td>\n      <td>24.4776</td>\n      <td>29.3360</td>\n      <td>34.7997</td>\n      <td>40.2560</td>\n      <td>46.9792</td>\n      <td>43.7730</td>\n      <td>50.8922</td>\n      <td>53.6720</td>\n    </tr>\n  </tbody>\n</table>\n</div>"
     },
     "metadata": {},
     "execution_count": 2
    }
   ],
   "source": [
    "import pandas as pd\n",
    "from scipy.stats import chi\n",
    "\n",
    "table_t_chi_2 = pd.DataFrame(\n",
    "    [], \n",
    "    index=[i for i in range(1, 31)],\n",
    "    columns = [0.005, 0.01, 0.025, 0.05, 0.1, 0.25, 0.5, 0.75, 0.9, 0.975, 0.95, 0.99, 0.995]\n",
    ")\n",
    "\n",
    "for index in table_t_chi_2.index:\n",
    "    for column in table_t_chi_2.columns:\n",
    "        table_t_chi_2.loc[index, column] = \"{0:0.4f}\".format(chi.ppf(float(column), index)**2)\n",
    "\n",
    "table_t_chi_2.index.name='Graus de Liberdade'\n",
    "table_t_chi_2.rename_axis(['p'], axis=1, inplace = True)\n",
    "\n",
    "table_t_chi_2"
   ]
  },
  {
   "source": [
    "<img src='https://caelum-online-public.s3.amazonaws.com/1229-estatistica-parte3/01/img016.png' width = '250px'>\n",
    "\n",
    "Table with the values of $\\chi_p ^ 2 $ as a function of degrees of freedom $ (n - 1) $ and $p = P (\\chi ^ 2 \\leq \\chi_p ^ 2) $"
   ],
   "cell_type": "markdown",
   "metadata": {}
  },
  {
   "source": [
    "## <font color = 'red'> Problem </font>\n",
    "\n",
    "Before each match of the national football championship, the coins used by the referees should be checked to make sure that they are not addicted, that is, that they do not tend to a certain result. For this, a simple test must be performed before each match. This test consists of flipping the game currency ** 50 times ** and counting the ** FACE ** and ** CROWN ** frequencies obtained. The table below shows the result obtained in the experiment:\n",
    "\n",
    "|| FACE | CROWN |\n",
    "| - | - | - |\n",
    "| Observed | 17 | 33 |\n",
    "| Expected | 25 | 25 |\n",
    "\n",
    "At a ** significance level of 5% **, is it possible to say that the coin is not honest, that is, that the coin is more likely to fall with the ** FACE ** face upwards?"
   ],
   "cell_type": "markdown",
   "metadata": {}
  },
  {
   "source": [
    "### Problem data"
   ],
   "cell_type": "markdown",
   "metadata": {}
  },
  {
   "cell_type": "code",
   "execution_count": 3,
   "metadata": {},
   "outputs": [],
   "source": [
    "observed_f = [17, 33]\n",
    "expected_f = [25,25]\n",
    "significance = 0.05\n",
    "confidence = 1 - significance\n",
    "k = 2 # Number of possible events\n",
    "degrees_of_freedom = k - 1"
   ]
  },
  {
   "source": [
    "### ** Step 1 ** - formulation of hypotheses $ H_0 $ and $ H_1 $\n",
    "\n",
    "#### <font color = 'red'> Remember, the null hypothesis always contains the equality claim </font>\n",
    "\n",
    "### $H_0: F_{FACE} = F_{CROWN}$\n",
    "\n",
    "### $H_1: F_{FACE} \\neq F_{CROWN}$"
   ],
   "cell_type": "markdown",
   "metadata": {}
  },
  {
   "source": [
    "---"
   ],
   "cell_type": "markdown",
   "metadata": {}
  },
  {
   "source": [
    "### ** Step 2 ** - fixing the test significance ($\\alpha$)\n",
    "\n",
    "https://docs.scipy.org/doc/scipy/reference/generated/scipy.stats.chi.html"
   ],
   "cell_type": "markdown",
   "metadata": {}
  },
  {
   "cell_type": "code",
   "execution_count": 4,
   "metadata": {},
   "outputs": [],
   "source": [
    "from scipy.stats import chi"
   ]
  },
  {
   "cell_type": "code",
   "execution_count": 5,
   "metadata": {},
   "outputs": [
    {
     "output_type": "execute_result",
     "data": {
      "text/plain": [
       "p                    0.005   0.010   0.025   0.050   0.100   0.250   0.500  \\\n",
       "Graus de Liberdade                                                           \n",
       "1                   0.0000  0.0002  0.0010  0.0039  0.0158  0.1015  0.4549   \n",
       "2                   0.0100  0.0201  0.0506  0.1026  0.2107  0.5754  1.3863   \n",
       "3                   0.0717  0.1148  0.2158  0.3518  0.5844  1.2125  2.3660   \n",
       "\n",
       "p                    0.750   0.900   0.975   0.950    0.990    0.995  \n",
       "Graus de Liberdade                                                    \n",
       "1                   1.3233  2.7055  5.0239  3.8415   6.6349   7.8794  \n",
       "2                   2.7726  4.6052  7.3778  5.9915   9.2103  10.5966  \n",
       "3                   4.1083  6.2514  9.3484  7.8147  11.3449  12.8382  "
      ],
      "text/html": "<div>\n<style scoped>\n    .dataframe tbody tr th:only-of-type {\n        vertical-align: middle;\n    }\n\n    .dataframe tbody tr th {\n        vertical-align: top;\n    }\n\n    .dataframe thead th {\n        text-align: right;\n    }\n</style>\n<table border=\"1\" class=\"dataframe\">\n  <thead>\n    <tr style=\"text-align: right;\">\n      <th>p</th>\n      <th>0.005</th>\n      <th>0.010</th>\n      <th>0.025</th>\n      <th>0.050</th>\n      <th>0.100</th>\n      <th>0.250</th>\n      <th>0.500</th>\n      <th>0.750</th>\n      <th>0.900</th>\n      <th>0.975</th>\n      <th>0.950</th>\n      <th>0.990</th>\n      <th>0.995</th>\n    </tr>\n    <tr>\n      <th>Graus de Liberdade</th>\n      <th></th>\n      <th></th>\n      <th></th>\n      <th></th>\n      <th></th>\n      <th></th>\n      <th></th>\n      <th></th>\n      <th></th>\n      <th></th>\n      <th></th>\n      <th></th>\n      <th></th>\n    </tr>\n  </thead>\n  <tbody>\n    <tr>\n      <th>1</th>\n      <td>0.0000</td>\n      <td>0.0002</td>\n      <td>0.0010</td>\n      <td>0.0039</td>\n      <td>0.0158</td>\n      <td>0.1015</td>\n      <td>0.4549</td>\n      <td>1.3233</td>\n      <td>2.7055</td>\n      <td>5.0239</td>\n      <td>3.8415</td>\n      <td>6.6349</td>\n      <td>7.8794</td>\n    </tr>\n    <tr>\n      <th>2</th>\n      <td>0.0100</td>\n      <td>0.0201</td>\n      <td>0.0506</td>\n      <td>0.1026</td>\n      <td>0.2107</td>\n      <td>0.5754</td>\n      <td>1.3863</td>\n      <td>2.7726</td>\n      <td>4.6052</td>\n      <td>7.3778</td>\n      <td>5.9915</td>\n      <td>9.2103</td>\n      <td>10.5966</td>\n    </tr>\n    <tr>\n      <th>3</th>\n      <td>0.0717</td>\n      <td>0.1148</td>\n      <td>0.2158</td>\n      <td>0.3518</td>\n      <td>0.5844</td>\n      <td>1.2125</td>\n      <td>2.3660</td>\n      <td>4.1083</td>\n      <td>6.2514</td>\n      <td>9.3484</td>\n      <td>7.8147</td>\n      <td>11.3449</td>\n      <td>12.8382</td>\n    </tr>\n  </tbody>\n</table>\n</div>"
     },
     "metadata": {},
     "execution_count": 5
    }
   ],
   "source": [
    "table_t_chi_2[:3]"
   ]
  },
  {
   "source": [
    "### Get $\\chi_{\\alpha}^2$"
   ],
   "cell_type": "markdown",
   "metadata": {}
  },
  {
   "cell_type": "code",
   "execution_count": 6,
   "metadata": {},
   "outputs": [
    {
     "output_type": "execute_result",
     "data": {
      "text/plain": [
       "3.8414588206941245"
      ]
     },
     "metadata": {},
     "execution_count": 6
    }
   ],
   "source": [
    "chi_2_alpha = chi.ppf(confidence, degrees_of_freedom) ** 2\n",
    "chi_2_alpha"
   ]
  },
  {
   "source": [
    "![Região de Aceitação](https://caelum-online-public.s3.amazonaws.com/1229-estatistica-parte3/01/img018.png)"
   ],
   "cell_type": "markdown",
   "metadata": {}
  },
  {
   "source": [
    "---"
   ],
   "cell_type": "markdown",
   "metadata": {}
  },
  {
   "source": [
    "### ** Step 3 ** - calculation of the test statistic and verification of this value with the test acceptance and rejection areas\n",
    "\n",
    "# $$\\chi^2 = \\sum_{i=1}^{k}{\\frac{(F_{i}^{Obs} - F_{i}^{Exp})^2}{F_{i}^{Exp}}}$$\n",
    "\n",
    "\n",
    "Where\n",
    "\n",
    "$F_{i} ^ {Obs} $ = frequency observed for the $ i $ event\n",
    "\n",
    "$F_{i} ^ {Exp} $ = expected frequency for the $ i $ event\n",
    "\n",
    "$k$ = total possible events\n",
    "\n",
    "\n",
    "\n"
   ],
   "cell_type": "markdown",
   "metadata": {}
  },
  {
   "cell_type": "code",
   "execution_count": 8,
   "metadata": {},
   "outputs": [
    {
     "output_type": "execute_result",
     "data": {
      "text/plain": [
       "5.12"
      ]
     },
     "metadata": {},
     "execution_count": 8
    }
   ],
   "source": [
    "chi_2  = (((observed_f[0] - expected_f[0]) ** 2 ) / (expected_f[0])) + (((observed_f[1] - expected_f[1]) ** 2 ) / (expected_f[1]))\n",
    "chi_2"
   ]
  },
  {
   "cell_type": "code",
   "execution_count": 11,
   "metadata": {},
   "outputs": [
    {
     "output_type": "execute_result",
     "data": {
      "text/plain": [
       "5.12"
      ]
     },
     "metadata": {},
     "execution_count": 11
    }
   ],
   "source": [
    "chi_2 = 0\n",
    "for i in range(k):\n",
    "    chi_2 += ((observed_f[i] - expected_f[i]) ** 2 ) / (expected_f[i])\n",
    "\n",
    "chi_2"
   ]
  },
  {
   "source": [
    "![Estatística-Teste](https://caelum-online-public.s3.amazonaws.com/1229-estatistica-parte3/01/img019.png)"
   ],
   "cell_type": "markdown",
   "metadata": {}
  },
  {
   "source": [
    "---"
   ],
   "cell_type": "markdown",
   "metadata": {}
  },
  {
   "source": [
    "### ** Step 4 ** - Acceptance or rejection of the null hypothesis\n",
    "\n",
    "<img src='https://caelum-online-public.s3.amazonaws.com/1229-estatistica-parte3/01/img020.png' width=80%>"
   ],
   "cell_type": "markdown",
   "metadata": {}
  },
  {
   "source": [
    "### <font color = 'red'> Critical value criterion </font>\n",
    "\n",
    "> ### Reject $ H_0 $ if $\\chi_{test} ^ 2> \\chi_{\\alpha} ^ 2 $"
   ],
   "cell_type": "markdown",
   "metadata": {}
  },
  {
   "cell_type": "code",
   "execution_count": 12,
   "metadata": {},
   "outputs": [
    {
     "output_type": "execute_result",
     "data": {
      "text/plain": [
       "True"
      ]
     },
     "metadata": {},
     "execution_count": 12
    }
   ],
   "source": [
    "chi_2 > chi_2_alpha"
   ]
  },
  {
   "source": [
    "### <font color = 'green'> Conclusion: With a 95% confidence level we reject the null hypothesis ($ H_0 $) and conclude that the observed and expected frequencies are discrepant, that is, the currency is not honest and needs to be replaced. </font>"
   ],
   "cell_type": "markdown",
   "metadata": {}
  },
  {
   "source": [
    "### <font color='red'> $ p $ value criterion </font>\n",
    "\n",
    "> ### Reject $ H_0 $ if $p\\leq\\alpha$"
   ],
   "cell_type": "markdown",
   "metadata": {}
  },
  {
   "cell_type": "code",
   "execution_count": 13,
   "metadata": {},
   "outputs": [
    {
     "output_type": "execute_result",
     "data": {
      "text/plain": [
       "5.12"
      ]
     },
     "metadata": {},
     "execution_count": 13
    }
   ],
   "source": [
    "chi_2"
   ]
  },
  {
   "cell_type": "code",
   "execution_count": 16,
   "metadata": {},
   "outputs": [
    {
     "output_type": "execute_result",
     "data": {
      "text/plain": [
       "2.262741699796952"
      ]
     },
     "metadata": {},
     "execution_count": 16
    }
   ],
   "source": [
    "import numpy as np \n",
    "\n",
    "sqrt_chi_2 = np.sqrt(chi_2)\n",
    "sqrt_chi_2"
   ]
  },
  {
   "cell_type": "code",
   "execution_count": 17,
   "metadata": {},
   "outputs": [
    {
     "output_type": "execute_result",
     "data": {
      "text/plain": [
       "0.023651616655355978"
      ]
     },
     "metadata": {},
     "execution_count": 17
    }
   ],
   "source": [
    "p_value = chi.sf(sqrt_chi_2, df=1)\n",
    "p_value"
   ]
  },
  {
   "source": [
    "https://docs.scipy.org/doc/scipy/reference/generated/scipy.stats.chisquare.html"
   ],
   "cell_type": "markdown",
   "metadata": {}
  },
  {
   "cell_type": "code",
   "execution_count": 19,
   "metadata": {},
   "outputs": [],
   "source": [
    "from scipy.stats import chisquare"
   ]
  },
  {
   "cell_type": "code",
   "execution_count": 21,
   "metadata": {},
   "outputs": [
    {
     "output_type": "stream",
     "name": "stdout",
     "text": [
      "5.12 0.023651616655356\n"
     ]
    }
   ],
   "source": [
    "chi_2, p_value = chisquare(observed_f, expected_f)\n",
    "print(chi_2, p_value)"
   ]
  },
  {
   "cell_type": "code",
   "execution_count": 22,
   "metadata": {},
   "outputs": [
    {
     "output_type": "execute_result",
     "data": {
      "text/plain": [
       "True"
      ]
     },
     "metadata": {},
     "execution_count": 22
    }
   ],
   "source": [
    "p_value <= significance"
   ]
  },
  {
   "source": [
    "---"
   ],
   "cell_type": "markdown",
   "metadata": {}
  },
  {
   "cell_type": "code",
   "execution_count": null,
   "metadata": {},
   "outputs": [],
   "source": []
  }
 ]
}