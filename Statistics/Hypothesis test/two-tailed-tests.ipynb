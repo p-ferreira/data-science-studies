{
 "metadata": {
  "language_info": {
   "codemirror_mode": {
    "name": "ipython",
    "version": 3
   },
   "file_extension": ".py",
   "mimetype": "text/x-python",
   "name": "python",
   "nbconvert_exporter": "python",
   "pygments_lexer": "ipython3",
   "version": "3.8.5"
  },
  "orig_nbformat": 2,
  "kernelspec": {
   "name": "python385jvsc74a57bd0694c8744488563f6cd2d93f9dc805a9ad929a19bb6157c2d6f3cab25a4c31ca1",
   "display_name": "Python 3.8.5 64-bit ('base': conda)"
  }
 },
 "nbformat": 4,
 "nbformat_minor": 2,
 "cells": [
  {
   "cell_type": "code",
   "execution_count": 22,
   "metadata": {},
   "outputs": [],
   "source": [
    "import pandas as pd\n",
    "import numpy as np\n",
    "\n",
    "\n",
    "data = pd.read_csv('data/data.csv', sep = ',')"
   ]
  },
  {
   "source": [
    "# <font color=green>Parametrical tests</font>\n",
    "***\n",
    "\n",
    "When a test makes certain assumptions about how the parameters of a population are distributed, we are working with ** Parametric Tests **."
   ],
   "cell_type": "markdown",
   "metadata": {}
  },
  {
   "source": [
    "## <font color = green>Two-tailed test </font>\n",
    "***\n",
    "\n",
    "## <font color='red'> Problem </font>\n",
    "\n",
    "The company ** Suco Bom ** produces ** fruit juices in 500 ml packages **. Its production process is almost entirely automated and the juice packaging is filled by a machine that sometimes has a certain mismatch, leading to errors in filling the packaging for more or less content. When the average volume falls below 500 ml, the company worries about losing sales and having problems with the inspection agencies. When the volume exceeds 500 ml, the company starts to worry about losses in the production process.\n",
    "\n",
    "The company's quality control sector ** Suco Bom ** periodically extracts ** samples from 50 packages ** to monitor the production process. For each sample, a ** hypothesis test ** is carried out to assess whether the machinery is out of adjustment. The quality control team assumes a ** significance level of 5% **.\n",
    "\n",
    "Suppose now that a ** sample of 50 packages ** was selected and that the ** sample mean observed was 503.24 ml **. ** Is this sample mean value sufficiently greater than 500 ml to make us reject the hypothesis that the process average is 500 ml at the 5% significance level? **\n",
    "\n",
    "The ** two-tailed test ** is widely used in ** quality tests **, such as the one presented in our problem above. Another example is the evaluation of parts that must have a perfect fit (nuts and bolts, keys and locks).\n",
    "\n",
    "![Teste Bicaudal](https://caelum-online-public.s3.amazonaws.com/1229-estatistica-parte3/01/img005.png)"
   ],
   "cell_type": "markdown",
   "metadata": {}
  },
  {
   "source": [],
   "cell_type": "markdown",
   "metadata": {}
  },
  {
   "source": [
    "---"
   ],
   "cell_type": "markdown",
   "metadata": {}
  },
  {
   "source": [
    "### Problem Data"
   ],
   "cell_type": "markdown",
   "metadata": {}
  },
  {
   "cell_type": "code",
   "execution_count": 23,
   "metadata": {},
   "outputs": [],
   "source": [
    "sample = [509, 505, 495, 510, 496, 509, 497, 502, 503, 505, \n",
    "           501, 505, 510, 505, 504, 497, 506, 506, 508, 505, \n",
    "           497, 504, 500, 498, 506, 496, 508, 497, 503, 501, \n",
    "           503, 506, 499, 498, 509, 507, 503, 499, 509, 495, \n",
    "           502, 505, 504, 509, 508, 501, 505, 497, 508, 507]"
   ]
  },
  {
   "cell_type": "code",
   "execution_count": 24,
   "metadata": {},
   "outputs": [
    {
     "output_type": "execute_result",
     "data": {
      "text/plain": [
       "   Sample\n",
       "0     509\n",
       "1     505\n",
       "2     495\n",
       "3     510\n",
       "4     496"
      ],
      "text/html": "<div>\n<style scoped>\n    .dataframe tbody tr th:only-of-type {\n        vertical-align: middle;\n    }\n\n    .dataframe tbody tr th {\n        vertical-align: top;\n    }\n\n    .dataframe thead th {\n        text-align: right;\n    }\n</style>\n<table border=\"1\" class=\"dataframe\">\n  <thead>\n    <tr style=\"text-align: right;\">\n      <th></th>\n      <th>Sample</th>\n    </tr>\n  </thead>\n  <tbody>\n    <tr>\n      <th>0</th>\n      <td>509</td>\n    </tr>\n    <tr>\n      <th>1</th>\n      <td>505</td>\n    </tr>\n    <tr>\n      <th>2</th>\n      <td>495</td>\n    </tr>\n    <tr>\n      <th>3</th>\n      <td>510</td>\n    </tr>\n    <tr>\n      <th>4</th>\n      <td>496</td>\n    </tr>\n  </tbody>\n</table>\n</div>"
     },
     "metadata": {},
     "execution_count": 24
    }
   ],
   "source": [
    "sample = pd.DataFrame(sample, columns=['Sample'])\n",
    "sample.head()"
   ]
  },
  {
   "cell_type": "code",
   "execution_count": 25,
   "metadata": {},
   "outputs": [
    {
     "output_type": "execute_result",
     "data": {
      "text/plain": [
       "503.24"
      ]
     },
     "metadata": {},
     "execution_count": 25
    }
   ],
   "source": [
    "sample_average = sample.mean()[0]\n",
    "sample_average"
   ]
  },
  {
   "cell_type": "code",
   "execution_count": 26,
   "metadata": {},
   "outputs": [
    {
     "output_type": "execute_result",
     "data": {
      "text/plain": [
       "4.483803050527347"
      ]
     },
     "metadata": {},
     "execution_count": 26
    }
   ],
   "source": [
    "sample_std = sample.std()[0]\n",
    "sample_std"
   ]
  },
  {
   "cell_type": "code",
   "execution_count": 27,
   "metadata": {},
   "outputs": [],
   "source": [
    "mean = 500\n",
    "significance = 0.05\n",
    "confidence = 1 - significance\n",
    "n = 50"
   ]
  },
  {
   "source": [
    "### **Step 1** - formulation of hypotheses $H_0$ and $H_1$\n",
    "\n",
    "#### <font color='red'> Remember, the null hypothesis always contains the equality claim </font>\n",
    "\n",
    "### $H_0: \\mu = 500$\n",
    "\n",
    "### $H_1: \\mu \\neq 500$"
   ],
   "cell_type": "markdown",
   "metadata": {}
  },
  {
   "source": [
    "### ** Step 2 ** - choosing the appropriate sample distribution\n",
    "<img src='https://caelum-online-public.s3.amazonaws.com/1229-estatistica-parte3/01/img003.png' width=70%>"
   ],
   "cell_type": "markdown",
   "metadata": {}
  },
  {
   "source": [
    "### Is the sample size greater than 30?\n",
    "#### Ans .: Yes\n",
    "\n",
    "### Is the population standard deviation known?\n",
    "#### Ans .: No"
   ],
   "cell_type": "markdown",
   "metadata": {}
  },
  {
   "source": [
    "### ** Step 3 ** - fixing the test significance ($\\alpha$)\n",
    "\n",
    "https://docs.scipy.org/doc/scipy/reference/generated/scipy.stats.norm.html"
   ],
   "cell_type": "markdown",
   "metadata": {}
  },
  {
   "cell_type": "code",
   "execution_count": 28,
   "metadata": {},
   "outputs": [],
   "source": [
    "from scipy.stats import norm"
   ]
  },
  {
   "cell_type": "code",
   "execution_count": 29,
   "metadata": {},
   "outputs": [
    {
     "output_type": "execute_result",
     "data": {
      "text/plain": [
       "0.975"
      ]
     },
     "metadata": {},
     "execution_count": 29
    }
   ],
   "source": [
    "probability = (0.5 + (confidence / 2))\n",
    "probability"
   ]
  },
  {
   "source": [
    "### Get $z_{\\alpha/2}$"
   ],
   "cell_type": "markdown",
   "metadata": {}
  },
  {
   "cell_type": "code",
   "execution_count": 30,
   "metadata": {},
   "outputs": [
    {
     "output_type": "execute_result",
     "data": {
      "text/plain": [
       "1.959963984540054"
      ]
     },
     "metadata": {},
     "execution_count": 30
    }
   ],
   "source": [
    "z_alpha_2 = norm.ppf(probability)\n",
    "z_alpha_2"
   ]
  },
  {
   "source": [
    "![Região de Aceitação](https://caelum-online-public.s3.amazonaws.com/1229-estatistica-parte3/01/img006.png)"
   ],
   "cell_type": "markdown",
   "metadata": {}
  },
  {
   "source": [
    "---"
   ],
   "cell_type": "markdown",
   "metadata": {}
  },
  {
   "source": [
    "### ** Step 4 ** - calculation of the test statistic and verification of this value with the test acceptance and rejection areas\n",
    "\n",
    "# $$z = \\frac{\\bar{x} - \\mu_0}{\\frac{s}{\\sqrt{n}}}$$"
   ],
   "cell_type": "markdown",
   "metadata": {}
  },
  {
   "cell_type": "code",
   "execution_count": 31,
   "metadata": {},
   "outputs": [
    {
     "output_type": "execute_result",
     "data": {
      "text/plain": [
       "5.109559775991877"
      ]
     },
     "metadata": {},
     "execution_count": 31
    }
   ],
   "source": [
    "z = (sample_average - mean) / (sample_std / np.sqrt(n))\n",
    "z"
   ]
  },
  {
   "source": [
    "![Estatística-Teste](https://caelum-online-public.s3.amazonaws.com/1229-estatistica-parte3/01/img007.png)"
   ],
   "cell_type": "markdown",
   "metadata": {}
  },
  {
   "source": [
    "---"
   ],
   "cell_type": "markdown",
   "metadata": {}
  },
  {
   "source": [
    "### ** Step 5 ** - Acceptance or rejection of the null hypothesis\n",
    "\n",
    "<img src='https://caelum-online-public.s3.amazonaws.com/1229-estatistica-parte3/01/img013.png' width=90%>"
   ],
   "cell_type": "markdown",
   "metadata": {}
  },
  {
   "source": [
    "### <font color='red'>Critical value criteria</font>\n",
    "\n",
    "> ### Two-tailed test\n",
    "> ### Reject $H_0$ if $z \\leq -z_{\\alpha / 2}$ or if $z \\geq z_{\\alpha / 2}$"
   ],
   "cell_type": "markdown",
   "metadata": {}
  },
  {
   "cell_type": "code",
   "execution_count": 32,
   "metadata": {},
   "outputs": [
    {
     "output_type": "execute_result",
     "data": {
      "text/plain": [
       "False"
      ]
     },
     "metadata": {},
     "execution_count": 32
    }
   ],
   "source": [
    "z <= -z_alpha_2"
   ]
  },
  {
   "cell_type": "code",
   "execution_count": 33,
   "metadata": {},
   "outputs": [
    {
     "output_type": "execute_result",
     "data": {
      "text/plain": [
       "True"
      ]
     },
     "metadata": {},
     "execution_count": 33
    }
   ],
   "source": [
    "z >= -z_alpha_2"
   ]
  },
  {
   "source": [
    "### <font color = 'green'> Conclusion: Since the sample average $\\bar{x}$ is significantly greater than 500 ml, we reject $H_0$. In this case, steps must be taken to adjust the machinery that fills the packaging. </font>"
   ],
   "cell_type": "markdown",
   "metadata": {}
  },
  {
   "source": [
    "### <font color='red'>$p-value$ criteria</font>\n",
    "\n",
    "> ### Two-tailed tests\n",
    "> ### Reject $H_0$ if value $p\\leq\\alpha$"
   ],
   "cell_type": "markdown",
   "metadata": {}
  },
  {
   "cell_type": "code",
   "execution_count": 34,
   "metadata": {},
   "outputs": [
    {
     "output_type": "execute_result",
     "data": {
      "text/plain": [
       "3.2291031715203644e-07"
      ]
     },
     "metadata": {},
     "execution_count": 34
    }
   ],
   "source": [
    "p_value = 2 * (1 - norm.cdf(z))\n",
    "p_value"
   ]
  },
  {
   "cell_type": "code",
   "execution_count": 35,
   "metadata": {},
   "outputs": [
    {
     "output_type": "execute_result",
     "data": {
      "text/plain": [
       "True"
      ]
     },
     "metadata": {},
     "execution_count": 35
    }
   ],
   "source": [
    "p_value <= significance"
   ]
  },
  {
   "cell_type": "code",
   "execution_count": 37,
   "metadata": {},
   "outputs": [
    {
     "output_type": "execute_result",
     "data": {
      "text/plain": [
       "3.229103172445718e-07"
      ]
     },
     "metadata": {},
     "execution_count": 37
    }
   ],
   "source": [
    "#other way to calculate with norm\n",
    "p_value = 2 * (norm.sf(z))\n",
    "p_value"
   ]
  },
  {
   "cell_type": "code",
   "execution_count": 38,
   "metadata": {},
   "outputs": [
    {
     "output_type": "execute_result",
     "data": {
      "text/plain": [
       "True"
      ]
     },
     "metadata": {},
     "execution_count": 38
    }
   ],
   "source": [
    "p_value <= significance"
   ]
  },
  {
   "cell_type": "code",
   "execution_count": 39,
   "metadata": {},
   "outputs": [],
   "source": [
    "from statsmodels.stats.weightstats import ztest"
   ]
  },
  {
   "cell_type": "code",
   "execution_count": 40,
   "metadata": {},
   "outputs": [
    {
     "output_type": "execute_result",
     "data": {
      "text/plain": [
       "(array([5.10955978]), array([3.22910317e-07]))"
      ]
     },
     "metadata": {},
     "execution_count": 40
    }
   ],
   "source": [
    "ztest(x1 = sample, value = mean)"
   ]
  },
  {
   "cell_type": "code",
   "execution_count": 41,
   "metadata": {},
   "outputs": [],
   "source": [
    "from statsmodels.stats.weightstats import DescrStatsW"
   ]
  },
  {
   "cell_type": "code",
   "execution_count": 42,
   "metadata": {},
   "outputs": [],
   "source": [
    "test = DescrStatsW(sample)"
   ]
  },
  {
   "cell_type": "code",
   "execution_count": 45,
   "metadata": {},
   "outputs": [
    {
     "output_type": "stream",
     "name": "stdout",
     "text": [
      "5.109559775991874\n3.2291031724457596e-07\n"
     ]
    }
   ],
   "source": [
    "z, p_value = test.ztest_mean(value = mean)\n",
    "print(z[0])\n",
    "print(p_value[0])"
   ]
  }
 ]
}