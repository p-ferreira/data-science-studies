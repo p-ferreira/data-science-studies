{
 "metadata": {
  "language_info": {
   "codemirror_mode": {
    "name": "ipython",
    "version": 3
   },
   "file_extension": ".py",
   "mimetype": "text/x-python",
   "name": "python",
   "nbconvert_exporter": "python",
   "pygments_lexer": "ipython3",
   "version": "3.8.5"
  },
  "orig_nbformat": 2,
  "kernelspec": {
   "name": "python385jvsc74a57bd0694c8744488563f6cd2d93f9dc805a9ad929a19bb6157c2d6f3cab25a4c31ca1",
   "display_name": "Python 3.8.5 64-bit ('base': conda)"
  }
 },
 "nbformat": 4,
 "nbformat_minor": 2,
 "cells": [
  {
   "source": [
    "## Importing libraries and dataset"
   ],
   "cell_type": "markdown",
   "metadata": {}
  },
  {
   "cell_type": "code",
   "execution_count": 2,
   "metadata": {},
   "outputs": [
    {
     "output_type": "execute_result",
     "data": {
      "text/plain": [
       "   UF  Sex  Age  Color  Years of study  Income    Height\n",
       "0  11    0   23      8              12     800  1.603808\n",
       "1  11    1   23      2              12    1150  1.739790\n",
       "2  11    1   35      8              15     880  1.760444\n",
       "3  11    0   46      2               6    3500  1.783158\n",
       "4  11    1   47      8               9     150  1.690631"
      ],
      "text/html": "<div>\n<style scoped>\n    .dataframe tbody tr th:only-of-type {\n        vertical-align: middle;\n    }\n\n    .dataframe tbody tr th {\n        vertical-align: top;\n    }\n\n    .dataframe thead th {\n        text-align: right;\n    }\n</style>\n<table border=\"1\" class=\"dataframe\">\n  <thead>\n    <tr style=\"text-align: right;\">\n      <th></th>\n      <th>UF</th>\n      <th>Sex</th>\n      <th>Age</th>\n      <th>Color</th>\n      <th>Years of study</th>\n      <th>Income</th>\n      <th>Height</th>\n    </tr>\n  </thead>\n  <tbody>\n    <tr>\n      <th>0</th>\n      <td>11</td>\n      <td>0</td>\n      <td>23</td>\n      <td>8</td>\n      <td>12</td>\n      <td>800</td>\n      <td>1.603808</td>\n    </tr>\n    <tr>\n      <th>1</th>\n      <td>11</td>\n      <td>1</td>\n      <td>23</td>\n      <td>2</td>\n      <td>12</td>\n      <td>1150</td>\n      <td>1.739790</td>\n    </tr>\n    <tr>\n      <th>2</th>\n      <td>11</td>\n      <td>1</td>\n      <td>35</td>\n      <td>8</td>\n      <td>15</td>\n      <td>880</td>\n      <td>1.760444</td>\n    </tr>\n    <tr>\n      <th>3</th>\n      <td>11</td>\n      <td>0</td>\n      <td>46</td>\n      <td>2</td>\n      <td>6</td>\n      <td>3500</td>\n      <td>1.783158</td>\n    </tr>\n    <tr>\n      <th>4</th>\n      <td>11</td>\n      <td>1</td>\n      <td>47</td>\n      <td>8</td>\n      <td>9</td>\n      <td>150</td>\n      <td>1.690631</td>\n    </tr>\n  </tbody>\n</table>\n</div>"
     },
     "metadata": {},
     "execution_count": 2
    }
   ],
   "source": [
    "import pandas as pd\r\n",
    "import numpy as np\r\n",
    "\r\n",
    "data = pd.read_csv('data/data.csv', sep = ',')"
   ]
  },
  {
   "source": [
    "## <font color = green> Tests for Two Samples </font>\n",
    "***\n",
    "\n",
    "## <font color = 'red'> Problem </font>\n",
    "\n",
    "\n",
    "In our dataset we have the income of heads of households obtained from the National Household Sample Survey - PNAD in 2015. A well-known problem in our country concerns income inequality, especially between men and women.\n",
    "\n",
    "Two random samples, one from ** 500 men ** and the other with ** 500 women **, were selected in our dataset. In order to prove this inequality, ** test the equality of means ** between these two samples with a level of ** significance of 1% **.\n",
    "\n",
    "---\n",
    "\n",
    "It is also possible to use hypothesis tests to compare two different samples. In this type of test, you want to decide whether a sample is different from the other."
   ],
   "cell_type": "markdown",
   "metadata": {}
  },
  {
   "source": [
    "### Selection of samples"
   ],
   "cell_type": "markdown",
   "metadata": {}
  },
  {
   "cell_type": "code",
   "execution_count": 5,
   "metadata": {},
   "outputs": [],
   "source": [
    "men = data.query('Sex == 0').sample(500, random_state=101)['Income']"
   ]
  },
  {
   "cell_type": "code",
   "execution_count": 7,
   "metadata": {},
   "outputs": [],
   "source": [
    "women = data.query('Sex != 0').sample(500, random_state=101)['Income']"
   ]
  },
  {
   "source": [
    "### Problem data"
   ],
   "cell_type": "markdown",
   "metadata": {}
  },
  {
   "cell_type": "code",
   "execution_count": 12,
   "metadata": {},
   "outputs": [
    {
     "output_type": "execute_result",
     "data": {
      "text/plain": [
       "2142.608"
      ]
     },
     "metadata": {},
     "execution_count": 12
    }
   ],
   "source": [
    "men_sample_average = men.mean() \n",
    "men_sample_average"
   ]
  },
  {
   "cell_type": "code",
   "execution_count": 13,
   "metadata": {},
   "outputs": [
    {
     "output_type": "execute_result",
     "data": {
      "text/plain": [
       "1357.528"
      ]
     },
     "metadata": {},
     "execution_count": 13
    }
   ],
   "source": [
    "women_sample_average = women.mean() \n",
    "women_sample_average"
   ]
  },
  {
   "cell_type": "code",
   "execution_count": 14,
   "metadata": {},
   "outputs": [
    {
     "output_type": "execute_result",
     "data": {
      "text/plain": [
       "2142.608"
      ]
     },
     "metadata": {},
     "execution_count": 14
    }
   ],
   "source": [
    "men_sample_std = men.std()  \n",
    "men_sample_average"
   ]
  },
  {
   "cell_type": "code",
   "execution_count": 15,
   "metadata": {},
   "outputs": [
    {
     "output_type": "execute_result",
     "data": {
      "text/plain": [
       "1569.9011907484578"
      ]
     },
     "metadata": {},
     "execution_count": 15
    }
   ],
   "source": [
    "women_sample_std = women.std()  \n",
    "women_sample_std"
   ]
  },
  {
   "cell_type": "code",
   "execution_count": 17,
   "metadata": {},
   "outputs": [],
   "source": [
    "significance = 0.01\n",
    "confidence = 1 - significance\n",
    "n_men = 500\n",
    "n_women = 500\n",
    "d_0 = 0 #difference between averages"
   ]
  },
  {
   "source": [
    "---"
   ],
   "cell_type": "markdown",
   "metadata": {}
  },
  {
   "source": [
    "### ** Step 1 ** - formulation of hypotheses $ H_0 $ and $ H_1 $\n",
    "\n",
    "#### <font color = 'red'> Remember, the null hypothesis always contains the equality claim </font>\n",
    "\n",
    "### $\\mu_1\\Rightarrow $ Average incomes of male household heads\n",
    "### $\\mu_2\\Rightarrow $ Average income of female household heads\n",
    "\n",
    "\n",
    "$\n",
    "\\begin{cases}\n",
    "H_0: \\mu_1 \\leq \\mu_2\\\\\n",
    "H_1: \\mu_1 > \\mu_2\n",
    "\\end{cases}\n",
    "$\n",
    "\n",
    "### or\n",
    "\n",
    " $\n",
    "\\begin{cases}\n",
    "H_0: \\mu_1 -\\mu_2 \\leq 0\\\\\n",
    "H_1: \\mu_1 -\\mu_2 > 0\n",
    "\\end{cases}\n",
    "$"
   ],
   "cell_type": "markdown",
   "metadata": {}
  },
  {
   "source": [
    "### ** Step 2 ** - choose the appropriate sample distribution\n",
    "<img src='https://caelum-online-public.s3.amazonaws.com/1229-estatistica-parte3/01/img003.png' width = 70%>\n",
    "\n",
    "### <font color = 'red'> Important note </font>\n",
    "> In tests involving two samples using the Student's $ t $ table, the number of degrees of freedom will always be equal to $ n_1 + n_2 - 2 $"
   ],
   "cell_type": "markdown",
   "metadata": {}
  },
  {
   "source": [
    "### Is the sample size greater than 30?\n",
    "#### Ans .: Yes\n",
    "\n",
    "### Is the population standard deviation known?\n",
    "#### Ans .: No\n",
    "\n",
    "---\n",
    "\n"
   ],
   "cell_type": "markdown",
   "metadata": {}
  },
  {
   "source": [
    "### ** Step 3 ** - fixing the test significance ($\\alpha$)"
   ],
   "cell_type": "markdown",
   "metadata": {}
  },
  {
   "cell_type": "code",
   "execution_count": 19,
   "metadata": {},
   "outputs": [
    {
     "output_type": "execute_result",
     "data": {
      "text/plain": [
       "0.99"
      ]
     },
     "metadata": {},
     "execution_count": 19
    }
   ],
   "source": [
    "probability = confidence\n",
    "probability "
   ]
  },
  {
   "cell_type": "code",
   "execution_count": 21,
   "metadata": {},
   "outputs": [
    {
     "output_type": "execute_result",
     "data": {
      "text/plain": [
       "2.33"
      ]
     },
     "metadata": {},
     "execution_count": 21
    }
   ],
   "source": [
    "from scipy.stats import norm\n",
    "\n",
    "z_alpha = norm.ppf(probability)\n",
    "z_alpha.round(2)"
   ]
  },
  {
   "source": [
    "![Região de Aceitação](https://caelum-online-public.s3.amazonaws.com/1229-estatistica-parte3/01/img011.png)"
   ],
   "cell_type": "markdown",
   "metadata": {}
  },
  {
   "source": [
    "---"
   ],
   "cell_type": "markdown",
   "metadata": {}
  },
  {
   "source": [
    "### ** Step 4 ** - calculation of the test statistic and verification of this value with the test acceptance and rejection areas\n",
    "\n",
    "# $$ z = \\frac{(\\bar{x_1} - \\bar{x_2}) - D_0} {\\sqrt {\\frac {s_1 ^ 2} {n_1} + \\frac {s_2 ^ 2} {n_2}} } $$"
   ],
   "cell_type": "markdown",
   "metadata": {}
  },
  {
   "cell_type": "code",
   "execution_count": 26,
   "metadata": {},
   "outputs": [
    {
     "output_type": "execute_result",
     "data": {
      "text/plain": [
       "5.86562005776475"
      ]
     },
     "metadata": {},
     "execution_count": 26
    }
   ],
   "source": [
    "numerator = (men_sample_average - women_sample_average) - d_0\n",
    "\n",
    "denominator = np.sqrt((men_sample_std ** 2 /n_men) + (women_sample_std ** 2/n_women))\n",
    "\n",
    "z = numerator/denominator\n",
    "z"
   ]
  },
  {
   "source": [
    "![Estatística-Teste](https://caelum-online-public.s3.amazonaws.com/1229-estatistica-parte3/01/img012.png)\n",
    "\n",
    "---"
   ],
   "cell_type": "markdown",
   "metadata": {}
  },
  {
   "source": [
    "### ** Step 5 ** - Acceptance or rejection of the null hypothesis\n",
    "\n",
    "<img src='https://caelum-online-public.s3.amazonaws.com/1229-estatistica-parte3/01/img014.png' width=90%>"
   ],
   "cell_type": "markdown",
   "metadata": {}
  },
  {
   "source": [
    "### <font color = 'red'> Critical value criterion </font>\n",
    "\n",
    "> ### One-tail test\n",
    "> ### Reject $ H_0 $ if $ z \\geq z _ {\\alpha} $"
   ],
   "cell_type": "markdown",
   "metadata": {}
  },
  {
   "cell_type": "code",
   "execution_count": 27,
   "metadata": {},
   "outputs": [
    {
     "output_type": "execute_result",
     "data": {
      "text/plain": [
       "True"
      ]
     },
     "metadata": {},
     "execution_count": 27
    }
   ],
   "source": [
    "z >= z_alpha"
   ]
  },
  {
   "source": [
    "### <font color = 'green'> Conclusion: With a 99% confidence level, we reject $ H_0 $, that is, we conclude that the average income of male household heads is higher than the average income of male household heads. female heads of households. Confirming the allegation of income inequality between the sexes. </font>"
   ],
   "cell_type": "markdown",
   "metadata": {}
  },
  {
   "source": [
    "### <font color='red'>$p$ value criterion</font>\n",
    "\n",
    "> ### One tail test\n",
    "> ### Reject $H_0$ if value $p\\leq\\alpha$"
   ],
   "cell_type": "markdown",
   "metadata": {}
  },
  {
   "source": [
    "https://www.statsmodels.org/dev/generated/statsmodels.stats.weightstats.DescrStatsW.html\n",
    "\n",
    "https://www.statsmodels.org/dev/generated/statsmodels.stats.weightstats.CompareMeans.ttest_ind.html"
   ],
   "cell_type": "markdown",
   "metadata": {}
  },
  {
   "cell_type": "code",
   "execution_count": 35,
   "metadata": {},
   "outputs": [],
   "source": [
    "from statsmodels.stats.weightstats import DescrStatsW, CompareMeans"
   ]
  },
  {
   "cell_type": "code",
   "execution_count": 36,
   "metadata": {},
   "outputs": [],
   "source": [
    "test_men = DescrStatsW(men)"
   ]
  },
  {
   "cell_type": "code",
   "execution_count": 37,
   "metadata": {},
   "outputs": [],
   "source": [
    "test_women = DescrStatsW(women)"
   ]
  },
  {
   "cell_type": "code",
   "execution_count": 47,
   "metadata": {},
   "outputs": [],
   "source": [
    "test_with_descrStatsW = test_men.get_compare(test_women)"
   ]
  },
  {
   "cell_type": "code",
   "execution_count": 48,
   "metadata": {},
   "outputs": [
    {
     "output_type": "execute_result",
     "data": {
      "text/plain": [
       "2.2372867859458255e-09"
      ]
     },
     "metadata": {},
     "execution_count": 48
    }
   ],
   "source": [
    "z, p_value = test_with_descrStatsW.ztest_ind(alternative='larger', value = 0)\n",
    "p_value"
   ]
  },
  {
   "cell_type": "code",
   "execution_count": 43,
   "metadata": {},
   "outputs": [
    {
     "output_type": "execute_result",
     "data": {
      "text/plain": [
       "True"
      ]
     },
     "metadata": {},
     "execution_count": 43
    }
   ],
   "source": [
    "p_value <= significance"
   ]
  },
  {
   "cell_type": "code",
   "execution_count": 49,
   "metadata": {},
   "outputs": [],
   "source": [
    "test_with_compareMeans = CompareMeans(test_men, test_women)"
   ]
  },
  {
   "cell_type": "code",
   "execution_count": 50,
   "metadata": {},
   "outputs": [
    {
     "output_type": "execute_result",
     "data": {
      "text/plain": [
       "2.2372867859458255e-09"
      ]
     },
     "metadata": {},
     "execution_count": 50
    }
   ],
   "source": [
    "z, p_value = test_with_compareMeans.ztest_ind(alternative='larger', value = 0)\n",
    "p_value"
   ]
  },
  {
   "cell_type": "code",
   "execution_count": 51,
   "metadata": {},
   "outputs": [
    {
     "output_type": "execute_result",
     "data": {
      "text/plain": [
       "True"
      ]
     },
     "metadata": {},
     "execution_count": 51
    }
   ],
   "source": [
    "p_value <= significance"
   ]
  }
 ]
}