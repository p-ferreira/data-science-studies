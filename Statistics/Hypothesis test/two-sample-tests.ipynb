{
 "metadata": {
  "language_info": {
   "codemirror_mode": {
    "name": "ipython",
    "version": 3
   },
   "file_extension": ".py",
   "mimetype": "text/x-python",
   "name": "python",
   "nbconvert_exporter": "python",
   "pygments_lexer": "ipython3",
   "version": "3.8.5"
  },
  "orig_nbformat": 2,
  "kernelspec": {
   "name": "python385jvsc74a57bd0694c8744488563f6cd2d93f9dc805a9ad929a19bb6157c2d6f3cab25a4c31ca1",
   "display_name": "Python 3.8.5 64-bit ('base': conda)"
  }
 },
 "nbformat": 4,
 "nbformat_minor": 2,
 "cells": [
  {
   "source": [
    "## <font color = green> Tests for Two Samples </font>\n",
    "***\n",
    "\n",
    "## <font color = 'red'> Problem </font>\n",
    "\n",
    "\n",
    "In our dataset we have the income of heads of households obtained from the National Household Sample Survey - PNAD in 2015. A well-known problem in our country concerns income inequality, especially between men and women.\n",
    "\n",
    "Two random samples, one from ** 500 men ** and the other with ** 500 women **, were selected in our dataset. In order to prove this inequality, ** test the equality of means ** between these two samples with a level of ** significance of 1% **.\n",
    "\n",
    "---\n",
    "\n",
    "It is also possible to use hypothesis tests to compare two different samples. In this type of test, you want to decide whether a sample is different from the other."
   ],
   "cell_type": "markdown",
   "metadata": {}
  },
  {
   "source": [
    "### Selection of samples"
   ],
   "cell_type": "markdown",
   "metadata": {}
  },
  {
   "cell_type": "code",
   "execution_count": null,
   "metadata": {},
   "outputs": [],
   "source": []
  },
  {
   "cell_type": "code",
   "execution_count": null,
   "metadata": {},
   "outputs": [],
   "source": []
  },
  {
   "source": [
    "### Problem data"
   ],
   "cell_type": "markdown",
   "metadata": {}
  },
  {
   "cell_type": "code",
   "execution_count": null,
   "metadata": {},
   "outputs": [],
   "source": []
  },
  {
   "cell_type": "code",
   "execution_count": null,
   "metadata": {},
   "outputs": [],
   "source": []
  },
  {
   "cell_type": "code",
   "execution_count": null,
   "metadata": {},
   "outputs": [],
   "source": []
  },
  {
   "cell_type": "code",
   "execution_count": null,
   "metadata": {},
   "outputs": [],
   "source": []
  },
  {
   "cell_type": "code",
   "execution_count": null,
   "metadata": {},
   "outputs": [],
   "source": []
  },
  {
   "source": [
    "---"
   ],
   "cell_type": "markdown",
   "metadata": {}
  },
  {
   "source": [
    "### ** Step 1 ** - formulation of hypotheses $ H_0 $ and $ H_1 $\n",
    "\n",
    "#### <font color = 'red'> Remember, the null hypothesis always contains the equality claim </font>\n",
    "\n",
    "### $\\mu_1\\ Rightarrow $ Average incomes of male household heads\n",
    "### $\\mu_2\\ Rightarrow $ Average income of female household heads\n",
    "\n",
    "### $\n",
    "\\begin {cases}\n",
    "H_0:\\mu_1\\leq\\mu_2\\\\\n",
    "H_1:\\mu_1>\\mu_2\n",
    "\\end {cases}\n",
    "$\n",
    "\n",
    "### or\n",
    "\n",
    "### $\n",
    "\\ begin {cases}\n",
    "H_0:\\mu_1-\\mu_2\\leq 0\\\\\n",
    "H_1:\\mu_1-\\mu_2> 0\n",
    "\\end {cases}\n",
    "$"
   ],
   "cell_type": "markdown",
   "metadata": {}
  },
  {
   "source": [
    "### ** Step 2 ** - choose the appropriate sample distribution\n",
    "<img src='https://caelum-online-public.s3.amazonaws.com/1229-estatistica-parte3/01/img003.png' width = 70%>\n",
    "\n",
    "### <font color = 'red'> Important note </font>\n",
    "> In tests involving two samples using the Student's $ t $ table, the number of degrees of freedom will always be equal to $ n_1 + n_2 - 2 $"
   ],
   "cell_type": "markdown",
   "metadata": {}
  },
  {
   "source": [
    "### Is the sample size greater than 30?\n",
    "#### Ans .: Yes\n",
    "\n",
    "### Is the population standard deviation known?\n",
    "#### Ans .: No\n",
    "\n",
    "---\n",
    "\n"
   ],
   "cell_type": "markdown",
   "metadata": {}
  },
  {
   "source": [
    "### ** Step 3 ** - fixing the test significance ($\\alpha$)"
   ],
   "cell_type": "markdown",
   "metadata": {}
  },
  {
   "cell_type": "code",
   "execution_count": null,
   "metadata": {},
   "outputs": [],
   "source": []
  },
  {
   "cell_type": "code",
   "execution_count": null,
   "metadata": {},
   "outputs": [],
   "source": []
  },
  {
   "source": [
    "![Região de Aceitação](https://caelum-online-public.s3.amazonaws.com/1229-estatistica-parte3/01/img011.png)"
   ],
   "cell_type": "markdown",
   "metadata": {}
  },
  {
   "source": [
    "---"
   ],
   "cell_type": "markdown",
   "metadata": {}
  },
  {
   "source": [
    "### ** Step 4 ** - calculation of the test statistic and verification of this value with the test acceptance and rejection areas\n",
    "\n",
    "# $$ z = \\frac{(\\bar{x_1} - \\bar{x_2}) - D_0} {\\sqrt {\\frac {s_1 ^ 2} {n_1} + \\frac {s_2 ^ 2} {n_2}} } $$"
   ],
   "cell_type": "markdown",
   "metadata": {}
  },
  {
   "cell_type": "code",
   "execution_count": null,
   "metadata": {},
   "outputs": [],
   "source": []
  },
  {
   "source": [
    "![Estatística-Teste](https://caelum-online-public.s3.amazonaws.com/1229-estatistica-parte3/01/img012.png)\n",
    "\n",
    "---"
   ],
   "cell_type": "markdown",
   "metadata": {}
  },
  {
   "source": [
    "### ** Step 5 ** - Acceptance or rejection of the null hypothesis\n",
    "\n",
    "<img src='https://caelum-online-public.s3.amazonaws.com/1229-estatistica-parte3/01/img014.png' width=90%>"
   ],
   "cell_type": "markdown",
   "metadata": {}
  },
  {
   "source": [
    "### <font color = 'red'> Critical value criterion </font>\n",
    "\n",
    "> ### One-tail test\n",
    "> ### Reject $ H_0 $ if $ z \\geq z _ {\\alpha} $"
   ],
   "cell_type": "markdown",
   "metadata": {}
  },
  {
   "source": [
    "https://www.statsmodels.org/dev/generated/statsmodels.stats.weightstats.DescrStatsW.html\n",
    "\n",
    "https://www.statsmodels.org/dev/generated/statsmodels.stats.weightstats.CompareMeans.ttest_ind.html"
   ],
   "cell_type": "markdown",
   "metadata": {}
  },
  {
   "cell_type": "code",
   "execution_count": null,
   "metadata": {},
   "outputs": [],
   "source": []
  },
  {
   "cell_type": "code",
   "execution_count": null,
   "metadata": {},
   "outputs": [],
   "source": []
  },
  {
   "cell_type": "code",
   "execution_count": null,
   "metadata": {},
   "outputs": [],
   "source": []
  },
  {
   "cell_type": "code",
   "execution_count": null,
   "metadata": {},
   "outputs": [],
   "source": []
  },
  {
   "cell_type": "code",
   "execution_count": null,
   "metadata": {},
   "outputs": [],
   "source": []
  },
  {
   "cell_type": "code",
   "execution_count": null,
   "metadata": {},
   "outputs": [],
   "source": []
  },
  {
   "cell_type": "code",
   "execution_count": null,
   "metadata": {},
   "outputs": [],
   "source": []
  },
  {
   "cell_type": "code",
   "execution_count": null,
   "metadata": {},
   "outputs": [],
   "source": []
  }
 ]
}