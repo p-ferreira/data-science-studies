{
 "metadata": {
  "language_info": {
   "codemirror_mode": {
    "name": "ipython",
    "version": 3
   },
   "file_extension": ".py",
   "mimetype": "text/x-python",
   "name": "python",
   "nbconvert_exporter": "python",
   "pygments_lexer": "ipython3",
   "version": "3.9.4"
  },
  "orig_nbformat": 2,
  "kernelspec": {
   "name": "python394jvsc74a57bd05e40cfd5df456b01bbed649c63f8dd74ac56c11d2cc0539f847558a4b9a696a2",
   "display_name": "Python 3.9.4 64-bit ('data-science-studies': conda)"
  }
 },
 "nbformat": 4,
 "nbformat_minor": 2,
 "cells": [
  {
   "source": [
    "Importing padas and reading the project dataset\n",
    "\n",
    "https://pandas.pydata.org/"
   ],
   "cell_type": "markdown",
   "metadata": {}
  },
  {
   "cell_type": "code",
   "execution_count": 4,
   "metadata": {},
   "outputs": [
    {
     "output_type": "execute_result",
     "data": {
      "text/plain": [
       "       UF  Sex  Age  Color  Years of study  Income    Height\n",
       "0      11    0   23      8              12     800  1.603808\n",
       "1      11    1   23      2              12    1150  1.739790\n",
       "2      11    1   35      8              15     880  1.760444\n",
       "3      11    0   46      2               6    3500  1.783158\n",
       "4      11    1   47      8               9     150  1.690631\n",
       "...    ..  ...  ...    ...             ...     ...       ...\n",
       "76835  53    1   46      2              11     812  1.687030\n",
       "76836  53    0   30      4               7    1500  1.792934\n",
       "76837  53    0   32      8              12    1300  1.830587\n",
       "76838  53    0   57      8               4    1500  1.726344\n",
       "76839  53    0   38      8               4     900  1.658305\n",
       "\n",
       "[76840 rows x 7 columns]"
      ],
      "text/html": "<div>\n<style scoped>\n    .dataframe tbody tr th:only-of-type {\n        vertical-align: middle;\n    }\n\n    .dataframe tbody tr th {\n        vertical-align: top;\n    }\n\n    .dataframe thead th {\n        text-align: right;\n    }\n</style>\n<table border=\"1\" class=\"dataframe\">\n  <thead>\n    <tr style=\"text-align: right;\">\n      <th></th>\n      <th>UF</th>\n      <th>Sex</th>\n      <th>Age</th>\n      <th>Color</th>\n      <th>Years of study</th>\n      <th>Income</th>\n      <th>Height</th>\n    </tr>\n  </thead>\n  <tbody>\n    <tr>\n      <th>0</th>\n      <td>11</td>\n      <td>0</td>\n      <td>23</td>\n      <td>8</td>\n      <td>12</td>\n      <td>800</td>\n      <td>1.603808</td>\n    </tr>\n    <tr>\n      <th>1</th>\n      <td>11</td>\n      <td>1</td>\n      <td>23</td>\n      <td>2</td>\n      <td>12</td>\n      <td>1150</td>\n      <td>1.739790</td>\n    </tr>\n    <tr>\n      <th>2</th>\n      <td>11</td>\n      <td>1</td>\n      <td>35</td>\n      <td>8</td>\n      <td>15</td>\n      <td>880</td>\n      <td>1.760444</td>\n    </tr>\n    <tr>\n      <th>3</th>\n      <td>11</td>\n      <td>0</td>\n      <td>46</td>\n      <td>2</td>\n      <td>6</td>\n      <td>3500</td>\n      <td>1.783158</td>\n    </tr>\n    <tr>\n      <th>4</th>\n      <td>11</td>\n      <td>1</td>\n      <td>47</td>\n      <td>8</td>\n      <td>9</td>\n      <td>150</td>\n      <td>1.690631</td>\n    </tr>\n    <tr>\n      <th>...</th>\n      <td>...</td>\n      <td>...</td>\n      <td>...</td>\n      <td>...</td>\n      <td>...</td>\n      <td>...</td>\n      <td>...</td>\n    </tr>\n    <tr>\n      <th>76835</th>\n      <td>53</td>\n      <td>1</td>\n      <td>46</td>\n      <td>2</td>\n      <td>11</td>\n      <td>812</td>\n      <td>1.687030</td>\n    </tr>\n    <tr>\n      <th>76836</th>\n      <td>53</td>\n      <td>0</td>\n      <td>30</td>\n      <td>4</td>\n      <td>7</td>\n      <td>1500</td>\n      <td>1.792934</td>\n    </tr>\n    <tr>\n      <th>76837</th>\n      <td>53</td>\n      <td>0</td>\n      <td>32</td>\n      <td>8</td>\n      <td>12</td>\n      <td>1300</td>\n      <td>1.830587</td>\n    </tr>\n    <tr>\n      <th>76838</th>\n      <td>53</td>\n      <td>0</td>\n      <td>57</td>\n      <td>8</td>\n      <td>4</td>\n      <td>1500</td>\n      <td>1.726344</td>\n    </tr>\n    <tr>\n      <th>76839</th>\n      <td>53</td>\n      <td>0</td>\n      <td>38</td>\n      <td>8</td>\n      <td>4</td>\n      <td>900</td>\n      <td>1.658305</td>\n    </tr>\n  </tbody>\n</table>\n<p>76840 rows × 7 columns</p>\n</div>"
     },
     "metadata": {},
     "execution_count": 4
    }
   ],
   "source": [
    "import pandas as pd\n",
    "\n",
    "data = pd.read_csv('data/data.csv')\n",
    "data"
   ]
  },
  {
   "source": [
    "## <font color=green>Data types</font>\n",
    "***"
   ],
   "cell_type": "markdown",
   "metadata": {}
  },
  {
   "source": [
    "### Ordinal qualitative variables\n",
    "\n",
    "► Variables that can be ordered or hierarchized"
   ],
   "cell_type": "markdown",
   "metadata": {}
  },
  {
   "cell_type": "code",
   "execution_count": 5,
   "metadata": {},
   "outputs": [
    {
     "output_type": "execute_result",
     "data": {
      "text/plain": [
       "[1, 2, 3, 4, 5, 6, 7, 8, 9, 10, 11, 12, 13, 14, 15, 16, 17]"
      ]
     },
     "metadata": {},
     "execution_count": 5
    }
   ],
   "source": [
    "sorted(data['Years of study'].unique())"
   ]
  },
  {
   "source": [
    "\n",
    "### Nominal qualitative variables\n",
    "\n",
    "► Variables that cannot be ordered or hierarchized "
   ],
   "cell_type": "markdown",
   "metadata": {}
  },
  {
   "cell_type": "code",
   "execution_count": 7,
   "metadata": {},
   "outputs": [
    {
     "output_type": "execute_result",
     "data": {
      "text/plain": [
       "[11,\n",
       " 12,\n",
       " 13,\n",
       " 14,\n",
       " 15,\n",
       " 16,\n",
       " 17,\n",
       " 21,\n",
       " 22,\n",
       " 23,\n",
       " 24,\n",
       " 25,\n",
       " 26,\n",
       " 27,\n",
       " 28,\n",
       " 29,\n",
       " 31,\n",
       " 32,\n",
       " 33,\n",
       " 35,\n",
       " 41,\n",
       " 42,\n",
       " 43,\n",
       " 50,\n",
       " 51,\n",
       " 52,\n",
       " 53]"
      ]
     },
     "metadata": {},
     "execution_count": 7
    }
   ],
   "source": [
    "sorted(data['UF'].unique())"
   ]
  },
  {
   "cell_type": "code",
   "execution_count": 8,
   "metadata": {},
   "outputs": [
    {
     "output_type": "execute_result",
     "data": {
      "text/plain": [
       "[0, 1]"
      ]
     },
     "metadata": {},
     "execution_count": 8
    }
   ],
   "source": [
    "sorted(data['Sex'].unique())"
   ]
  },
  {
   "cell_type": "code",
   "execution_count": 9,
   "metadata": {},
   "outputs": [
    {
     "output_type": "execute_result",
     "data": {
      "text/plain": [
       "[0, 2, 4, 6, 8]"
      ]
     },
     "metadata": {},
     "execution_count": 9
    }
   ],
   "source": [
    "sorted(data['Color'].unique())"
   ]
  },
  {
   "source": [
    "### Discrete quantitative variables\n",
    "\n",
    "► Variables that represent a count where the possible values form a finite or enumerable set."
   ],
   "cell_type": "markdown",
   "metadata": {}
  },
  {
   "cell_type": "code",
   "execution_count": 10,
   "metadata": {},
   "outputs": [
    {
     "output_type": "stream",
     "name": "stdout",
     "text": [
      "from 13 to 99 years\n"
     ]
    }
   ],
   "source": [
    "print('from %s to %s years' % (data['Age'].min(), data['Age'].max()))"
   ]
  },
  {
   "source": [
    "### Continuous quantitative variables\n",
    "\n",
    "► Variables that represent a count or measurement that assume values on a continuous scale (real numbers)."
   ],
   "cell_type": "markdown",
   "metadata": {}
  },
  {
   "cell_type": "code",
   "execution_count": 11,
   "metadata": {},
   "outputs": [
    {
     "output_type": "stream",
     "name": "stdout",
     "text": [
      "from 1.339244614 to 2.028496765 metters\n"
     ]
    }
   ],
   "source": [
    "print('from %s to %s metters' % (data['Height'].min(), data['Height'].max()))"
   ]
  },
  {
   "source": [
    "#### <font color = 'red'> Observation </font>\n",
    "***\n",
    "> The age variable can be classified in three different ways:\n",
    "\n",
    "> 1. <b> QUANTITATIVE DISCRETE </b> - when it represents complete years (whole numbers);\n",
    "\n",
    "> 2. <b> CONTINUOUS QUANTITATIVE </b> - when it represents the exact age, being represented by fractions of years; and\n",
    "\n",
    "> 3. <b> ORDINAL QUALITATIVE </b> - when it represents age groups."
   ],
   "cell_type": "markdown",
   "metadata": {}
  },
  {
   "source": [
    "### Variable classification (Portuguese)\n",
    "<img src='https://caelum-online-public.s3.amazonaws.com/1177-estatistica-parte1/01/img001.png' width='70%'>"
   ],
   "cell_type": "markdown",
   "metadata": {}
  }
 ]
}