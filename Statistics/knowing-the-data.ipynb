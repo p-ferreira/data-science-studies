{
 "metadata": {
  "language_info": {
   "codemirror_mode": {
    "name": "ipython",
    "version": 3
   },
   "file_extension": ".py",
   "mimetype": "text/x-python",
   "name": "python",
   "nbconvert_exporter": "python",
   "pygments_lexer": "ipython3",
   "version": "3.8.5"
  },
  "orig_nbformat": 2,
  "kernelspec": {
   "name": "python385jvsc74a57bd0694c8744488563f6cd2d93f9dc805a9ad929a19bb6157c2d6f3cab25a4c31ca1",
   "display_name": "Python 3.8.5 64-bit (conda)"
  }
 },
 "nbformat": 4,
 "nbformat_minor": 2,
 "cells": [
  {
   "source": [
    "# <font color=green>Knowing the data</font>\n",
    "***"
   ],
   "cell_type": "markdown",
   "metadata": {}
  },
  {
   "source": [
    "## <font color=green>Project dataset</font>\n",
    "***"
   ],
   "cell_type": "markdown",
   "metadata": {}
  },
  {
   "source": [
    "### National Household Sample Survey - 2015\n",
    "\n",
    "The <b> National Household Sample Survey - PNAD </b> annually investigates, on a permanent basis, general characteristics of the population, education, work, income and housing and others, with variable frequency, according to the information needs for the country, such as the characteristics of migration, fertility, nuptiality, health, food security, among other topics. The collection of these statistics constitutes, over the 49 years of conducting the research, an important instrument for the formulation, validation and evaluation of policies aimed at socioeconomic development and the improvement of living conditions in Brazil."
   ],
   "cell_type": "markdown",
   "metadata": {}
  },
  {
   "source": [
    "### Data source\n",
    "\n",
    "https://ww2.ibge.gov.br/home/estatistica/populacao/trabalhoerendimento/pnad2015/microdados.shtm"
   ],
   "cell_type": "markdown",
   "metadata": {}
  },
  {
   "source": [
    "### Used variables\n",
    "\n",
    "> ### Income\n",
    "> ***\n",
    "\n",
    "Monthly income from the main job for persons aged 10 and over.\n",
    "\n",
    "> ### Age\n",
    "> ***\n",
    "\n",
    "Resident's age on the reference date in years.\n",
    "\n",
    "> ### Height (own elaboration)\n",
    "> ***\n",
    "\n",
    "Dweller height in meters.\n",
    "\n",
    "> ### UF\n",
    "> ***\n",
    "\n",
    "|Code|Description|\n",
    "|---|---|\n",
    "|11|Rondônia|\n",
    "|12|Acre|\n",
    "|13|Amazonas|\n",
    "|14|Roraima|\n",
    "|15|Pará|\n",
    "|16|Amapá|\n",
    "|17|Tocantins|\n",
    "|21|Maranhão|\n",
    "|22|Piauí|\n",
    "|23|Ceará|\n",
    "|24|Rio Grande do Norte|\n",
    "|25|Paraíba|\n",
    "|26|Pernambuco|\n",
    "|27|Alagoas|\n",
    "|28|Sergipe|\n",
    "|29|Bahia|\n",
    "|31|Minas Gerais|\n",
    "|32|Espírito Santo|\n",
    "|33|Rio de Janeiro|\n",
    "|35|São Paulo|\n",
    "|41|Paraná|\n",
    "|42|Santa Catarina|\n",
    "|43|Rio Grande do Sul|\n",
    "|50|Mato Grosso do Sul|\n",
    "|51|Mato Grosso|\n",
    "|52|Goiás|\n",
    "|53|Distrito Federal|\n",
    "\n",
    "> ### Gender\t\n",
    "> ***\n",
    "\n",
    "|Code|Description|\n",
    "|---|---|\n",
    "|0|Masculino|\n",
    "|1|Feminino|\n",
    "\n",
    "> ### Years of studies\n",
    "> ***\n",
    "\n",
    "|Code|Description|\n",
    "|---|---|\n",
    "|1|Sem instrução e menos de 1 ano|\n",
    "|2|1 ano|\n",
    "|3|2 anos|\n",
    "|4|3 anos|\n",
    "|5|4 anos|\n",
    "|6|5 anos|\n",
    "|7|6 anos|\n",
    "|8|7 anos|\n",
    "|9|8 anos|\n",
    "|10|9 anos|\n",
    "|11|10 anos|\n",
    "|12|11 anos|\n",
    "|13|12 anos|\n",
    "|14|13 anos|\n",
    "|15|14 anos|\n",
    "|16|15 anos ou mais|\n",
    "|17|Não determinados| \n",
    "||Não aplicável|\n",
    "\n",
    "> ### Color\n",
    "> ***\n",
    "\n",
    "|Code|Description|\n",
    "|---|---|\n",
    "|0|Indígena|\n",
    "|2|Branca|\n",
    "|4|Preta|\n",
    "|6|Amarela|\n",
    "|8|Parda|\n",
    "|9|Sem declaração|"
   ],
   "cell_type": "markdown",
   "metadata": {}
  },
  {
   "source": [
    "#### <font color = 'red'> Observation </font>\n",
    "***\n",
    "> The following treatments were performed on the original data:\n",
    "> 1. Records where <b> Income </b> was invalid (999 999 999 999) were eliminated;\n",
    "> 2. Records where <b> Income </b> was missing were eliminated;\n",
    "> 3. Only the records of the <b> Reference Persons </b> of each household (responsible for the household) were considered."
   ],
   "cell_type": "markdown",
   "metadata": {}
  }
 ]
}