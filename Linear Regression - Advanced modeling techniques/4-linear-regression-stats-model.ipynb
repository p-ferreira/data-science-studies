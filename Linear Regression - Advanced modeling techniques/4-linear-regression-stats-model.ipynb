{
 "metadata": {
  "language_info": {
   "codemirror_mode": {
    "name": "ipython",
    "version": 3
   },
   "file_extension": ".py",
   "mimetype": "text/x-python",
   "name": "python",
   "nbconvert_exporter": "python",
   "pygments_lexer": "ipython3",
   "version": "3.8.5"
  },
  "orig_nbformat": 2,
  "kernelspec": {
   "name": "python385jvsc74a57bd0694c8744488563f6cd2d93f9dc805a9ad929a19bb6157c2d6f3cab25a4c31ca1",
   "display_name": "Python 3.8.5 64-bit (conda)"
  }
 },
 "nbformat": 4,
 "nbformat_minor": 2,
 "cells": [
  {
   "source": [
    "import pandas as pd\n",
    "import seaborn as sns\n",
    "import numpy as np\n",
    "\n",
    "data = pd.read_csv('data/dataset.csv', sep = ';')\n",
    "\n",
    "data['log_value'] = np.log(data['value'])\n",
    "data['log_area'] = np.log(data['area'])\n",
    "data['log_dist_beach'] = np.log(data['dist_beach'] + 1) #adds one due to log(0) = -inf\n",
    "data['log_dist_pharmacy'] = np.log(data['dist_pharmacy'] + 1) #adds one due to log(0) = -inf"
   ],
   "cell_type": "code",
   "metadata": {},
   "execution_count": 3,
   "outputs": []
  },
  {
   "source": [],
   "cell_type": "markdown",
   "metadata": {}
  },
  {
   "source": [
    "# <font color = 'red' style = 'font-size: 30px;'>Creating the * Training and Test Datasets *\n",
    "<hr style = 'border: 2px solid red;'>"
   ],
   "cell_type": "markdown",
   "metadata": {}
  },
  {
   "source": [
    "## Importing * train_test_split * from the * scikit-learn * library\n",
    "\n",
    "https://scikit-learn.org/stable/modules/generated/sklearn.model_selection.train_test_split.html"
   ],
   "cell_type": "markdown",
   "metadata": {}
  },
  {
   "cell_type": "code",
   "execution_count": 2,
   "metadata": {},
   "outputs": [],
   "source": [
    "from sklearn.model_selection import train_test_split"
   ]
  },
  {
   "source": [
    "## Creating a Series (pandas) to store the Property Price (y)"
   ],
   "cell_type": "markdown",
   "metadata": {}
  },
  {
   "cell_type": "code",
   "execution_count": 4,
   "metadata": {},
   "outputs": [],
   "source": [
    "y = data['log_value']"
   ]
  },
  {
   "source": [
    "## Creating a DataFrame (pandas) to store the explanatory variables (X)"
   ],
   "cell_type": "markdown",
   "metadata": {}
  },
  {
   "cell_type": "code",
   "execution_count": 5,
   "metadata": {},
   "outputs": [],
   "source": [
    "x = data[['log_area','log_dist_beach','log_dist_pharmacy']]"
   ]
  },
  {
   "source": [
    "## Creating the training and test datasets"
   ],
   "cell_type": "markdown",
   "metadata": {}
  },
  {
   "cell_type": "code",
   "execution_count": 8,
   "metadata": {},
   "outputs": [],
   "source": [
    "x_train, x_test, y_train, y_test = train_test_split(x, y, test_size=0.2, random_state=2811)"
   ]
  },
  {
   "source": [
    "# Linear Regression\n",
    "<hr>\n",
    "\n",
    "<p style = 'font-size: 20px; line-height: 2; margin: 10px 50px; text-align: justify; '> The regression analysis concerns the study of the dependence of a variable (the <b> dependent </b> variable) in relation to one or more variables, the explanatory variables, in order to estimate and / or predict the average value of the former in terms of the known or fixed values of the latter. </p>\n",
    "\n",
    "\n",
    "## scikit-learn (https://scikit-learn.org/stable/)\n",
    "\n",
    "<p style = 'font-size: 20px; line-height: 2; margin: 10px 50px; text-align: justify; '> * scikit-learn * is a Python module specialized in solutions for * machine learning *. </p>\n",
    "\n",
    "<img width='800px' src='data/img/Log-linear.png'>"
   ],
   "cell_type": "markdown",
   "metadata": {}
  },
  {
   "source": [
    "## Importing the statsmodels library\n",
    "\n",
    "https://www.statsmodels.org/stable/index.html"
   ],
   "cell_type": "markdown",
   "metadata": {}
  },
  {
   "cell_type": "code",
   "execution_count": 9,
   "metadata": {},
   "outputs": [],
   "source": [
    "import statsmodels.api as sm"
   ]
  },
  {
   "source": [
    "## Estimating the model with statsmodels"
   ],
   "cell_type": "markdown",
   "metadata": {}
  },
  {
   "cell_type": "code",
   "execution_count": 10,
   "metadata": {},
   "outputs": [],
   "source": [
    "x_train_with_const = sm.add_constant(x_train)"
   ]
  },
  {
   "cell_type": "code",
   "execution_count": 11,
   "metadata": {},
   "outputs": [
    {
     "output_type": "execute_result",
     "data": {
      "text/plain": [
       "      const  log_area  log_dist_beach  log_dist_pharmacy\n",
       "2661    1.0  5.945421        0.000000           0.382273\n",
       "912     1.0  3.135494        0.972865           0.605015\n",
       "3042    1.0  4.317488        1.794961           0.486594\n",
       "141     1.0  3.401197        0.310455           0.599609\n",
       "3854    1.0  5.676754        0.032193           0.101903\n",
       "...     ...       ...             ...                ...\n",
       "3657    1.0  5.075174        2.023480           0.333605\n",
       "979     1.0  4.174387        2.296141           0.156465\n",
       "2389    1.0  4.394449        1.367741           0.409727\n",
       "447     1.0  3.951244        2.166841           0.217381\n",
       "2008    1.0  4.406719        1.692269           0.537831\n",
       "\n",
       "[4000 rows x 4 columns]"
      ],
      "text/html": "<div>\n<style scoped>\n    .dataframe tbody tr th:only-of-type {\n        vertical-align: middle;\n    }\n\n    .dataframe tbody tr th {\n        vertical-align: top;\n    }\n\n    .dataframe thead th {\n        text-align: right;\n    }\n</style>\n<table border=\"1\" class=\"dataframe\">\n  <thead>\n    <tr style=\"text-align: right;\">\n      <th></th>\n      <th>const</th>\n      <th>log_area</th>\n      <th>log_dist_beach</th>\n      <th>log_dist_pharmacy</th>\n    </tr>\n  </thead>\n  <tbody>\n    <tr>\n      <th>2661</th>\n      <td>1.0</td>\n      <td>5.945421</td>\n      <td>0.000000</td>\n      <td>0.382273</td>\n    </tr>\n    <tr>\n      <th>912</th>\n      <td>1.0</td>\n      <td>3.135494</td>\n      <td>0.972865</td>\n      <td>0.605015</td>\n    </tr>\n    <tr>\n      <th>3042</th>\n      <td>1.0</td>\n      <td>4.317488</td>\n      <td>1.794961</td>\n      <td>0.486594</td>\n    </tr>\n    <tr>\n      <th>141</th>\n      <td>1.0</td>\n      <td>3.401197</td>\n      <td>0.310455</td>\n      <td>0.599609</td>\n    </tr>\n    <tr>\n      <th>3854</th>\n      <td>1.0</td>\n      <td>5.676754</td>\n      <td>0.032193</td>\n      <td>0.101903</td>\n    </tr>\n    <tr>\n      <th>...</th>\n      <td>...</td>\n      <td>...</td>\n      <td>...</td>\n      <td>...</td>\n    </tr>\n    <tr>\n      <th>3657</th>\n      <td>1.0</td>\n      <td>5.075174</td>\n      <td>2.023480</td>\n      <td>0.333605</td>\n    </tr>\n    <tr>\n      <th>979</th>\n      <td>1.0</td>\n      <td>4.174387</td>\n      <td>2.296141</td>\n      <td>0.156465</td>\n    </tr>\n    <tr>\n      <th>2389</th>\n      <td>1.0</td>\n      <td>4.394449</td>\n      <td>1.367741</td>\n      <td>0.409727</td>\n    </tr>\n    <tr>\n      <th>447</th>\n      <td>1.0</td>\n      <td>3.951244</td>\n      <td>2.166841</td>\n      <td>0.217381</td>\n    </tr>\n    <tr>\n      <th>2008</th>\n      <td>1.0</td>\n      <td>4.406719</td>\n      <td>1.692269</td>\n      <td>0.537831</td>\n    </tr>\n  </tbody>\n</table>\n<p>4000 rows × 4 columns</p>\n</div>"
     },
     "metadata": {},
     "execution_count": 11
    }
   ],
   "source": [
    "x_train_with_const"
   ]
  },
  {
   "cell_type": "code",
   "execution_count": 15,
   "metadata": {},
   "outputs": [],
   "source": [
    "model_statsmodels = sm.OLS(y_train, x_train_with_const, hasconst=True).fit()"
   ]
  },
  {
   "source": [
    "# <font color = 'red' style = 'font-size: 30px;'>Evaluating the Estimated Model </font>\n",
    "<hr style = 'border: 2px solid red;'>"
   ],
   "cell_type": "markdown",
   "metadata": {}
  },
  {
   "source": [
    "## Evaluating model test statistics"
   ],
   "cell_type": "markdown",
   "metadata": {}
  },
  {
   "cell_type": "code",
   "execution_count": 16,
   "metadata": {},
   "outputs": [
    {
     "output_type": "execute_result",
     "data": {
      "text/plain": [
       "<class 'statsmodels.iolib.summary.Summary'>\n",
       "\"\"\"\n",
       "                            OLS Regression Results                            \n",
       "==============================================================================\n",
       "Dep. Variable:              log_value   R-squared:                       0.805\n",
       "Model:                            OLS   Adj. R-squared:                  0.805\n",
       "Method:                 Least Squares   F-statistic:                     5495.\n",
       "Date:                Tue, 04 May 2021   Prob (F-statistic):               0.00\n",
       "Time:                        16:22:20   Log-Likelihood:                -2044.9\n",
       "No. Observations:                4000   AIC:                             4098.\n",
       "Df Residuals:                    3996   BIC:                             4123.\n",
       "Df Model:                           3                                         \n",
       "Covariance Type:            nonrobust                                         \n",
       "=====================================================================================\n",
       "                        coef    std err          t      P>|t|      [0.025      0.975]\n",
       "-------------------------------------------------------------------------------------\n",
       "const                 9.3417      0.060    154.734      0.000       9.223       9.460\n",
       "log_area              1.0580      0.012     89.320      0.000       1.035       1.081\n",
       "log_dist_beach       -0.4905      0.009    -56.690      0.000      -0.508      -0.474\n",
       "log_dist_pharmacy    -0.0167      0.032     -0.521      0.603      -0.080       0.046\n",
       "==============================================================================\n",
       "Omnibus:                       64.751   Durbin-Watson:                   1.971\n",
       "Prob(Omnibus):                  0.000   Jarque-Bera (JB):              106.858\n",
       "Skew:                           0.136   Prob(JB):                     6.25e-24\n",
       "Kurtosis:                       3.753   Cond. No.                         47.6\n",
       "==============================================================================\n",
       "\n",
       "Notes:\n",
       "[1] Standard Errors assume that the covariance matrix of the errors is correctly specified.\n",
       "\"\"\""
      ],
      "text/html": "<table class=\"simpletable\">\n<caption>OLS Regression Results</caption>\n<tr>\n  <th>Dep. Variable:</th>        <td>log_value</td>    <th>  R-squared:         </th> <td>   0.805</td>\n</tr>\n<tr>\n  <th>Model:</th>                   <td>OLS</td>       <th>  Adj. R-squared:    </th> <td>   0.805</td>\n</tr>\n<tr>\n  <th>Method:</th>             <td>Least Squares</td>  <th>  F-statistic:       </th> <td>   5495.</td>\n</tr>\n<tr>\n  <th>Date:</th>             <td>Tue, 04 May 2021</td> <th>  Prob (F-statistic):</th>  <td>  0.00</td> \n</tr>\n<tr>\n  <th>Time:</th>                 <td>16:22:20</td>     <th>  Log-Likelihood:    </th> <td> -2044.9</td>\n</tr>\n<tr>\n  <th>No. Observations:</th>      <td>  4000</td>      <th>  AIC:               </th> <td>   4098.</td>\n</tr>\n<tr>\n  <th>Df Residuals:</th>          <td>  3996</td>      <th>  BIC:               </th> <td>   4123.</td>\n</tr>\n<tr>\n  <th>Df Model:</th>              <td>     3</td>      <th>                     </th>     <td> </td>   \n</tr>\n<tr>\n  <th>Covariance Type:</th>      <td>nonrobust</td>    <th>                     </th>     <td> </td>   \n</tr>\n</table>\n<table class=\"simpletable\">\n<tr>\n          <td></td>             <th>coef</th>     <th>std err</th>      <th>t</th>      <th>P>|t|</th>  <th>[0.025</th>    <th>0.975]</th>  \n</tr>\n<tr>\n  <th>const</th>             <td>    9.3417</td> <td>    0.060</td> <td>  154.734</td> <td> 0.000</td> <td>    9.223</td> <td>    9.460</td>\n</tr>\n<tr>\n  <th>log_area</th>          <td>    1.0580</td> <td>    0.012</td> <td>   89.320</td> <td> 0.000</td> <td>    1.035</td> <td>    1.081</td>\n</tr>\n<tr>\n  <th>log_dist_beach</th>    <td>   -0.4905</td> <td>    0.009</td> <td>  -56.690</td> <td> 0.000</td> <td>   -0.508</td> <td>   -0.474</td>\n</tr>\n<tr>\n  <th>log_dist_pharmacy</th> <td>   -0.0167</td> <td>    0.032</td> <td>   -0.521</td> <td> 0.603</td> <td>   -0.080</td> <td>    0.046</td>\n</tr>\n</table>\n<table class=\"simpletable\">\n<tr>\n  <th>Omnibus:</th>       <td>64.751</td> <th>  Durbin-Watson:     </th> <td>   1.971</td>\n</tr>\n<tr>\n  <th>Prob(Omnibus):</th> <td> 0.000</td> <th>  Jarque-Bera (JB):  </th> <td> 106.858</td>\n</tr>\n<tr>\n  <th>Skew:</th>          <td> 0.136</td> <th>  Prob(JB):          </th> <td>6.25e-24</td>\n</tr>\n<tr>\n  <th>Kurtosis:</th>      <td> 3.753</td> <th>  Cond. No.          </th> <td>    47.6</td>\n</tr>\n</table><br/><br/>Notes:<br/>[1] Standard Errors assume that the covariance matrix of the errors is correctly specified."
     },
     "metadata": {},
     "execution_count": 16
    }
   ],
   "source": [
    "model_statsmodels.summary()"
   ]
  },
  {
   "source": [
    "# <font color = 'red' style = 'font-size: 30px;'>Modifying the Model and Reassessing the Fit </font>\n",
    "<hr style = 'border: 2px solid red;'>"
   ],
   "cell_type": "markdown",
   "metadata": {}
  },
  {
   "source": [
    "## Creating a new set of explanatory variables (X)"
   ],
   "cell_type": "markdown",
   "metadata": {}
  },
  {
   "cell_type": "code",
   "execution_count": 17,
   "metadata": {},
   "outputs": [],
   "source": [
    "x = data[['log_area', 'log_dist_beach']]"
   ]
  },
  {
   "source": [
    "## Creating the training and test datasets"
   ],
   "cell_type": "markdown",
   "metadata": {}
  },
  {
   "source": [
    "x_train, x_test, y_train, y_test = train_test_split(x, y, test_size=0.2, random_state=2811)"
   ],
   "cell_type": "code",
   "metadata": {},
   "execution_count": 18,
   "outputs": []
  },
  {
   "cell_type": "code",
   "execution_count": 19,
   "metadata": {},
   "outputs": [
    {
     "output_type": "execute_result",
     "data": {
      "text/plain": [
       "      log_area  log_dist_beach\n",
       "2661  5.945421        0.000000\n",
       "912   3.135494        0.972865\n",
       "3042  4.317488        1.794961\n",
       "141   3.401197        0.310455\n",
       "3854  5.676754        0.032193\n",
       "...        ...             ...\n",
       "3657  5.075174        2.023480\n",
       "979   4.174387        2.296141\n",
       "2389  4.394449        1.367741\n",
       "447   3.951244        2.166841\n",
       "2008  4.406719        1.692269\n",
       "\n",
       "[4000 rows x 2 columns]"
      ],
      "text/html": "<div>\n<style scoped>\n    .dataframe tbody tr th:only-of-type {\n        vertical-align: middle;\n    }\n\n    .dataframe tbody tr th {\n        vertical-align: top;\n    }\n\n    .dataframe thead th {\n        text-align: right;\n    }\n</style>\n<table border=\"1\" class=\"dataframe\">\n  <thead>\n    <tr style=\"text-align: right;\">\n      <th></th>\n      <th>log_area</th>\n      <th>log_dist_beach</th>\n    </tr>\n  </thead>\n  <tbody>\n    <tr>\n      <th>2661</th>\n      <td>5.945421</td>\n      <td>0.000000</td>\n    </tr>\n    <tr>\n      <th>912</th>\n      <td>3.135494</td>\n      <td>0.972865</td>\n    </tr>\n    <tr>\n      <th>3042</th>\n      <td>4.317488</td>\n      <td>1.794961</td>\n    </tr>\n    <tr>\n      <th>141</th>\n      <td>3.401197</td>\n      <td>0.310455</td>\n    </tr>\n    <tr>\n      <th>3854</th>\n      <td>5.676754</td>\n      <td>0.032193</td>\n    </tr>\n    <tr>\n      <th>...</th>\n      <td>...</td>\n      <td>...</td>\n    </tr>\n    <tr>\n      <th>3657</th>\n      <td>5.075174</td>\n      <td>2.023480</td>\n    </tr>\n    <tr>\n      <th>979</th>\n      <td>4.174387</td>\n      <td>2.296141</td>\n    </tr>\n    <tr>\n      <th>2389</th>\n      <td>4.394449</td>\n      <td>1.367741</td>\n    </tr>\n    <tr>\n      <th>447</th>\n      <td>3.951244</td>\n      <td>2.166841</td>\n    </tr>\n    <tr>\n      <th>2008</th>\n      <td>4.406719</td>\n      <td>1.692269</td>\n    </tr>\n  </tbody>\n</table>\n<p>4000 rows × 2 columns</p>\n</div>"
     },
     "metadata": {},
     "execution_count": 19
    }
   ],
   "source": [
    "x_train"
   ]
  },
  {
   "source": [
    "## Estimating the model with statsmodels"
   ],
   "cell_type": "markdown",
   "metadata": {}
  },
  {
   "cell_type": "code",
   "execution_count": 21,
   "metadata": {},
   "outputs": [
    {
     "output_type": "execute_result",
     "data": {
      "text/plain": [
       "      const  log_area  log_dist_beach\n",
       "2661    1.0  5.945421        0.000000\n",
       "912     1.0  3.135494        0.972865\n",
       "3042    1.0  4.317488        1.794961\n",
       "141     1.0  3.401197        0.310455\n",
       "3854    1.0  5.676754        0.032193\n",
       "...     ...       ...             ...\n",
       "3657    1.0  5.075174        2.023480\n",
       "979     1.0  4.174387        2.296141\n",
       "2389    1.0  4.394449        1.367741\n",
       "447     1.0  3.951244        2.166841\n",
       "2008    1.0  4.406719        1.692269\n",
       "\n",
       "[4000 rows x 3 columns]"
      ],
      "text/html": "<div>\n<style scoped>\n    .dataframe tbody tr th:only-of-type {\n        vertical-align: middle;\n    }\n\n    .dataframe tbody tr th {\n        vertical-align: top;\n    }\n\n    .dataframe thead th {\n        text-align: right;\n    }\n</style>\n<table border=\"1\" class=\"dataframe\">\n  <thead>\n    <tr style=\"text-align: right;\">\n      <th></th>\n      <th>const</th>\n      <th>log_area</th>\n      <th>log_dist_beach</th>\n    </tr>\n  </thead>\n  <tbody>\n    <tr>\n      <th>2661</th>\n      <td>1.0</td>\n      <td>5.945421</td>\n      <td>0.000000</td>\n    </tr>\n    <tr>\n      <th>912</th>\n      <td>1.0</td>\n      <td>3.135494</td>\n      <td>0.972865</td>\n    </tr>\n    <tr>\n      <th>3042</th>\n      <td>1.0</td>\n      <td>4.317488</td>\n      <td>1.794961</td>\n    </tr>\n    <tr>\n      <th>141</th>\n      <td>1.0</td>\n      <td>3.401197</td>\n      <td>0.310455</td>\n    </tr>\n    <tr>\n      <th>3854</th>\n      <td>1.0</td>\n      <td>5.676754</td>\n      <td>0.032193</td>\n    </tr>\n    <tr>\n      <th>...</th>\n      <td>...</td>\n      <td>...</td>\n      <td>...</td>\n    </tr>\n    <tr>\n      <th>3657</th>\n      <td>1.0</td>\n      <td>5.075174</td>\n      <td>2.023480</td>\n    </tr>\n    <tr>\n      <th>979</th>\n      <td>1.0</td>\n      <td>4.174387</td>\n      <td>2.296141</td>\n    </tr>\n    <tr>\n      <th>2389</th>\n      <td>1.0</td>\n      <td>4.394449</td>\n      <td>1.367741</td>\n    </tr>\n    <tr>\n      <th>447</th>\n      <td>1.0</td>\n      <td>3.951244</td>\n      <td>2.166841</td>\n    </tr>\n    <tr>\n      <th>2008</th>\n      <td>1.0</td>\n      <td>4.406719</td>\n      <td>1.692269</td>\n    </tr>\n  </tbody>\n</table>\n<p>4000 rows × 3 columns</p>\n</div>"
     },
     "metadata": {},
     "execution_count": 21
    }
   ],
   "source": [
    "x_train_with_const = sm.add_constant(x_train)\n",
    "x_train_with_const"
   ]
  },
  {
   "cell_type": "code",
   "execution_count": 22,
   "metadata": {},
   "outputs": [],
   "source": [
    "model_statsmodels = sm.OLS(y_train, x_train_with_const, hasconst=True).fit()"
   ]
  },
  {
   "source": [
    "## Evaluating the test statistics of the new model\n",
    "\n",
    "### Test of joint significance of the parameters\n",
    "\n",
    "Prob (F-statistic) < 0.05 (OK)\n",
    "\n",
    "### Test of individual significance of the parameters\n",
    "\n",
    "P> |t| < 0.05 (OK)"
   ],
   "cell_type": "markdown",
   "metadata": {}
  },
  {
   "source": [
    "## Evaluating test statistics for the new model"
   ],
   "cell_type": "markdown",
   "metadata": {}
  },
  {
   "cell_type": "code",
   "execution_count": 23,
   "metadata": {},
   "outputs": [
    {
     "output_type": "stream",
     "name": "stdout",
     "text": [
      "                            OLS Regression Results                            \n==============================================================================\nDep. Variable:              log_value   R-squared:                       0.805\nModel:                            OLS   Adj. R-squared:                  0.805\nMethod:                 Least Squares   F-statistic:                     8244.\nDate:                Tue, 04 May 2021   Prob (F-statistic):               0.00\nTime:                        16:38:09   Log-Likelihood:                -2045.1\nNo. Observations:                4000   AIC:                             4096.\nDf Residuals:                    3997   BIC:                             4115.\nDf Model:                           2                                         \nCovariance Type:            nonrobust                                         \n==================================================================================\n                     coef    std err          t      P>|t|      [0.025      0.975]\n----------------------------------------------------------------------------------\nconst              9.3349      0.059    158.353      0.000       9.219       9.450\nlog_area           1.0581      0.012     89.345      0.000       1.035       1.081\nlog_dist_beach    -0.4906      0.009    -56.709      0.000      -0.508      -0.474\n==============================================================================\nOmnibus:                       65.115   Durbin-Watson:                   1.972\nProb(Omnibus):                  0.000   Jarque-Bera (JB):              107.712\nSkew:                           0.136   Prob(JB):                     4.08e-24\nKurtosis:                       3.757   Cond. No.                         46.1\n==============================================================================\n\nNotes:\n[1] Standard Errors assume that the covariance matrix of the errors is correctly specified.\n"
     ]
    }
   ],
   "source": [
    "print(model_statsmodels.summary())"
   ]
  }
 ]
}