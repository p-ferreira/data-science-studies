{
 "metadata": {
  "language_info": {
   "codemirror_mode": {
    "name": "ipython",
    "version": 3
   },
   "file_extension": ".py",
   "mimetype": "text/x-python",
   "name": "python",
   "nbconvert_exporter": "python",
   "pygments_lexer": "ipython3",
   "version": "3.8.5"
  },
  "orig_nbformat": 2,
  "kernelspec": {
   "name": "python385jvsc74a57bd0694c8744488563f6cd2d93f9dc805a9ad929a19bb6157c2d6f3cab25a4c31ca1",
   "display_name": "Python 3.8.5 64-bit ('base': conda)"
  }
 },
 "nbformat": 4,
 "nbformat_minor": 2,
 "cells": [
  {
   "cell_type": "code",
   "execution_count": 3,
   "metadata": {},
   "outputs": [
    {
     "output_type": "execute_result",
     "data": {
      "text/plain": [
       "       BALANCE  BALANCE_FREQUENCY  ...  MINIMUM_PAYMENTS  PRC_FULL_PAYMENT\n",
       "0    40.900749           0.818182  ...        139.509787          0.000000\n",
       "1  3202.467416           0.909091  ...       1072.340217          0.222222\n",
       "2  2495.148862           1.000000  ...        627.284787          0.000000\n",
       "3  1666.670542           0.636364  ...               NaN          0.000000\n",
       "4   817.714335           1.000000  ...        244.791237          0.000000\n",
       "\n",
       "[5 rows x 16 columns]"
      ],
      "text/html": "<div>\n<style scoped>\n    .dataframe tbody tr th:only-of-type {\n        vertical-align: middle;\n    }\n\n    .dataframe tbody tr th {\n        vertical-align: top;\n    }\n\n    .dataframe thead th {\n        text-align: right;\n    }\n</style>\n<table border=\"1\" class=\"dataframe\">\n  <thead>\n    <tr style=\"text-align: right;\">\n      <th></th>\n      <th>BALANCE</th>\n      <th>BALANCE_FREQUENCY</th>\n      <th>PURCHASES</th>\n      <th>ONEOFF_PURCHASES</th>\n      <th>INSTALLMENTS_PURCHASES</th>\n      <th>CASH_ADVANCE</th>\n      <th>PURCHASES_FREQUENCY</th>\n      <th>ONEOFF_PURCHASES_FREQUENCY</th>\n      <th>PURCHASES_INSTALLMENTS_FREQUENCY</th>\n      <th>CASH_ADVANCE_FREQUENCY</th>\n      <th>CASH_ADVANCE_TRX</th>\n      <th>PURCHASES_TRX</th>\n      <th>CREDIT_LIMIT</th>\n      <th>PAYMENTS</th>\n      <th>MINIMUM_PAYMENTS</th>\n      <th>PRC_FULL_PAYMENT</th>\n    </tr>\n  </thead>\n  <tbody>\n    <tr>\n      <th>0</th>\n      <td>40.900749</td>\n      <td>0.818182</td>\n      <td>95.40</td>\n      <td>0.00</td>\n      <td>95.4</td>\n      <td>0.000000</td>\n      <td>0.166667</td>\n      <td>0.000000</td>\n      <td>0.083333</td>\n      <td>0.000000</td>\n      <td>0</td>\n      <td>2</td>\n      <td>1000.0</td>\n      <td>201.802084</td>\n      <td>139.509787</td>\n      <td>0.000000</td>\n    </tr>\n    <tr>\n      <th>1</th>\n      <td>3202.467416</td>\n      <td>0.909091</td>\n      <td>0.00</td>\n      <td>0.00</td>\n      <td>0.0</td>\n      <td>6442.945483</td>\n      <td>0.000000</td>\n      <td>0.000000</td>\n      <td>0.000000</td>\n      <td>0.250000</td>\n      <td>4</td>\n      <td>0</td>\n      <td>7000.0</td>\n      <td>4103.032597</td>\n      <td>1072.340217</td>\n      <td>0.222222</td>\n    </tr>\n    <tr>\n      <th>2</th>\n      <td>2495.148862</td>\n      <td>1.000000</td>\n      <td>773.17</td>\n      <td>773.17</td>\n      <td>0.0</td>\n      <td>0.000000</td>\n      <td>1.000000</td>\n      <td>1.000000</td>\n      <td>0.000000</td>\n      <td>0.000000</td>\n      <td>0</td>\n      <td>12</td>\n      <td>7500.0</td>\n      <td>622.066742</td>\n      <td>627.284787</td>\n      <td>0.000000</td>\n    </tr>\n    <tr>\n      <th>3</th>\n      <td>1666.670542</td>\n      <td>0.636364</td>\n      <td>1499.00</td>\n      <td>1499.00</td>\n      <td>0.0</td>\n      <td>205.788017</td>\n      <td>0.083333</td>\n      <td>0.083333</td>\n      <td>0.000000</td>\n      <td>0.083333</td>\n      <td>1</td>\n      <td>1</td>\n      <td>7500.0</td>\n      <td>0.000000</td>\n      <td>NaN</td>\n      <td>0.000000</td>\n    </tr>\n    <tr>\n      <th>4</th>\n      <td>817.714335</td>\n      <td>1.000000</td>\n      <td>16.00</td>\n      <td>16.00</td>\n      <td>0.0</td>\n      <td>0.000000</td>\n      <td>0.083333</td>\n      <td>0.083333</td>\n      <td>0.000000</td>\n      <td>0.000000</td>\n      <td>0</td>\n      <td>1</td>\n      <td>1200.0</td>\n      <td>678.334763</td>\n      <td>244.791237</td>\n      <td>0.000000</td>\n    </tr>\n  </tbody>\n</table>\n</div>"
     },
     "metadata": {},
     "execution_count": 3
    }
   ],
   "source": [
    "import pandas as pd\n",
    "\n",
    "df = pd.read_csv('data.csv')\n",
    "df.drop(columns=['CUST_ID', 'TENURE'], inplace=True)\n",
    "df.head()"
   ]
  },
  {
   "cell_type": "code",
   "execution_count": 4,
   "metadata": {},
   "outputs": [
    {
     "output_type": "stream",
     "name": "stdout",
     "text": [
      "BALANCE                               0\nBALANCE_FREQUENCY                     0\nPURCHASES                             0\nONEOFF_PURCHASES                      0\nINSTALLMENTS_PURCHASES                0\nCASH_ADVANCE                          0\nPURCHASES_FREQUENCY                   0\nONEOFF_PURCHASES_FREQUENCY            0\nPURCHASES_INSTALLMENTS_FREQUENCY      0\nCASH_ADVANCE_FREQUENCY                0\nCASH_ADVANCE_TRX                      0\nPURCHASES_TRX                         0\nCREDIT_LIMIT                          1\nPAYMENTS                              0\nMINIMUM_PAYMENTS                    313\nPRC_FULL_PAYMENT                      0\ndtype: int64\n"
     ]
    }
   ],
   "source": [
    "missing = df.isna().sum()\n",
    "print(missing)"
   ]
  },
  {
   "cell_type": "code",
   "execution_count": 7,
   "metadata": {},
   "outputs": [
    {
     "output_type": "stream",
     "name": "stdout",
     "text": [
      "BALANCE                             0\nBALANCE_FREQUENCY                   0\nPURCHASES                           0\nONEOFF_PURCHASES                    0\nINSTALLMENTS_PURCHASES              0\nCASH_ADVANCE                        0\nPURCHASES_FREQUENCY                 0\nONEOFF_PURCHASES_FREQUENCY          0\nPURCHASES_INSTALLMENTS_FREQUENCY    0\nCASH_ADVANCE_FREQUENCY              0\nCASH_ADVANCE_TRX                    0\nPURCHASES_TRX                       0\nCREDIT_LIMIT                        0\nPAYMENTS                            0\nMINIMUM_PAYMENTS                    0\nPRC_FULL_PAYMENT                    0\ndtype: int64\n"
     ]
    }
   ],
   "source": [
    "df.fillna(df.median(), inplace=True)\n",
    "\n",
    "missing = df.isna().sum()\n",
    "print(missing)"
   ]
  },
  {
   "cell_type": "code",
   "execution_count": 9,
   "metadata": {},
   "outputs": [
    {
     "output_type": "stream",
     "name": "stdout",
     "text": [
      "[[3.93555441e-02 7.87271593e-04 9.17958473e-02 ... 1.94178127e-01\n  1.34239194e-01 0.00000000e+00]\n [2.93875903e-01 8.34231560e-05 0.00000000e+00 ... 3.76516684e-01\n  9.84037959e-02 2.03923046e-05]\n [3.10798149e-01 1.24560965e-04 9.63068011e-02 ... 7.74852335e-02\n  7.81351982e-02 0.00000000e+00]\n ...\n [2.27733092e-02 8.11060955e-04 1.40540698e-01 ... 7.90986945e-02\n  8.02156174e-02 2.43318384e-04]\n [2.65257948e-02 1.64255731e-03 0.00000000e+00 ... 1.03579625e-01\n  1.09898221e-01 4.92767391e-04]\n [1.86406219e-01 3.33426837e-04 5.46778061e-01 ... 3.15915455e-02\n  4.41568390e-02 0.00000000e+00]]\n"
     ]
    }
   ],
   "source": [
    "from sklearn.preprocessing import Normalizer\n",
    "\n",
    "values = Normalizer().fit_transform(df.values)\n",
    "print(values)"
   ]
  },
  {
   "cell_type": "code",
   "execution_count": 10,
   "metadata": {},
   "outputs": [],
   "source": [
    "from sklearn.cluster import KMeans\n",
    "\n",
    "kmeans = KMeans(n_clusters = 5, n_init=10, max_iter=300)\n",
    "y_pred = kmeans.fit_predict(values)"
   ]
  },
  {
   "cell_type": "code",
   "execution_count": 11,
   "metadata": {},
   "outputs": [
    {
     "output_type": "stream",
     "name": "stdout",
     "text": [
      "0.3645055324417281\n"
     ]
    }
   ],
   "source": [
    "from sklearn import metrics\n",
    "\n",
    "labels = kmeans.labels_\n",
    "silhouette = metrics.silhouette_score(values, labels, metric='euclidean')\n",
    "\n",
    "print(silhouette)"
   ]
  },
  {
   "source": [
    "## Validation metrics\n",
    "\n",
    "\n",
    "\n",
    "### Compression Criteria\n",
    "\n",
    "The internal metrics are based on two validation criteria, the first of which is compression, which tells us how close the points are in the same cluster. The closer the points, the more compacted it is.\n",
    "\n",
    "\n",
    "### Separation Criteria\n",
    "\n",
    "The second validation criterion is separation, which indicates how well separated the points are in different clusters. The idea is just the opposite of compaction, the more distant the clusters are from each other, the better."
   ],
   "cell_type": "markdown",
   "metadata": {}
  },
  {
   "source": [
    "## Silhouette coefficient\n",
    "\n",
    "We have the formula for calculating the coefficient that is based on two main values: beta and alpha.\n",
    "\n",
    "\n",
    "<img src=\"imgs/silhouette-coefficient.png\" style=\"width: 300px\"/>\n",
    "\n",
    "We will start by calculating the alpha value, that is, the average distance between the point and all other points in the same cluster. Let's check the compression of the elements.\n",
    "\n",
    "We will use the same example of the three clusters, and each contains three elements.\n",
    "\n",
    "<img src=\"imgs/compaction.png\" style=\"width: 300px\"/>\n",
    "\n",
    "We will be based on two dimensions (x, y), and we will use two attributes of the 16 that we have available in our dataframe.\n",
    "\n",
    "We will select a specific point, a customer, and from there we will calculate the average for other elements of the cluster. We will call this first point \"A\".\n",
    "\n",
    "For the x-axis we will use the value of 1.0 and for y 0.9. That done, we will measure the distance from point \"A\" to point \"B\" and \"C\"\n",
    "\n",
    "<img src=\"imgs/graphic.png\" style=\"width: 300px\"/>\n",
    "\n",
    "We are using Euclidean distance, so we will use our formula.\n",
    "\n",
    "<img src=\"imgs/distance.png\" style=\"width: 300px\"/>\n",
    "\n",
    "The result of the calculations will be 0.8. This is the Euclidean distance between A and B. We will do the same procedure for C. The distance between point A and C is 1.12.\n",
    "\n",
    "Once this is done, we will obtain the average between the two final values, the result is 0.96. We will go back to the formula for the silhoette coefficient that we presented at the beginning of the class and insert this value in the alpha variable.\n",
    "\n",
    "Our next step is to calculate the beta value, which is the average distance between the point and all other points in the nearest cluster.\n",
    "\n",
    "In order to know which is the closest cluster, we must take the average between the points for the two clusters and collect the lowest value. We will do the same procedure as we did previously, but with different points.\n",
    "\n",
    "<img src=\"imgs/new-points.png\" style=\"width: 300px\"/>\n",
    "\n",
    "we will arrive at the final result of 3.1 from point A of the red cluster points. For the yellow cluster the result will be 1.31. The shortest distance is the second cluster, as we can see.\n",
    "\n",
    "<img src=\"imgs/formula.png\" style=\"width: 300px\"/>\n",
    "\n",
    "The final result will be 0.26. The result is always between 1 and -1, so in this case we have a good positive value."
   ],
   "cell_type": "markdown",
   "metadata": {}
  },
  {
   "cell_type": "code",
   "execution_count": 12,
   "metadata": {},
   "outputs": [
    {
     "output_type": "stream",
     "name": "stdout",
     "text": [
      "1.0756856623533984\n"
     ]
    }
   ],
   "source": [
    "dbs = metrics.davies_bouldin_score(values, labels)\n",
    "print(dbs)"
   ]
  },
  {
   "cell_type": "code",
   "execution_count": 13,
   "metadata": {},
   "outputs": [
    {
     "output_type": "stream",
     "name": "stdout",
     "text": [
      "3431.800717231778\n"
     ]
    }
   ],
   "source": [
    "calinski = metrics.calinski_harabasz_score(values, labels)\n",
    "print(calinski)"
   ]
  }
 ]
}